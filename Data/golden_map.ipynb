{
 "cells": [
  {
   "cell_type": "code",
   "execution_count": 1,
   "metadata": {},
   "outputs": [],
   "source": [
    "import json\n",
    "import requests\n",
    "import time\n",
    "from tqdm import tqdm\n",
    "from requests.adapters import HTTPAdapter\n",
    "from urllib3.util.retry import Retry\n"
   ]
  },
  {
   "cell_type": "code",
   "execution_count": 2,
   "metadata": {},
   "outputs": [],
   "source": [
    "def create_session():\n",
    "    session = requests.Session()\n",
    "    retries = Retry(total=5, backoff_factor=0.5, status_forcelist=[500, 502, 503, 504])\n",
    "    session.mount(\"https://\", HTTPAdapter(max_retries=retries))\n",
    "    return session\n",
    "\n",
    "session = create_session()\n",
    "\n",
    "def get_label_from_wikidata(entity_id, lang=\"en\"):\n",
    "    \"\"\"Truy vấn Wikidata API để lấy nhãn (tên) của mã thực thể hoặc quan hệ bằng ngôn ngữ cụ thể.\"\"\"\n",
    "    url = \"https://www.wikidata.org/w/api.php\"\n",
    "    params = {\n",
    "        \"action\": \"wbgetentities\",\n",
    "        \"ids\": entity_id,\n",
    "        \"format\": \"json\",\n",
    "        \"languages\": lang\n",
    "    }\n",
    "    \n",
    "    for _ in range(3):  # Thử lại tối đa 3 lần\n",
    "        try:\n",
    "            response = session.get(url, params=params, timeout=10)\n",
    "            response.raise_for_status()\n",
    "            data = response.json()\n",
    "            \n",
    "            if \"entities\" in data and entity_id in data[\"entities\"] and \"labels\" in data[\"entities\"][entity_id]:\n",
    "                label = data[\"entities\"][entity_id][\"labels\"].get(lang, {}).get(\"value\")\n",
    "                if label:\n",
    "                    return label\n",
    "            return get_label_from_wikidata(entity_id, \"en\") if lang != \"en\" else entity_id\n",
    "        except requests.RequestException:\n",
    "            time.sleep(1)\n",
    "    \n",
    "    return entity_id"
   ]
  },
  {
   "cell_type": "code",
   "execution_count": 3,
   "metadata": {},
   "outputs": [],
   "source": [
    "def process_triples(triples):\n",
    "    \"\"\"Xử lý triples để tạo gold_entity_map, gold_relation_map, gold_entity_vi_map, gold_relation_vi_map\"\"\"\n",
    "    gold_entity_map = {}\n",
    "    gold_relation_map = {}\n",
    "    gold_entity_vi_map = {}\n",
    "    gold_relation_vi_map = {}\n",
    "    \n",
    "    for triple in tqdm(triples, desc=\"Processing triples\"):\n",
    "        for item in triple:\n",
    "            if item.startswith(\"wd:\"):\n",
    "                entity_id = item.replace(\"wd:\", \"\")\n",
    "                gold_entity_map[entity_id] = get_label_from_wikidata(entity_id, \"en\")\n",
    "                gold_entity_vi_map[entity_id] = get_label_from_wikidata(entity_id, \"vi\")\n",
    "            elif item.startswith(\"wdt:\"):\n",
    "                relation_id = item.replace(\"wdt:\", \"\")\n",
    "                gold_relation_map[relation_id] = get_label_from_wikidata(relation_id, \"en\")\n",
    "                gold_relation_vi_map[relation_id] = get_label_from_wikidata(relation_id, \"vi\")\n",
    "    \n",
    "    return gold_entity_map, gold_relation_map, gold_entity_vi_map, gold_relation_vi_map\n"
   ]
  },
  {
   "cell_type": "code",
   "execution_count": 4,
   "metadata": {},
   "outputs": [],
   "source": [
    "def process_lc_quad(input_path, output_path):\n",
    "    \"\"\"Đọc file LC-QuAD2.0_test.json, bổ sung thuộc tính và lưu lại\"\"\"\n",
    "    with open(input_path, \"r\", encoding=\"utf-8\") as f:\n",
    "        data = json.load(f)\n",
    "    \n",
    "    for item in tqdm(data, desc=\"Processing questions\"):\n",
    "        triples = item.get(\"triples\", [])\n",
    "        gold_entity_map, gold_relation_map, gold_entity_vi_map, gold_relation_vi_map = process_triples(triples)\n",
    "        \n",
    "        item[\"gold_entity_map\"] = gold_entity_map\n",
    "        item[\"gold_relation_map\"] = gold_relation_map\n",
    "        item[\"gold_entity_vi_map\"] = gold_entity_vi_map\n",
    "        item[\"gold_relation_vi_map\"] = gold_relation_vi_map\n",
    "    \n",
    "    with open(output_path, \"w\", encoding=\"utf-8\") as f:\n",
    "        json.dump(data, f, indent=4, ensure_ascii=False)\n",
    "    \n",
    "    print(\"Đã xử lý xong và lưu vào\", output_path)"
   ]
  },
  {
   "cell_type": "code",
   "execution_count": null,
   "metadata": {},
   "outputs": [],
   "source": [
    "\n",
    "# Chạy xử lý trên file LC-QuAD2.0_test.json\n",
    "process_lc_quad(\"LC-QuAD2.0/nor_sexpr/test_nor.json\",\"LC-QuAD2.0/label_map/LC-QuAD2.0_test.json\")"
   ]
  }
 ],
 "metadata": {
  "kernelspec": {
   "display_name": "Python 3",
   "language": "python",
   "name": "python3"
  },
  "language_info": {
   "codemirror_mode": {
    "name": "ipython",
    "version": 3
   },
   "file_extension": ".py",
   "mimetype": "text/x-python",
   "name": "python",
   "nbconvert_exporter": "python",
   "pygments_lexer": "ipython3",
   "version": "3.11.9"
  }
 },
 "nbformat": 4,
 "nbformat_minor": 2
}
