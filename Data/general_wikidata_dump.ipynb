{
 "cells": [
  {
   "cell_type": "code",
   "execution_count": 1,
   "metadata": {},
   "outputs": [
    {
     "name": "stderr",
     "output_type": "stream",
     "text": [
      "100%|██████████| 8282/8282 [2:59:10<00:00,  1.30s/it]  "
     ]
    },
    {
     "name": "stdout",
     "output_type": "stream",
     "text": [
      "✅ File dump RDF đã được tạo thành công tại wikidata_dump.nt!\n"
     ]
    },
    {
     "name": "stderr",
     "output_type": "stream",
     "text": [
      "\n"
     ]
    }
   ],
   "source": [
    "from SPARQLWrapper import SPARQLWrapper, JSON\n",
    "import re\n",
    "import json\n",
    "from tqdm import tqdm \n",
    "# URL endpoint của Wikidata\n",
    "ENDPOINT_URL = \"https://query.wikidata.org/sparql\"\n",
    "\n",
    "# Đọc dữ liệu từ file JSON\n",
    "data = []\n",
    "for filename in [\"test.json\", \"train.json\"]:\n",
    "    with open(filename, \"r\", encoding=\"utf-8\") as json_file:\n",
    "        data.extend(json.load(json_file))\n",
    "\n",
    "# Cập nhật danh sách truy vấn từ dữ liệu JSON\n",
    "queries = [\n",
    "    {\n",
    "        \"query\": item[\"sparql\"],\n",
    "        \"target_variable\": item[\"target_variable\"].lstrip(\"?\")  # Loại bỏ dấu \"?\" khỏi target_variable\n",
    "    }\n",
    "    for item in data\n",
    "]\n",
    "# Hàm chạy truy vấn SPARQL\n",
    "def run_query(query):\n",
    "    sparql = SPARQLWrapper(ENDPOINT_URL)\n",
    "    sparql.setQuery(query)\n",
    "    sparql.setReturnFormat(JSON)\n",
    "    try:\n",
    "        return sparql.query().convert()\n",
    "    except Exception as e:\n",
    "        print(f\"Lỗi khi chạy truy vấn: {query}\\n{e}\")\n",
    "        return {\"results\": {\"bindings\": []}}\n",
    "\n",
    "# Hàm xác định tất cả các biến trong câu truy vấn\n",
    "def extract_variables(query):\n",
    "    return re.findall(r'\\?(\\w+)', query)\n",
    "\n",
    "# Hàm tách các bộ ba từ câu truy vấn\n",
    "def extract_triples(query):\n",
    "    pattern = re.compile(r'\\{(.*?)\\}', re.DOTALL)\n",
    "    match = pattern.search(query)\n",
    "    if match:\n",
    "        triples = match.group(1).split(\" . \")\n",
    "        return [triple.strip() for triple in triples if triple.strip()]\n",
    "    return []\n",
    "\n",
    "# File output RDF (N-Triples)\n",
    "output_file = \"wikidata_dump.nt\"\n",
    "\n",
    "with open(output_file, \"w\", encoding=\"utf-8\") as f:\n",
    "    for index, query_info in tqdm(enumerate(queries), total=len(queries)): \n",
    "        # if index % 100 == 0:  # Kiểm tra mỗi 100 câu truy vấn\n",
    "        #     print(f\"Đã duyệt qua {index} câu truy vấn.\")\n",
    "        triplet_set = set()\n",
    "        query = query_info[\"query\"]\n",
    "        target_variable = query_info[\"target_variable\"]\n",
    "        triples = extract_triples(query)\n",
    "        variables = extract_variables(query)\n",
    "        variables = list(set(variables) - {target_variable})  # Giữ lại các biến khác nhau, loại bỏ biến mục tiêu  # Loại bỏ biến mục tiêu khỏi danh sách biến trung gian\n",
    "        # Tạo từ điển lưu giá trị của các biến\n",
    "        variable_values = {var: [] for var in variables}\n",
    "        \n",
    "        # Truy vấn từng biến trung gian trước\n",
    "        for var in variables:\n",
    "            for triple in triples:\n",
    "                if f\"?{var}\" in triple and f\"{target_variable}\" not in triple:\n",
    "                    var_query = f\"SELECT ?{var} WHERE {{ {triple} }}\"\n",
    "                    results = run_query(var_query)\n",
    "                    variable_values[var].extend([res[var][\"value\"] for res in results[\"results\"][\"bindings\"] if var in res])\n",
    "        # Truy vấn biến mục tiêu cuối cùng\n",
    "        results = run_query(query)\n",
    "        for result in results[\"results\"][\"bindings\"]:\n",
    "            target_value = result.get(target_variable, {}).get(\"value\", \"\")\n",
    "            target_uri = f\"<{target_value}>\" if target_value else \"\"\n",
    "            \n",
    "            # Lưu bộ ba RDF hoàn chỉnh\n",
    "            for triple in triples:\n",
    "                modified_triple = triple\n",
    "                \n",
    "                # Thay thế tất cả các biến trung gian\n",
    "                for var, values in variable_values.items():\n",
    "                    for value in values:\n",
    "                        modified_triple = modified_triple.replace(f\"?{var}\", f\"<{value}>\")\n",
    "                # Thay thế biến mục tiêu\n",
    "                modified_triple = modified_triple.replace(f\"?{target_variable}\", target_uri)\n",
    "                # Chuẩn hóa cú pháp RDF\n",
    "                modified_triple = modified_triple.replace(\"wd:\", \"<http://www.wikidata.org/entity/\")\n",
    "                modified_triple = modified_triple.replace(\"wdt:\", \"<http://www.wikidata.org/prop/direct/\")\n",
    "                parts = modified_triple.split()  # Tách các thành phần\n",
    "                for i in range(len(parts)):\n",
    "                    if parts[i] == \".\":\n",
    "                        continue  # Bỏ qua trường hợp dấu chấm\n",
    "                    if not parts[i].startswith(\"<\") and not parts[i].endswith(\">\"):\n",
    "                        parts[i] = f\"<{parts[i].strip()}>\"\n",
    "                    elif parts[i].startswith(\"<\") and not parts[i].endswith(\">\"):\n",
    "                        parts[i] = parts[i].strip() + \">\"\n",
    "                    elif not parts[i].startswith(\"<\") and parts[i].endswith(\">\"):\n",
    "                        parts[i] = \"<\" + parts[i].strip()\n",
    "                modified_triple = \" \".join(parts)  # Kết hợp lại thành chuỗi\n",
    "                modified_triple = modified_triple + \".\\n\"\n",
    "                triplet_set.add(modified_triple)\n",
    "        for triplet in triplet_set:\n",
    "            f.write(triplet)\n",
    "\n",
    "print(f\"✅ File dump RDF đã được tạo thành công tại {output_file}!\")\n"
   ]
  }
 ],
 "metadata": {
  "kernelspec": {
   "display_name": "base",
   "language": "python",
   "name": "python3"
  },
  "language_info": {
   "codemirror_mode": {
    "name": "ipython",
    "version": 3
   },
   "file_extension": ".py",
   "mimetype": "text/x-python",
   "name": "python",
   "nbconvert_exporter": "python",
   "pygments_lexer": "ipython3",
   "version": "3.11.7"
  }
 },
 "nbformat": 4,
 "nbformat_minor": 2
}
