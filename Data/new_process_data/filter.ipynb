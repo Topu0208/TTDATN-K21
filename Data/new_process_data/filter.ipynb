{
 "cells": [
  {
   "cell_type": "code",
   "execution_count": 3,
   "metadata": {},
   "outputs": [
    {
     "name": "stdout",
     "output_type": "stream",
     "text": [
      "🔄 Bắt đầu xử lý 5590 điểm dữ liệu với 10 luồng...\n",
      "\n"
     ]
    },
    {
     "name": "stderr",
     "output_type": "stream",
     "text": [
      "⏳ Đang xử lý:  29%|██▉       | 1616/5590 [24:30<52:24,  1.26câu/s]  "
     ]
    },
    {
     "name": "stdout",
     "output_type": "stream",
     "text": [
      "❌ Lỗi khi xử lý câu hỏi 1202: expected string or bytes-like object, got 'NoneType'\n"
     ]
    },
    {
     "name": "stderr",
     "output_type": "stream",
     "text": [
      "⏳ Đang xử lý:  38%|███▊      | 2112/5590 [30:37<59:03,  1.02s/câu]  "
     ]
    },
    {
     "name": "stdout",
     "output_type": "stream",
     "text": [
      "❌ Lỗi khi xử lý câu hỏi 1563: expected string or bytes-like object, got 'NoneType'\n"
     ]
    },
    {
     "name": "stderr",
     "output_type": "stream",
     "text": [
      "⏳ Đang xử lý:  49%|████▉     | 2752/5590 [38:54<33:10,  1.43câu/s]  "
     ]
    },
    {
     "name": "stdout",
     "output_type": "stream",
     "text": [
      "❌ Lỗi khi xử lý câu hỏi 2046: expected string or bytes-like object, got 'NoneType'\n"
     ]
    },
    {
     "name": "stderr",
     "output_type": "stream",
     "text": [
      "⏳ Đang xử lý:  57%|█████▋    | 3162/5590 [44:15<29:02,  1.39câu/s]  "
     ]
    },
    {
     "name": "stdout",
     "output_type": "stream",
     "text": [
      "❌ Lỗi khi xử lý câu hỏi 2347: expected string or bytes-like object, got 'NoneType'\n"
     ]
    },
    {
     "name": "stderr",
     "output_type": "stream",
     "text": [
      "⏳ Đang xử lý:  57%|█████▋    | 3204/5590 [44:40<38:06,  1.04câu/s]"
     ]
    },
    {
     "name": "stdout",
     "output_type": "stream",
     "text": [
      "❌ Lỗi khi xử lý câu hỏi 2372: expected string or bytes-like object, got 'NoneType'\n"
     ]
    },
    {
     "name": "stderr",
     "output_type": "stream",
     "text": [
      "⏳ Đang xử lý:  57%|█████▋    | 3209/5590 [44:45<41:58,  1.06s/câu]"
     ]
    },
    {
     "name": "stdout",
     "output_type": "stream",
     "text": [
      "❌ Lỗi khi xử lý câu hỏi 2376: expected string or bytes-like object, got 'NoneType'\n"
     ]
    },
    {
     "name": "stderr",
     "output_type": "stream",
     "text": [
      "⏳ Đang xử lý:  65%|██████▍   | 3633/5590 [50:18<24:40,  1.32câu/s]  "
     ]
    },
    {
     "name": "stdout",
     "output_type": "stream",
     "text": [
      "❌ Lỗi khi xử lý câu hỏi 2679: expected string or bytes-like object, got 'NoneType'\n"
     ]
    },
    {
     "name": "stderr",
     "output_type": "stream",
     "text": [
      "⏳ Đang xử lý:  72%|███████▏  | 4017/5590 [55:52<29:01,  1.11s/câu]  "
     ]
    },
    {
     "name": "stdout",
     "output_type": "stream",
     "text": [
      "❌ Lỗi khi xử lý câu hỏi 2981: expected string or bytes-like object, got 'NoneType'\n"
     ]
    },
    {
     "name": "stderr",
     "output_type": "stream",
     "text": [
      "⏳ Đang xử lý:  78%|███████▊  | 4363/5590 [1:00:49<13:38,  1.50câu/s]"
     ]
    },
    {
     "name": "stdout",
     "output_type": "stream",
     "text": [
      "❌ Lỗi khi xử lý câu hỏi 3246: expected string or bytes-like object, got 'NoneType'\n"
     ]
    },
    {
     "name": "stderr",
     "output_type": "stream",
     "text": [
      "⏳ Đang xử lý:  81%|████████  | 4503/5590 [1:02:34<12:23,  1.46câu/s]"
     ]
    },
    {
     "name": "stdout",
     "output_type": "stream",
     "text": [
      "❌ Lỗi khi xử lý câu hỏi 3349: expected string or bytes-like object, got 'NoneType'\n"
     ]
    },
    {
     "name": "stderr",
     "output_type": "stream",
     "text": [
      "⏳ Đang xử lý:  82%|████████▏ | 4607/5590 [1:03:55<14:42,  1.11câu/s]"
     ]
    },
    {
     "name": "stdout",
     "output_type": "stream",
     "text": [
      "❌ Lỗi khi xử lý câu hỏi 3425: expected string or bytes-like object, got 'NoneType'\n"
     ]
    },
    {
     "name": "stderr",
     "output_type": "stream",
     "text": [
      "⏳ Đang xử lý:  83%|████████▎ | 4658/5590 [1:04:36<12:00,  1.29câu/s]"
     ]
    },
    {
     "name": "stdout",
     "output_type": "stream",
     "text": [
      "❌ Lỗi khi xử lý câu hỏi 3463: expected string or bytes-like object, got 'NoneType'\n"
     ]
    },
    {
     "name": "stderr",
     "output_type": "stream",
     "text": [
      "⏳ Đang xử lý:  84%|████████▍ | 4703/5590 [1:05:06<10:33,  1.40câu/s]"
     ]
    },
    {
     "name": "stdout",
     "output_type": "stream",
     "text": [
      "❌ Lỗi khi xử lý câu hỏi 3492: expected string or bytes-like object, got 'NoneType'\n"
     ]
    },
    {
     "name": "stderr",
     "output_type": "stream",
     "text": [
      "⏳ Đang xử lý:  90%|████████▉ | 5012/5590 [1:09:08<10:15,  1.06s/câu]"
     ]
    },
    {
     "name": "stdout",
     "output_type": "stream",
     "text": [
      "❌ Lỗi khi xử lý câu hỏi 3729: expected string or bytes-like object, got 'NoneType'\n"
     ]
    },
    {
     "name": "stderr",
     "output_type": "stream",
     "text": [
      "⏳ Đang xử lý: 100%|██████████| 5590/5590 [1:16:46<00:00,  1.21câu/s]\n"
     ]
    },
    {
     "name": "stdout",
     "output_type": "stream",
     "text": [
      "\n",
      "✅ Xử lý hoàn tất! Kết quả được lưu vào test_filtered.json\n",
      "⏳ Tổng thời gian xử lý: 4606.45 giây (76.77 phút)\n",
      "\n"
     ]
    }
   ],
   "source": [
    "import json\n",
    "import re\n",
    "import requests\n",
    "from tqdm import tqdm\n",
    "import time\n",
    "from concurrent.futures import ThreadPoolExecutor, as_completed\n",
    "WIKIDATA_SPARQL_ENDPOINT = \"https://query.wikidata.org/sparql\"\n",
    "WIKIDATA_API_ENDPOINT = \"https://www.wikidata.org/w/api.php\"\n",
    "MAX_THREADS = 10 \n",
    "def query_wikidata(sparql_query):\n",
    "    \"\"\"Truy vấn Wikidata và trả về danh sách câu trả lời (bao gồm tất cả biến)\"\"\"\n",
    "    headers = {\"User-Agent\": \"Mozilla/5.0\", \"Accept\": \"application/sparql-results+json\"}\n",
    "    response = requests.get(WIKIDATA_SPARQL_ENDPOINT, params={\"query\": sparql_query, \"format\": \"json\"}, headers=headers)\n",
    "\n",
    "    if response.status_code == 200:\n",
    "        results = response.json().get(\"results\", {}).get(\"bindings\", [])\n",
    "        answers = []\n",
    "\n",
    "        for result in results:\n",
    "            for var in result:  # Duyệt qua tất cả các biến trả về\n",
    "                value = result[var][\"value\"]\n",
    "                answers.append(value)  # Chấp nhận tất cả giá trị, không chỉ thực thể Wikidata\n",
    "\n",
    "        return answers  # Trả về toàn bộ danh sách kết quả\n",
    "\n",
    "    return []  # Trả về danh sách rỗng nếu có lỗi\n",
    "\n",
    "\n",
    "def get_wikidata_label(entity_id):\n",
    "    \"\"\" Lấy nhãn (label) tiếng Việt hoặc tiếng Anh của một thực thể/quan hệ \"\"\"\n",
    "    params = {\n",
    "        \"action\": \"wbgetentities\",\n",
    "        \"ids\": entity_id,\n",
    "        \"languages\": \"vi|en\",\n",
    "        \"format\": \"json\",\n",
    "    }\n",
    "    response = requests.get(WIKIDATA_API_ENDPOINT, params=params)\n",
    "    if response.status_code == 200:\n",
    "        data = response.json()\n",
    "        labels = data.get(\"entities\", {}).get(entity_id, {}).get(\"labels\", {})\n",
    "        return labels.get(\"vi\", {}).get(\"value\") or labels.get(\"en\", {}).get(\"value\") or entity_id\n",
    "    return entity_id\n",
    "\n",
    "def extract_entities_relations(sparql_query):\n",
    "    \"\"\" Trích xuất các thực thể (QID) và quan hệ (PID) từ SPARQL \"\"\"\n",
    "    entities = set(re.findall(r\"wd:(Q\\d+)\", sparql_query))\n",
    "    relations = set(re.findall(r\"wdt:(P\\d+)|p:(P\\d+)|ps:(P\\d+)|pq:(P\\d+)\", sparql_query))\n",
    "    relations = {r for t in relations for r in t if r}  # Xử lý tuple match\n",
    "    return list(entities), list(relations)\n",
    "\n",
    "def convert_s_expression_to_nor_s_expr(s_expression, entity_map, relation_map):\n",
    "    \"\"\" Chuyển s_expression thành nor_s_expr bằng cách thay thế mã Q/P bằng nhãn \"\"\"\n",
    "    def replace_match(match):\n",
    "        code = match.group(0)\n",
    "        return f\"[ {entity_map.get(code, relation_map.get(code, code))} ]\"\n",
    "\n",
    "    return re.sub(r\"Q\\d+|P\\d+\", replace_match, s_expression)\n",
    "\n",
    "def preprocess_question(question):\n",
    "    \"\"\" Loại bỏ dấu `{}` trong câu hỏi \"\"\"\n",
    "    return re.sub(r\"[{}]\", \"\", question)\n",
    "\n",
    "def process_test_file(input_file, output_file):\n",
    "    with open(input_file, 'r', encoding='utf-8') as f:\n",
    "        data = json.load(f)\n",
    "\n",
    "    processed_data = []\n",
    "    question_id = 1  # Biến đếm tự động\n",
    "\n",
    "    print(f\"🔄 Bắt đầu xử lý {len(data)} điểm dữ liệu với {MAX_THREADS} luồng...\\n\")\n",
    "    start_time = time.time()  # Bắt đầu đo thời gian\n",
    "\n",
    "    with ThreadPoolExecutor(max_workers=MAX_THREADS) as executor:\n",
    "        future_to_entry = {executor.submit(query_wikidata, entry.get(\"sparql_wikidata\", \"\")): entry for entry in data}\n",
    "        \n",
    "        for future in tqdm(as_completed(future_to_entry), total=len(data), desc=\"⏳ Đang xử lý\", unit=\"câu\"):\n",
    "            entry = future_to_entry[future]\n",
    "            try:\n",
    "                answers = future.result()\n",
    "                if not answers:\n",
    "                    continue  # Bỏ qua điểm dữ liệu không có câu trả lời\n",
    "\n",
    "                # Xử lý tiếp nếu có câu trả lời\n",
    "                sparql_query = entry.get(\"sparql_wikidata\", \"\")\n",
    "                question = preprocess_question(entry.get(\"question\", \"\"))\n",
    "                s_expression = entry.get(\"s_expression\", \"\")\n",
    "                entities, relations = extract_entities_relations(sparql_query)\n",
    "\n",
    "                # Truy vấn song song để lấy nhãn thực thể và quan hệ\n",
    "                entity_map = {}\n",
    "                relation_map = {}\n",
    "\n",
    "                entity_futures = {executor.submit(get_wikidata_label, qid): qid for qid in entities}\n",
    "                relation_futures = {executor.submit(get_wikidata_label, pid): pid for pid in relations}\n",
    "\n",
    "                for future in as_completed(entity_futures):\n",
    "                    entity_map[entity_futures[future]] = future.result()\n",
    "\n",
    "                for future in as_completed(relation_futures):\n",
    "                    relation_map[relation_futures[future]] = future.result()\n",
    "\n",
    "                # Chuyển s_expression thành nor_s_expr\n",
    "                nor_s_expr = convert_s_expression_to_nor_s_expr(s_expression, entity_map, relation_map) if s_expression else \"\"\n",
    "\n",
    "                processed_data.append({\n",
    "                    \"question_id\": question_id,\n",
    "                    \"question\": question,\n",
    "                    \"sparql\": sparql_query,\n",
    "                    \"answer\": answers,\n",
    "                    \"s_expr\": s_expression,\n",
    "                    \"nor_s_expr\": nor_s_expr,\n",
    "                    \"gold_entity_map\": entity_map,\n",
    "                    \"gold_relation_map\": relation_map\n",
    "                })\n",
    "                question_id += 1  # Tăng số thứ tự\n",
    "\n",
    "            except Exception as e:\n",
    "                print(f\"❌ Lỗi khi xử lý câu hỏi {question_id}: {e}\")\n",
    "\n",
    "    end_time = time.time()  # Kết thúc đo thời gian\n",
    "    total_time = end_time - start_time\n",
    "\n",
    "    with open(output_file, 'w', encoding='utf-8') as f:\n",
    "        json.dump(processed_data, f, indent=4, ensure_ascii=False)\n",
    "\n",
    "    print(f\"\\n✅ Xử lý hoàn tất! Kết quả được lưu vào {output_file}\")\n",
    "    print(f\"⏳ Tổng thời gian xử lý: {total_time:.2f} giây ({total_time/60:.2f} phút)\\n\")\n",
    "\n",
    "# Chạy chương trình\n",
    "input_file = \"test_with_s_expression.json\"\n",
    "output_file = \"test_filtered.json\"\n",
    "process_test_file(input_file, output_file)\n"
   ]
  }
 ],
 "metadata": {
  "kernelspec": {
   "display_name": "base",
   "language": "python",
   "name": "python3"
  },
  "language_info": {
   "codemirror_mode": {
    "name": "ipython",
    "version": 3
   },
   "file_extension": ".py",
   "mimetype": "text/x-python",
   "name": "python",
   "nbconvert_exporter": "python",
   "pygments_lexer": "ipython3",
   "version": "3.11.7"
  }
 },
 "nbformat": 4,
 "nbformat_minor": 2
}
