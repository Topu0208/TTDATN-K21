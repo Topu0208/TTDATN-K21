{
 "cells": [
  {
   "cell_type": "code",
   "execution_count": 1,
   "metadata": {},
   "outputs": [],
   "source": [
    "\n",
    "import json\n",
    "import re\n",
    "import time\n",
    "import concurrent.futures\n",
    "from SPARQLWrapper import SPARQLWrapper, JSON\n",
    "from tqdm import tqdm\n"
   ]
  },
  {
   "cell_type": "code",
   "execution_count": null,
   "metadata": {},
   "outputs": [],
   "source": [
    "\n",
    "WIKIDATA_SPARQL_ENDPOINT = \"https://query.wikidata.org/sparql\"\n",
    "label_cache = {}\n",
    "\n",
    "def query_sparql(query):\n",
    "    try:\n",
    "        sparql = SPARQLWrapper(WIKIDATA_SPARQL_ENDPOINT)\n",
    "        sparql.setQuery(query)\n",
    "        sparql.setReturnFormat(JSON)\n",
    "        results = sparql.query().convert()\n",
    "        return results[\"results\"][\"bindings\"]\n",
    "    except Exception as e:\n",
    "        print(f\"Error querying {WIKIDATA_SPARQL_ENDPOINT}: {e}\")\n",
    "        return None\n",
    "\n",
    "def get_label_vi(entity):\n",
    "    if entity in label_cache:\n",
    "        return label_cache[entity]\n",
    "    \n",
    "    query = f\"\"\"\n",
    "    PREFIX wd: <http://www.wikidata.org/entity/>\n",
    "    PREFIX rdfs: <http://www.w3.org/2000/01/rdf-schema#>\n",
    "\n",
    "    SELECT ?label WHERE {{\n",
    "      wd:{entity} rdfs:label ?label .\n",
    "      FILTER (lang(?label) = \"vi\")\n",
    "    }} LIMIT 1\n",
    "    \"\"\"\n",
    "    \n",
    "    results = query_sparql(query)\n",
    "    if not results:\n",
    "            query = f\"\"\"\n",
    "            PREFIX wd: <http://www.wikidata.org/entity/>\n",
    "            PREFIX rdfs: <http://www.w3.org/2000/01/rdf-schema#>\n",
    "\n",
    "            SELECT ?label WHERE {{\n",
    "            wd:{entity} rdfs:label ?label .\n",
    "            FILTER (lang(?label) = \"en\")\n",
    "            }} LIMIT 1\n",
    "            \"\"\"\n",
    "            results = query_sparql(query)\n",
    "    label = results[0][\"label\"][\"value\"] if results else entity\n",
    "    label_cache[entity] = label\n",
    "    return label\n",
    "\n",
    "def process_dataset(file_path, output_path):\n",
    "    with open(file_path, \"r\", encoding=\"utf-8\") as f:\n",
    "        data = json.load(f)\n",
    "\n",
    "    with open(output_path, \"w\", encoding=\"utf-8\") as f_out:\n",
    "        for entry in tqdm(data, desc=f\"Processing {file_path}\"):\n",
    "            s_expr = entry.get(\"s_expr\", \"\")\n",
    "            entities = set(re.findall(r\"\\b(Q\\d+|P\\d+)\\b\", s_expr))\n",
    "\n",
    "            with concurrent.futures.ThreadPoolExecutor(max_workers=10) as executor:\n",
    "                entity_labels = {e: label for e, label in zip(entities, executor.map(get_label_vi, entities))}\n",
    "            \n",
    "            nor_s_expr = s_expr\n",
    "            for entity, label in entity_labels.items():\n",
    "                nor_s_expr = nor_s_expr.replace(entity, f\"[ {label} ]\")\n",
    "            \n",
    "            entry[\"nor_s_expr_vi\"] = nor_s_expr\n",
    "\n",
    "            # Ghi từng entry vào file JSONL (mỗi dòng là một JSON object)\n",
    "            f_out.write(json.dumps(entry, ensure_ascii=False) + \"\\n\")\n",
    "            f_out.flush()  # Đảm bảo dữ liệu được ghi ngay lập tức\n",
    "\n"
   ]
  },
  {
   "cell_type": "code",
   "execution_count": 4,
   "metadata": {},
   "outputs": [],
   "source": [
    "process_dataset(\"LC-QuAD2.0/nor_sexpr/train.json\", \"LC-QuAD2.0/nor_sexpr/train_nor_vi.json\")"
   ]
  }
 ],
 "metadata": {
  "kernelspec": {
   "display_name": "base",
   "language": "python",
   "name": "python3"
  },
  "language_info": {
   "codemirror_mode": {
    "name": "ipython",
    "version": 3
   },
   "file_extension": ".py",
   "mimetype": "text/x-python",
   "name": "python",
   "nbconvert_exporter": "python",
   "pygments_lexer": "ipython3",
   "version": "3.11.7"
  }
 },
 "nbformat": 4,
 "nbformat_minor": 2
}
