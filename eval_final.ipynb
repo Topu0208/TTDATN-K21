{
 "cells": [
  {
   "cell_type": "code",
   "execution_count": 4,
   "metadata": {},
   "outputs": [],
   "source": [
    "\n",
    "from entity_retrieval import surface_index_memory\n",
    "from itertools import product\n",
    "from SPARQLWrapper import SPARQLWrapper, JSON\n",
    "from tqdm import tqdm\n",
    "import ujson\n",
    "import re"
   ]
  },
  {
   "cell_type": "code",
   "execution_count": 5,
   "metadata": {},
   "outputs": [],
   "source": [
    "import nltk\n",
    "# nltk.download('punkt_tab')"
   ]
  },
  {
   "cell_type": "code",
   "execution_count": 6,
   "metadata": {},
   "outputs": [
    {
     "name": "stderr",
     "output_type": "stream",
     "text": [
      "02/23/2025 22:00:01 - INFO - entity_retrieval.surface_index_memory -   Loading entity vocabulary from disk.\n",
      "02/23/2025 22:00:01 - INFO - entity_retrieval.surface_index_memory -   Loading surfaces from disk.\n",
      "02/23/2025 22:00:01 - INFO - entity_retrieval.surface_index_memory -   Done initializing surface index.\n"
     ]
    }
   ],
   "source": [
    "surface_index = surface_index_memory.EntitySurfaceIndexMemory(\n",
    "    \"vi_entity_list_file_wikidata_complete_all_mention\", \"vi_entity_surface_map_file_wikidata_complete_all_mention\",\"vi_wiki_complete_all_mention\" )"
   ]
  },
  {
   "cell_type": "code",
   "execution_count": 7,
   "metadata": {},
   "outputs": [],
   "source": [
    "def is_valid_expression(expr):\n",
    "    \"\"\"Kiểm tra tính hợp lệ của biểu thức bằng cách đếm số ngoặc mở và đóng.\"\"\"\n",
    "    count = 0\n",
    "    for char in expr:\n",
    "        if char == '(':\n",
    "            count += 1\n",
    "        elif char == ')':\n",
    "            count -= 1\n",
    "        if count < 0:\n",
    "            return False  # Gặp ngoặc đóng trước ngoặc mở\n",
    "    return count == 0\n",
    "\n",
    "def fix_unbalanced_parentheses(expr):\n",
    "    \"\"\"Loại bỏ ngoặc đóng dư nếu có.\"\"\"\n",
    "    while not is_valid_expression(expr) and expr.endswith(')'):\n",
    "        expr = expr[:-1]\n",
    "    return expr"
   ]
  },
  {
   "cell_type": "code",
   "execution_count": null,
   "metadata": {},
   "outputs": [],
   "source": []
  },
  {
   "cell_type": "code",
   "execution_count": 8,
   "metadata": {},
   "outputs": [],
   "source": [
    "import torch\n",
    "from transformers import AutoTokenizer, AutoModel\n",
    "import numpy as np\n",
    "from sklearn.metrics.pairwise import cosine_similarity\n",
    "\n",
    "# Load model & tokenizer\n",
    "tokenizer = AutoTokenizer.from_pretrained(\"VoVanPhuc/sup-SimCSE-VietNamese-phobert-base\")\n",
    "model = AutoModel.from_pretrained(\"VoVanPhuc/sup-SimCSE-VietNamese-phobert-base\")\n",
    "\n",
    "\n",
    "def get_embedding(text):\n",
    "    \"\"\"Trích xuất vector embedding từ mô hình\"\"\"\n",
    "    inputs = tokenizer(text, return_tensors=\"pt\", padding=True, truncation=True, max_length=128)\n",
    "    with torch.no_grad():\n",
    "        outputs = model(**inputs)\n",
    "\n",
    "    # Dùng mean pooling thay vì pooler_output\n",
    "    embeddings = outputs.last_hidden_state.mean(dim=1).cpu().numpy()\n",
    "    return embeddings\n",
    "\n",
    "def find_entity_or_relation(label, label_map, facc1_index, top_k=50, similarity_threshold=0.2):\n",
    "    \"\"\"\n",
    "    Tìm thực thể hoặc quan hệ từ gold maps, SimCSE hoặc FACC1.\n",
    "    \"\"\"\n",
    "    label_lower = label.lower()\n",
    "\n",
    "    # Nếu có trong label_map, trả về ngay\n",
    "    if label_map and label_lower in label_map:\n",
    "        return label_map[label_lower]\n",
    "\n",
    "    # Lấy embedding cho label\n",
    "    label_embedding = get_embedding(label_lower).reshape(1, -1)\n",
    "\n",
    "    if label_map:\n",
    "        label_keys = list(label_map.keys())\n",
    "        label_embeddings = np.array([get_embedding(k) for k in label_keys]).squeeze(1)\n",
    "\n",
    "        # Đảm bảo đúng shape\n",
    "        if len(label_embeddings.shape) == 1:\n",
    "            label_embeddings = label_embeddings.reshape(1, -1)\n",
    "\n",
    "        # Tính cosine similarity\n",
    "        similarities = cosine_similarity(label_embedding, label_embeddings).flatten()\n",
    "\n",
    "        # Chọn thực thể gần nhất\n",
    "        merged_list = list(zip(label_keys, similarities))\n",
    "        sorted_list = sorted(merged_list, key=lambda x: x[1], reverse=True)\n",
    "\n",
    "        if sorted_list and sorted_list[0][1] > similarity_threshold:\n",
    "            return label_map[sorted_list[0][0]]\n",
    "\n",
    "    # Nếu không tìm thấy, thử trong KB (FACC1)\n",
    "    facc1_cand_entities = facc1_index.get_indexrange_entity_el_pro_one_mention(label_lower, top_k=top_k)\n",
    "    if facc1_cand_entities:\n",
    "        best_match = max(facc1_cand_entities.items(), key=lambda x: x[1])\n",
    "        return best_match[0]\n",
    "\n",
    "    return label  # Trả về label nếu không tìm thấy\n",
    "\n",
    "def parse_nsexpr(expr):\n",
    "    \"\"\"\n",
    "    Chuyển chuỗi biểu thức thành cây cấu trúc dạng nested list.\n",
    "    Hàm này dùng duyệt ký tự, khi gặp '(' sẽ tìm phần con cho đến khi khớp với ')',\n",
    "    và giữ nguyên nội dung trong ngoặc vuông.\n",
    "    \"\"\"\n",
    "    tokens = []\n",
    "    i = 0\n",
    "    while i < len(expr):\n",
    "        if expr[i].isspace():\n",
    "            i += 1\n",
    "        elif expr[i] == '(':\n",
    "            # Tìm phần con của biểu thức trong ngoặc đơn\n",
    "            count = 1\n",
    "            j = i + 1\n",
    "            while j < len(expr) and count > 0:\n",
    "                if expr[j] == '(':\n",
    "                    count += 1\n",
    "                elif expr[j] == ')':\n",
    "                    count -= 1\n",
    "                j += 1\n",
    "            # Đệ quy phân tích phần con (loại bỏ ngoặc bao ngoài)\n",
    "            subtree = parse_nsexpr(expr[i+1:j-1])\n",
    "            tokens.append(subtree)\n",
    "            i = j\n",
    "        elif expr[i] == '[':\n",
    "            # Giữ nguyên nội dung trong ngoặc vuông\n",
    "            j = expr.find(']', i)\n",
    "            if j == -1:\n",
    "                return \"\"\n",
    "                raise ValueError(\"Không tìm thấy dấu ']' kết thúc.\")\n",
    "                \n",
    "            token = expr[i:j+1].strip()\n",
    "            tokens.append(token)\n",
    "            i = j + 1\n",
    "        else:\n",
    "            # Đọc một token cho đến khi gặp khoảng trắng hoặc ngoặc\n",
    "            j = i\n",
    "            while j < len(expr) and (not expr[j].isspace()) and expr[j] not in ['(', ')']:\n",
    "                j += 1\n",
    "            tokens.append(expr[i:j])\n",
    "            i = j\n",
    "    return tokens\n",
    "\n",
    "def collect_labels(tree):\n",
    "    \"\"\"\n",
    "    Duyệt cây cấu trúc (nested list) để thu thập các nhãn của quan hệ và thực thể.\n",
    "    Giả sử:\n",
    "      - Biểu thức JOIN có dạng: [\"JOIN\", relation_part, entity_part]\n",
    "      - Phần relation_part: nếu là list và bắt đầu bằng \"R\", thì phần thứ hai chứa nhãn quan hệ (dạng \"[ label ]\"). \n",
    "        Nếu là chuỗi dạng \"[ label ]\" thì đó cũng là nhãn quan hệ.\n",
    "      - Phần entity_part: nếu là chuỗi dạng \"[ label ]\" thì đó là nhãn thực thể, nếu là list thì xử lý đệ quy.\n",
    "      - Biểu thức AND sẽ có nhiều biểu thức con.\n",
    "    \"\"\"\n",
    "    relations = []\n",
    "    entities = []\n",
    "    \n",
    "    if isinstance(tree, list) and tree:\n",
    "        # Nếu token đầu tiên là JOIN hoặc AND\n",
    "        op = tree[0]\n",
    "        if isinstance(op, str):\n",
    "            op_upper = op.upper()\n",
    "        else:\n",
    "            op_upper = \"\"\n",
    "        \n",
    "        if op_upper == \"JOIN\":\n",
    "            # Xử lý phần quan hệ\n",
    "            if len(tree) >= 2:\n",
    "                rel_part = tree[1]\n",
    "                # Nếu là list dạng [ \"R\", \"[ label ]\" ]\n",
    "                if isinstance(rel_part, list) and len(rel_part) >= 2 and isinstance(rel_part[0], str) and rel_part[0].upper() == \"R\":\n",
    "                    token = rel_part[1]\n",
    "                    if isinstance(token, str) and token.startswith('[') and token.endswith(']'):\n",
    "                        rel_label = token[1:-1].strip()\n",
    "                        relations.append(rel_label)\n",
    "                # Nếu là chuỗi dạng \"[ label ]\"\n",
    "                elif isinstance(rel_part, str) and rel_part.startswith('[') and rel_part.endswith(']'):\n",
    "                    rel_label = rel_part[1:-1].strip()\n",
    "                    relations.append(rel_label)\n",
    "                else:\n",
    "                    # Nếu không đúng định dạng, duyệt đệ quy\n",
    "                    sub_rel, sub_ent = collect_labels(rel_part)\n",
    "                    relations.extend(sub_rel)\n",
    "                    entities.extend(sub_ent)\n",
    "            # Xử lý phần thực thể\n",
    "            if len(tree) >= 3:\n",
    "                ent_part = tree[2]\n",
    "                if isinstance(ent_part, list):\n",
    "                    sub_rel, sub_ent = collect_labels(ent_part)\n",
    "                    relations.extend(sub_rel)\n",
    "                    entities.extend(sub_ent)\n",
    "                elif isinstance(ent_part, str) and ent_part.startswith('[') and ent_part.endswith(']'):\n",
    "                    ent_label = ent_part[1:-1].strip()\n",
    "                    entities.append(ent_label)\n",
    "        elif op_upper == \"AND\":\n",
    "            # Với AND, duyệt tất cả các phần con\n",
    "            for sub in tree[1:]:\n",
    "                sub_rel, sub_ent = collect_labels(sub)\n",
    "                relations.extend(sub_rel)\n",
    "                entities.extend(sub_ent)\n",
    "        else:\n",
    "            # Nếu không phải JOIN hay AND, duyệt tất cả các phần tử nếu chúng là list\n",
    "            for elem in tree:\n",
    "                if isinstance(elem, list):\n",
    "                    sub_rel, sub_ent = collect_labels(elem)\n",
    "                    relations.extend(sub_rel)\n",
    "                    entities.extend(sub_ent)\n",
    "    return relations, entities\n",
    "\n",
    "\n",
    "\n",
    "def extract_entities_and_relations(normed_expr):\n",
    "\n",
    "    if not normed_expr or len(normed_expr) == 0:  # Kiểm tra nếu normed_expr rỗng\n",
    "        return [], []\n",
    "    \n",
    "    if normed_expr[0] != \"(\":\n",
    "        return [], []\n",
    "    \n",
    "    tree = parse_nsexpr(normed_expr)\n",
    "    if tree is None:\n",
    "        return [], []  # Trả về danh sách rỗng nếu parse thất bại\n",
    "    \n",
    "    return collect_labels(tree)\n",
    "\n"
   ]
  },
  {
   "cell_type": "code",
   "execution_count": 9,
   "metadata": {},
   "outputs": [],
   "source": [
    "def find_entity(label, label_map, facc1_index, top_k=20, similarity_threshold=0.2):\n",
    "    \"\"\"\n",
    "    Tìm thực thể hoặc quan hệ từ gold maps, SimCSE hoặc FACC1.\n",
    "    \"\"\"\n",
    "    label_lower = label.lower()\n",
    "\n",
    "    # Nếu có trong label_map, trả về ngay\n",
    "    if label_map and label_lower in label_map:\n",
    "        return label_map[label_lower]\n",
    "\n",
    "    # Lấy embedding cho label\n",
    "    label_embedding = get_embedding(label_lower).reshape(1, -1)\n",
    "\n",
    "    if label_map:\n",
    "        label_keys = list(label_map.keys())\n",
    "        label_embeddings = np.array([get_embedding(k) for k in label_keys]).squeeze(1)\n",
    "\n",
    "        # Đảm bảo đúng shape\n",
    "        if len(label_embeddings.shape) == 1:\n",
    "            label_embeddings = label_embeddings.reshape(1, -1)\n",
    "\n",
    "        # Tính cosine similarity\n",
    "        similarities = cosine_similarity(label_embedding, label_embeddings).flatten()\n",
    "\n",
    "        # Chọn thực thể gần nhất\n",
    "        merged_list = list(zip(label_keys, similarities))\n",
    "        sorted_list = sorted(merged_list, key=lambda x: x[1], reverse=True)\n",
    "\n",
    "        if sorted_list and sorted_list[0][1] > similarity_threshold:\n",
    "            return label_map[sorted_list[0][0]]\n",
    "\n",
    "    # Nếu không tìm thấy, thử trong KB (FACC1)\n",
    "    facc1_cand_entities = facc1_index.get_indexrange_entity_el_pro_one_mention(label_lower, top_k=top_k)\n",
    "    if facc1_cand_entities:\n",
    "        best_match = max(facc1_cand_entities.items(), key=lambda x: x[1])\n",
    "        return best_match[0]\n",
    "\n",
    "    return label  # Trả về label nếu không tìm thấy"
   ]
  },
  {
   "cell_type": "code",
   "execution_count": 10,
   "metadata": {},
   "outputs": [],
   "source": [
    "def find_relation(label, label_map, relation_kb_map, facc1_index, top_k=20, similarity_threshold=0.2):\n",
    "    \"\"\"\n",
    "    Tìm quan hệ từ gold maps, SimCSE hoặc FACC1.\n",
    "    \"\"\"\n",
    "    label_lower = label.lower()\n",
    "\n",
    "    # Nếu có trong label_map, trả về ngay\n",
    "    if label_map and label_lower in label_map:\n",
    "        return label_map[label_lower]\n",
    "\n",
    "    # Lấy embedding cho label\n",
    "    label_embedding = get_embedding(label_lower).reshape(1, -1)\n",
    "\n",
    "    if label_map:\n",
    "        label_keys = list(label_map.keys())\n",
    "        label_embeddings = np.array([get_embedding(k) for k in label_keys]).squeeze(1)\n",
    "\n",
    "        # Đảm bảo đúng shape\n",
    "        if len(label_embeddings.shape) == 1:\n",
    "            label_embeddings = label_embeddings.reshape(1, -1)\n",
    "\n",
    "        # Tính cosine similarity\n",
    "        similarities = cosine_similarity(label_embedding, label_embeddings).flatten()\n",
    "\n",
    "        # Chọn thực thể gần nhất\n",
    "        merged_list = list(zip(label_keys, similarities))\n",
    "        sorted_list = sorted(merged_list, key=lambda x: x[1], reverse=True)\n",
    "\n",
    "        if sorted_list and sorted_list[0][1] > similarity_threshold:\n",
    "            return label_map[sorted_list[0][0]]\n",
    "    if relation_kb_map:\n",
    "        label_keys = list(relation_kb_map.keys())\n",
    "        label_embeddings = np.array([get_embedding(k) for k in label_keys]).squeeze(1)\n",
    "\n",
    "        # Đảm bảo đúng shape\n",
    "        if len(label_embeddings.shape) == 1:\n",
    "            label_embeddings = label_embeddings.reshape(1, -1)\n",
    "\n",
    "        # Tính cosine similarity\n",
    "        similarities = cosine_similarity(label_embedding, label_embeddings).flatten()\n",
    "\n",
    "        # Chọn thực thể gần nhất\n",
    "        merged_list = list(zip(label_keys, similarities))\n",
    "        sorted_list = sorted(merged_list, key=lambda x: x[1], reverse=True)\n",
    "\n",
    "        if sorted_list and sorted_list[0][1] > similarity_threshold:\n",
    "            return relation_kb_map[sorted_list[0][0]]\n",
    "\n",
    "    return label "
   ]
  },
  {
   "cell_type": "code",
   "execution_count": 11,
   "metadata": {},
   "outputs": [],
   "source": [
    "class SExpressionParser:\n",
    "    def __init__(self):\n",
    "        self.var_counter = 1  # Đếm số biến trung gian (?X1, ?X2, ...)\n",
    "\n",
    "    def get_new_var(self):\n",
    "        \"\"\"Tạo biến trung gian mới.\"\"\"\n",
    "        var_name = f\"?X{self.var_counter}\"\n",
    "        self.var_counter += 1\n",
    "        return var_name\n",
    "\n",
    "    def parse_s_expr(self, s_expr):\n",
    "        \"\"\"Chuyển đổi S-Expression thành danh sách lồng nhau.\"\"\"\n",
    "        s_expr = re.sub(r'\\(', ' ( ', s_expr)\n",
    "        s_expr = re.sub(r'\\)', ' ) ', s_expr)\n",
    "        tokens = s_expr.split()\n",
    "        return self.build_tree(tokens)\n",
    "\n",
    "    def build_tree(self, tokens):\n",
    "        \"\"\"Chuyển đổi danh sách token thành cây lồng nhau.\"\"\"\n",
    "        if not tokens:\n",
    "            return None\n",
    "        token = tokens.pop(0)\n",
    "        if token == \"(\":\n",
    "            sub_expr = []\n",
    "            while tokens[0] != \")\":\n",
    "                sub_expr.append(self.build_tree(tokens))\n",
    "            tokens.pop(0)  # Bỏ dấu \")\"\n",
    "            return sub_expr\n",
    "        elif token == \")\":\n",
    "            raise ValueError(\"Unexpected ')'\")\n",
    "        else:\n",
    "            return token\n",
    "\n",
    "    def process_join(self, expr, target_var):\n",
    "        \"\"\"\n",
    "        Xử lý JOIN, tạo triple SPARQL.\n",
    "        \"\"\"\n",
    "        triples = []\n",
    "        if not isinstance(expr, list):\n",
    "            return expr, triples\n",
    "\n",
    "        if expr[0] == \"AND\":\n",
    "            # Xử lý từng JOIN trong AND riêng lẻ\n",
    "            for sub_expr in expr[1:]:\n",
    "                _, sub_triples = self.process_join(sub_expr, target_var)\n",
    "                triples.extend(sub_triples)\n",
    "            return target_var, triples\n",
    "\n",
    "        if expr[0] == \"JOIN\":\n",
    "            right_expr = expr[2]\n",
    "            right_triples = []\n",
    "            if isinstance(right_expr, list) and right_expr[0] == \"JOIN\":\n",
    "                right_var, right_triples = self.process_join(right_expr, self.get_new_var())\n",
    "            else: \n",
    "                right_var = right_expr\n",
    "            \n",
    "            # Xử lý nhánh trái\n",
    "            left_expr = expr[1]\n",
    "            if isinstance(left_expr, list) and left_expr[0] == \"R\":\n",
    "                rel = left_expr[1]\n",
    "                right = right_var\n",
    "                left = target_var\n",
    "                if right[0] != '?':\n",
    "                    right = \"wd:\" + right\n",
    "                if left[0] !='?':\n",
    "                    left = \"wd:\" + left   \n",
    "                triples.append([right, f\"wdt:{rel}\", left])\n",
    "            else:\n",
    "                right = right_var\n",
    "                left = target_var\n",
    "                if right[0] != '?':\n",
    "                    right = \"wd:\" + right\n",
    "                if left[0] !='?':\n",
    "                    left = \"wd:\" + left   \n",
    "                triples.append([left, f\"wdt:{left_expr}\", right])\n",
    "\n",
    "            # Thêm các triples từ nhánh phải trước khi thêm triple chính\n",
    "            triples = right_triples + triples\n",
    "            return target_var, triples\n",
    "\n",
    "        return expr, triples\n",
    "\n",
    "    def s_expr_to_sparql(self, s_expr):\n",
    "        \"\"\"Chuyển đổi từ S-Expression sang SPARQL.\"\"\"\n",
    "        if s_expr.count(\"(\") != s_expr.count(\")\"):\n",
    "            return None\n",
    "        if s_expr.count(\"[\") != s_expr.count(\"]\"):\n",
    "            return None\n",
    "        parsed_expr = self.parse_s_expr(s_expr)\n",
    "        target_var = \"?answer\"\n",
    "        final_var, triples = self.process_join(parsed_expr, target_var)\n",
    "\n",
    "        sparql_body = \"\\n  \".join([\" \".join(t) + \" .\" for t in triples])\n",
    "        sparql_query = f\"\"\"PREFIX wd: <http://www.wikidata.org/entity/> \n",
    "PREFIX wdt: <http://www.wikidata.org/prop/direct/> \n",
    "SELECT DISTINCT {target_var} WHERE {{ \n",
    "  {sparql_body}\n",
    "}}\"\"\"\n",
    "        return sparql_query\n",
    "\n",
    "\n",
    "def execute_query_with_odbc(sparql_query):\n",
    "    \"\"\"\n",
    "    Thực thi truy vấn SPARQL trên Wikidata endpoint và trả về kết quả.\n",
    "    \"\"\"\n",
    "    ENDPOINT_URL = \"https://query.wikidata.org/sparql\"\n",
    "    if sparql_query == None or sparql_query == []:\n",
    "        return []\n",
    "    sparql = SPARQLWrapper(ENDPOINT_URL)\n",
    "    sparql.setQuery(str(sparql_query))  # Ép kiểu về str cho chắc chắn\n",
    "    sparql.setReturnFormat(JSON)\n",
    "    \n",
    "    try:\n",
    "        response = sparql.query().convert()\n",
    "        answers = [item[\"answer\"][\"value\"] for item in response[\"results\"][\"bindings\"] if \"answer\" in item]\n",
    "        return answers\n",
    "    except Exception as e:\n",
    "        return []\n",
    "\n"
   ]
  },
  {
   "cell_type": "code",
   "execution_count": 12,
   "metadata": {},
   "outputs": [],
   "source": [
    "def convert_normed_to_s_expression(normed_expr, gold_relation_map, gold_entity_map, relation_KB_map, facc1_index):\n",
    "    \"\"\"\n",
    "    Chuyển đổi từ normed_sexpression sang s_expression.\n",
    "    Sau khi trích xuất các nhãn quan hệ và thực thể từ normed_expr,\n",
    "    ta lấy danh sách các mã ứng viên cho mỗi nhãn và tạo hoán vị giữa các cặp ứng viên đó.\n",
    "    Kết quả trả về là một danh sách các s_expression khả dĩ.\n",
    "    \"\"\"\n",
    "    normed_expr = fix_unbalanced_parentheses(normed_expr)\n",
    "    # Trích xuất các nhãn quan hệ và thực thể từ biểu thức\n",
    "    relations, entities = extract_entities_and_relations(normed_expr)\n",
    "    \n",
    "    # Tạo mapping từ token xuất hiện trong biểu thức sang danh sách các ứng viên mã.\n",
    "    # Ví dụ: token_str = \"[ author ]\"\n",
    "    candidate_map = {}\n",
    "    for rel in relations:\n",
    "        token = f'[ {rel} ]'\n",
    "        candidate = find_relation(rel, gold_relation_map, relation_KB_map, facc1_index)\n",
    "        # Nếu candidate không phải danh sách, chuyển nó thành danh sách để tạo hoán vị\n",
    "        if not isinstance(candidate, list):\n",
    "            candidate = [candidate]\n",
    "        candidate_map[token] = candidate\n",
    "        \n",
    "    for ent in entities:\n",
    "        token = f'[ {ent} ]'\n",
    "        candidate = find_entity(ent, gold_entity_map, facc1_index)\n",
    "        if not isinstance(candidate, list):\n",
    "            candidate = [candidate]\n",
    "        candidate_map[token] = candidate\n",
    "    \n",
    "    # Nếu không có token nào cần thay thế, trả về biểu thức gốc\n",
    "    if not candidate_map:\n",
    "        return [normed_expr]\n",
    "    \n",
    "    # Lấy danh sách các token và danh sách các danh sách ứng viên tương ứng\n",
    "    tokens = list(candidate_map.keys())\n",
    "    candidate_lists = [candidate_map[token] for token in tokens]\n",
    "    \n",
    "    # Tạo tất cả các hoán vị ứng viên (Cartesian product)\n",
    "    all_combinations = list(product(*candidate_lists))\n",
    "    \n",
    "    s_expressions = []\n",
    "    for comb in all_combinations:\n",
    "        temp_expr = normed_expr\n",
    "        # Với mỗi token, thay thế bằng ứng viên tương ứng theo hoán vị\n",
    "        for token, replacement in zip(tokens, comb):\n",
    "            temp_expr = temp_expr.replace(token, replacement)\n",
    "        s_expressions.append(temp_expr)\n",
    "    \n",
    "    return s_expressions"
   ]
  },
  {
   "cell_type": "code",
   "execution_count": 13,
   "metadata": {},
   "outputs": [],
   "source": [
    "\n",
    "def load_jsonl(file_path):\n",
    "    \"\"\"Đọc file JSONL và trả về danh sách các object\"\"\"\n",
    "\n",
    "\n",
    "    with open(file_path, 'r', encoding='utf-8') as f:\n",
    "        content = f.read().replace('(EXPECTED RESULT)', 'null').replace('(QUESTION)', 'null')\n",
    "\n",
    "    try:\n",
    "        data = ujson.loads(content)\n",
    "        print(\"JSON loaded successfully!\")\n",
    "    except Exception as e:\n",
    "        print(f\"Error: {e}\")\n",
    "    return data\n"
   ]
  },
  {
   "cell_type": "code",
   "execution_count": 14,
   "metadata": {},
   "outputs": [],
   "source": [
    "def calculate_prf1(gold_answers, pred_answers):\n",
    "    \"\"\"Tính Precision, Recall, F1-score\"\"\"\n",
    "    if len(gold_answers) == 0:\n",
    "        if len(pred_answers) == 0:\n",
    "            return [1.0, 1.0, 1.0, 1]  # Đúng khi không có câu trả lời\n",
    "        else:\n",
    "            return [0.0, 1.0, 0.0, 1]\n",
    "    elif len(pred_answers) == 0:\n",
    "        return [0.0, 0.0, 0.0, 0]\n",
    "    tp = 1e-40  # numerical trick\n",
    "\n",
    "    tp = tp + len(set(gold_answers) & set(pred_answers))\n",
    "\n",
    "    fp = len(set(pred_answers) - set(gold_answers))\n",
    "    fn = len(set(gold_answers) - set(pred_answers))\n",
    "    precision = tp / (tp + fp) \n",
    "    recall = tp / (tp + fn) \n",
    "    f1 = (2 * precision * recall) / (precision + recall) \n",
    "    hit = 1 if tp > 1e-40  else 0\n",
    "\n",
    "    return [precision, recall, f1, hit]\n"
   ]
  },
  {
   "cell_type": "code",
   "execution_count": 15,
   "metadata": {},
   "outputs": [
    {
     "name": "stdout",
     "output_type": "stream",
     "text": [
      "JSON loaded successfully!\n",
      "JSON loaded successfully!\n"
     ]
    }
   ],
   "source": [
    "# Đọc dữ liệu\n",
    "predictions = load_jsonl(\"LLMs/beam_prediction/generated_predictions_beam02.json\")\n",
    "gold_data = load_jsonl(\"Data/LC-QuAD2.0/label_map/LC-QuAD2.0_test.json\")\n"
   ]
  },
  {
   "cell_type": "markdown",
   "metadata": {},
   "source": [
    "### Load danh sách quan hệ trong KB"
   ]
  },
  {
   "cell_type": "code",
   "execution_count": 16,
   "metadata": {},
   "outputs": [],
   "source": [
    "file_path = \"vi_property_list_file_wikidata_complete_all_mention\"\n",
    "\n",
    "relation_KB_map = {}\n",
    "\n",
    "# Đọc file và đảo ngược quan hệ\n",
    "with open(file_path, \"r\", encoding=\"utf-8\") as f:\n",
    "    for line in f:\n",
    "        parts = line.strip().split(\"\\t\")  # Tách theo tab\n",
    "        if len(parts) == 2:\n",
    "            relation_KB_map[parts[1]] = parts[0]"
   ]
  },
  {
   "cell_type": "code",
   "execution_count": 17,
   "metadata": {},
   "outputs": [
    {
     "name": "stderr",
     "output_type": "stream",
     "text": [
      "Đang đánh giá:   0%|          | 0/1683 [00:00<?, ?it/s]"
     ]
    },
    {
     "name": "stdout",
     "output_type": "stream",
     "text": [
      "rel: ['diễn viên lồng tiếng', 'xuất hiện trong tác phẩm']\n",
      "en: ['South Park']\n",
      "rel: ['diễn viên lồng tiếng', 'phỏng theo']\n",
      "en: ['South Park']\n",
      "rel: ['người nói', 'diễn viên lồng tiếng']\n",
      "en: ['South Park']\n",
      "rel: ['diễn viên lồng tiếng', 'phỏng âm']\n",
      "en: ['South Park']\n",
      "rel: ['người biểu diễn', 'diễn viên']\n",
      "en: ['South Park', 'South Park']\n"
     ]
    },
    {
     "name": "stderr",
     "output_type": "stream",
     "text": [
      "Đang đánh giá:   0%|          | 1/1683 [00:17<8:17:35, 17.75s/it]"
     ]
    },
    {
     "name": "stdout",
     "output_type": "stream",
     "text": [
      "rel: ['phụ lưu', 'tọa lạc trong hoặc bên cạnh thủy vực']\n",
      "en: ['Sông Winnipeg', 'Hồ Winnipeg']\n",
      "rel: ['phụ lưu', 'tọa lạc trong hoặc bên cạnh thủy vực']\n",
      "en: ['sông Winnipeg', 'Hồ Winnipeg']\n",
      "rel: ['phụ lưu', 'vị trí']\n",
      "en: ['Sông Winnipeg', 'Hồ Winnipeg']\n",
      "rel: ['tiếp giáp với', 'tọa lạc trong hoặc bên cạnh thủy vực']\n",
      "en: ['Sông Winnipeg', 'Hồ Winnie']\n"
     ]
    },
    {
     "name": "stderr",
     "output_type": "stream",
     "text": [
      "Đang đánh giá:   0%|          | 2/1683 [01:21<20:51:13, 44.66s/it]"
     ]
    },
    {
     "name": "stdout",
     "output_type": "stream",
     "text": [
      "rel: []\n",
      "en: []\n",
      "rel: ['PIM person ID']\n",
      "en: ['Paul Erdős']\n"
     ]
    },
    {
     "name": "stderr",
     "output_type": "stream",
     "text": [
      "Đang đánh giá:   0%|          | 3/1683 [01:24<12:05:46, 25.92s/it]"
     ]
    },
    {
     "name": "stdout",
     "output_type": "stream",
     "text": [
      "rel: ['người tình', 'người phối ngẫu']\n",
      "en: ['Radha']\n",
      "rel: ['con cái', 'người tình']\n",
      "en: ['Samba', 'Radha']\n"
     ]
    },
    {
     "name": "stderr",
     "output_type": "stream",
     "text": [
      "Đang đánh giá:   0%|          | 4/1683 [01:30<8:19:57, 17.87s/it] "
     ]
    },
    {
     "name": "stdout",
     "output_type": "stream",
     "text": [
      "rel: ['MIA ID']\n",
      "en: ['Johannes Gutenberg']\n"
     ]
    },
    {
     "name": "stderr",
     "output_type": "stream",
     "text": [
      "Đang đánh giá:   0%|          | 5/1683 [01:32<5:36:52, 12.05s/it]"
     ]
    },
    {
     "name": "stdout",
     "output_type": "stream",
     "text": [
      "rel: ['thể loại nghệ thuật']\n",
      "en: ['Percy Bysshe Shelley']\n"
     ]
    },
    {
     "name": "stderr",
     "output_type": "stream",
     "text": [
      "Đang đánh giá:   0%|          | 6/1683 [01:35<4:17:21,  9.21s/it]"
     ]
    },
    {
     "name": "stdout",
     "output_type": "stream",
     "text": [
      "rel: ['TDKIV ID']\n",
      "en: ['blog']\n"
     ]
    },
    {
     "name": "stderr",
     "output_type": "stream",
     "text": [
      "Đang đánh giá:   0%|          | 7/1683 [01:38<3:21:53,  7.23s/it]"
     ]
    },
    {
     "name": "stdout",
     "output_type": "stream",
     "text": [
      "rel: ['Strahler number']\n",
      "en: ['Loire']\n"
     ]
    },
    {
     "name": "stderr",
     "output_type": "stream",
     "text": [
      "Đang đánh giá:   0%|          | 8/1683 [01:39<2:23:01,  5.12s/it]"
     ]
    },
    {
     "name": "stdout",
     "output_type": "stream",
     "text": [
      "rel: ['người thắng cuộc', 'được đặt tên theo']\n",
      "en: ['Eyre Lake']\n",
      "rel: ['người thắng cuộc', 'được đặt tên theo']\n",
      "en: ['Eyre']\n",
      "rel: ['người thắng cuộc', 'được phát hiện bởi']\n",
      "en: ['Eyre Lake']\n",
      "rel: ['được phát hiện bởi', 'được đặt tên theo']\n",
      "en: ['Eyre Lake']\n"
     ]
    },
    {
     "name": "stderr",
     "output_type": "stream",
     "text": [
      "Đang đánh giá:   1%|          | 9/1683 [01:49<3:08:01,  6.74s/it]"
     ]
    },
    {
     "name": "stdout",
     "output_type": "stream",
     "text": [
      "rel: []\n",
      "en: []\n",
      "rel: ['point of origin']\n",
      "en: ['Ebola']\n",
      "rel: ['điểm xuất phát']\n",
      "en: ['Ebola']\n",
      "rel: ['điểm xuất phát', 'nguyên nhân']\n",
      "en: ['Ebola']\n",
      "rel: ['vị trí thành lập', 'virus']\n",
      "en: ['Ebola']\n"
     ]
    },
    {
     "name": "stderr",
     "output_type": "stream",
     "text": [
      "Đang đánh giá:   1%|          | 10/1683 [01:58<3:21:09,  7.21s/it]"
     ]
    },
    {
     "name": "stdout",
     "output_type": "stream",
     "text": [
      "rel: ['người phối ngẫu', 'diễn viên']\n",
      "en: ['Bepanaah']\n"
     ]
    },
    {
     "name": "stderr",
     "output_type": "stream",
     "text": [
      "Đang đánh giá:   1%|          | 11/1683 [01:58<2:23:53,  5.16s/it]"
     ]
    },
    {
     "name": "stdout",
     "output_type": "stream",
     "text": [
      "rel: ['người biểu diễn', 'phần kế trước của']\n",
      "en: ['The Beatles story']\n",
      "rel: ['artist', 'xuất hiện trong tác phẩm']\n",
      "en: ['The Beatles story']\n",
      "rel: ['người biểu diễn', 'tác phẩm chính']\n",
      "en: ['The Beatles Story']\n",
      "rel: ['các chi nhánh của', 'tác giả']\n",
      "en: ['The Beatles story']\n"
     ]
    },
    {
     "name": "stderr",
     "output_type": "stream",
     "text": [
      "Đang đánh giá:   1%|          | 12/1683 [02:05<2:41:58,  5.82s/it]"
     ]
    },
    {
     "name": "stdout",
     "output_type": "stream",
     "text": [
      "rel: ['BMLO']\n",
      "en: ['Friedrich Wilhelm I.']\n"
     ]
    },
    {
     "name": "stderr",
     "output_type": "stream",
     "text": [
      "Đang đánh giá:   1%|          | 13/1683 [02:09<2:19:20,  5.01s/it]"
     ]
    },
    {
     "name": "stdout",
     "output_type": "stream",
     "text": [
      "rel: ['đường biên giới']\n",
      "en: ['Nam Phi']\n",
      "rel: ['tiếp giáp với']\n",
      "en: ['Nam Phi']\n",
      "rel: ['tiếp giáp với']\n",
      "en: []\n",
      "rel: ['tiếp giáp với', 'quốc gia']\n",
      "en: ['Nam Phi']\n"
     ]
    },
    {
     "name": "stderr",
     "output_type": "stream",
     "text": [
      "Đang đánh giá:   1%|          | 14/1683 [02:10<1:51:58,  4.03s/it]"
     ]
    },
    {
     "name": "stdout",
     "output_type": "stream",
     "text": [
      "rel: ['nhánh của', 'cung cấp máu']\n",
      "en: ['mũi']\n",
      "rel: ['cung cấp máu', 'vị trí']\n",
      "en: ['mũi']\n",
      "rel: ['nhánh của', 'cung cấp máu']\n",
      "en: ['Mũi']\n",
      "rel: ['vascular supply']\n",
      "en: ['mũi']\n"
     ]
    },
    {
     "name": "stderr",
     "output_type": "stream",
     "text": [
      "Đang đánh giá:   1%|          | 15/1683 [02:14<1:50:00,  3.96s/it]"
     ]
    },
    {
     "name": "stdout",
     "output_type": "stream",
     "text": [
      "rel: ['thuốc hoặc liệu pháp dùng để điều trị', 'nguyên nhân chết']\n",
      "en: ['Madhavrao I']\n"
     ]
    },
    {
     "name": "stderr",
     "output_type": "stream",
     "text": [
      "Đang đánh giá:   1%|          | 16/1683 [02:15<1:21:04,  2.92s/it]"
     ]
    },
    {
     "name": "stdout",
     "output_type": "stream",
     "text": [
      "rel: ['tổ chức con', 'nơi công tác']\n",
      "en: ['Harvard University', 'Louis Agassiz']\n",
      "rel: ['tổ chức con', 'nơi công tác']\n",
      "en: ['Đại học Harvard', 'Louis Agassiz']\n",
      "rel: ['tổ chức con', 'nơi công tác']\n",
      "en: ['Harvard College', 'Louis Agassiz']\n",
      "rel: ['tổ chức con', 'nhà tuyển dụng']\n",
      "en: ['Harvard University', 'Louis Agassiz']\n"
     ]
    },
    {
     "name": "stderr",
     "output_type": "stream",
     "text": [
      "Đang đánh giá:   1%|          | 17/1683 [02:21<1:48:03,  3.89s/it]"
     ]
    },
    {
     "name": "stdout",
     "output_type": "stream",
     "text": [
      "rel: ['tổng lượng bức xạ mặt trời phản xạ']\n",
      "en: ['Sao Thổ']\n"
     ]
    },
    {
     "name": "stderr",
     "output_type": "stream",
     "text": [
      "Đang đánh giá:   1%|          | 18/1683 [02:21<1:20:44,  2.91s/it]"
     ]
    },
    {
     "name": "stdout",
     "output_type": "stream",
     "text": [
      "rel: ['quan hệ ngoại giao', 'nằm trong phạm vi của khu vực hành chính']\n",
      "en: ['Thụy Điển', 'Al Jawf']\n"
     ]
    },
    {
     "name": "stderr",
     "output_type": "stream",
     "text": [
      "Đang đánh giá:   1%|          | 19/1683 [02:24<1:18:40,  2.84s/it]"
     ]
    },
    {
     "name": "stdout",
     "output_type": "stream",
     "text": [
      "rel: ['được xem là đồng nghĩa với', 'tên']\n",
      "en: ['Wölte', 'Walter Yeo']\n"
     ]
    },
    {
     "name": "stderr",
     "output_type": "stream",
     "text": [
      "Đang đánh giá:   1%|          | 20/1683 [02:26<1:09:05,  2.49s/it]"
     ]
    },
    {
     "name": "stdout",
     "output_type": "stream",
     "text": [
      "rel: ['giới tính', 'nói , viết hoặc ký bằng các ngôn ngữ']\n",
      "en: ['nam', 'Aleksandar Šapić']\n",
      "rel: ['giới tính', 'nói , viết hoặc ký bằng các ngôn ngữ']\n",
      "en: ['nữ', 'Aleksandar Šapić']\n",
      "rel: ['giới tính', 'ngôn ngữ mẹ đẻ']\n",
      "en: ['nam', 'Aleksandar Šapić']\n",
      "rel: ['giới tính', 'nói , viết hoặc ký bằng các ngôn ngữ']\n",
      "en: ['Aleksandar Šapić']\n"
     ]
    },
    {
     "name": "stderr",
     "output_type": "stream",
     "text": [
      "Đang đánh giá:   1%|          | 21/1683 [02:31<1:28:25,  3.19s/it]"
     ]
    },
    {
     "name": "stdout",
     "output_type": "stream",
     "text": [
      "❌ Lỗi tại dòng 21: list index out of range\n",
      "rel: ['người thắng cuộc', 'giải thưởng']\n",
      "en: ['Semyon Budyonny']\n",
      "rel: ['người thắng cuộc', 'giải thưởng']\n",
      "en: ['Semyon Budiony']\n",
      "rel: ['giải thưởng', 'được phát hiện bởi']\n",
      "en: ['Semyon Budyonny']\n",
      "rel: ['giải thưởng', 'nói , viết hoặc ký bởi']\n",
      "en: ['Semyon Budyonny']\n"
     ]
    },
    {
     "name": "stderr",
     "output_type": "stream",
     "text": [
      "Đang đánh giá:   1%|▏         | 22/1683 [02:34<1:31:33,  3.31s/it]"
     ]
    },
    {
     "name": "stdout",
     "output_type": "stream",
     "text": [
      "rel: []\n",
      "en: []\n",
      "rel: ['mô tả định lý']\n",
      "en: ['Pythagore']\n"
     ]
    },
    {
     "name": "stderr",
     "output_type": "stream",
     "text": [
      "Đang đánh giá:   1%|▏         | 23/1683 [02:35<1:08:58,  2.49s/it]"
     ]
    },
    {
     "name": "stdout",
     "output_type": "stream",
     "text": [
      "rel: ['researcher ID']\n",
      "en: ['Andrey Korotayev']\n"
     ]
    },
    {
     "name": "stderr",
     "output_type": "stream",
     "text": [
      "Đang đánh giá:   1%|▏         | 24/1683 [02:37<1:09:46,  2.52s/it]"
     ]
    },
    {
     "name": "stdout",
     "output_type": "stream",
     "text": [
      "rel: ['euroleague.net player ID']\n",
      "en: ['Arvydas Sabonis']\n"
     ]
    },
    {
     "name": "stderr",
     "output_type": "stream",
     "text": [
      "Đang đánh giá:   1%|▏         | 25/1683 [02:38<53:42,  1.94s/it]  "
     ]
    },
    {
     "name": "stdout",
     "output_type": "stream",
     "text": [
      "rel: ['Städel Museum artist ID']\n",
      "en: ['Käthe Kollwitz']\n"
     ]
    },
    {
     "name": "stderr",
     "output_type": "stream",
     "text": [
      "Đang đánh giá:   2%|▏         | 26/1683 [02:41<59:15,  2.15s/it]"
     ]
    },
    {
     "name": "stdout",
     "output_type": "stream",
     "text": [
      "rel: ['IOC athlete ID']\n",
      "en: ['Ralf Schumann']\n"
     ]
    },
    {
     "name": "stderr",
     "output_type": "stream",
     "text": [
      "Đang đánh giá:   2%|▏         | 27/1683 [02:42<55:48,  2.02s/it]"
     ]
    },
    {
     "name": "stdout",
     "output_type": "stream",
     "text": [
      "rel: ['người sáng lập', 'trường học']\n",
      "en: ['Petr Vopěnka']\n",
      "rel: ['người sáng lập', 'ngành học']\n",
      "en: ['Petr Vopěnka']\n",
      "rel: ['người sáng lập', 'môn học']\n",
      "en: ['Petr Vopěnka']\n",
      "rel: ['lĩnh vực làm việc', 'sáng tác']\n",
      "en: ['Petr Vopěnka']\n",
      "rel: ['lĩnh vực làm việc', 'sáng tác']\n",
      "en: ['Petr Vopěnka']\n"
     ]
    },
    {
     "name": "stderr",
     "output_type": "stream",
     "text": [
      "Đang đánh giá:   2%|▏         | 28/1683 [02:49<1:32:19,  3.35s/it]"
     ]
    },
    {
     "name": "stdout",
     "output_type": "stream",
     "text": [
      "rel: ['nghề nghiệp', 'được phát hiện bởi']\n",
      "en: ['nhà quản lý', 'Bob Peterson']\n",
      "rel: ['được phát hiện bởi', 'chức vụ']\n",
      "en: ['Bob Peterson', 'nhà điều hành']\n",
      "rel: ['người phát hiện', 'chức vụ']\n",
      "en: ['Bob Peterson', 'nhà điều hành']\n",
      "rel: ['được phát hiện bởi', 'chức vụ']\n",
      "en: ['Bob Peterson', 'nhà quản lý']\n",
      "rel: ['người phát hiện', 'chức vụ']\n",
      "en: ['Bob Peterson', 'nhà quản lý']\n"
     ]
    },
    {
     "name": "stderr",
     "output_type": "stream",
     "text": [
      "Đang đánh giá:   2%|▏         | 29/1683 [02:55<1:57:47,  4.27s/it]"
     ]
    },
    {
     "name": "stdout",
     "output_type": "stream",
     "text": [
      "rel: ['trạng thái oxy hóa']\n",
      "en: ['phốt pho']\n"
     ]
    },
    {
     "name": "stderr",
     "output_type": "stream",
     "text": [
      "Đang đánh giá:   2%|▏         | 30/1683 [02:58<1:43:49,  3.77s/it]"
     ]
    },
    {
     "name": "stdout",
     "output_type": "stream",
     "text": [
      "rel: ['số giấy phép khai thác']\n",
      "en: ['Grease']\n"
     ]
    },
    {
     "name": "stderr",
     "output_type": "stream",
     "text": [
      "Đang đánh giá:   2%|▏         | 31/1683 [03:01<1:42:40,  3.73s/it]"
     ]
    },
    {
     "name": "stdout",
     "output_type": "stream",
     "text": [
      "rel: ['LinkedIn company ID']\n",
      "en: ['Đại học Công nghệ Nanyang']\n"
     ]
    },
    {
     "name": "stderr",
     "output_type": "stream",
     "text": [
      "Đang đánh giá:   2%|▏         | 32/1683 [03:02<1:16:46,  2.79s/it]"
     ]
    },
    {
     "name": "stdout",
     "output_type": "stream",
     "text": [
      "rel: ['người thắng cuộc', 'đề cử giải thưởng']\n",
      "en: ['The Apartment']\n",
      "rel: ['đề cử giải thưởng', 'người biểu diễn']\n",
      "en: ['The Apartment']\n",
      "rel: ['đề cử giải thưởng', 'người tham gia']\n",
      "en: ['The Apartment']\n",
      "rel: ['đề cử giải thưởng', 'giải thưởng']\n",
      "en: ['The Apartment']\n"
     ]
    },
    {
     "name": "stderr",
     "output_type": "stream",
     "text": [
      "Đang đánh giá:   2%|▏         | 33/1683 [03:05<1:20:28,  2.93s/it]"
     ]
    },
    {
     "name": "stdout",
     "output_type": "stream",
     "text": [
      "rel: ['người thắng cuộc', 'đề cử giải thưởng']\n",
      "en: ['The Apartment']\n",
      "rel: ['người hướng dẫn tiến sĩ', 'tác phẩm chính']\n",
      "en: ['Cấu trúc hành động xã hội']\n",
      "rel: ['tác phẩm chính', 'cố vấn tiến sĩ']\n",
      "en: ['Clifford G. Geertz']\n",
      "rel: ['tác phẩm chính', 'học trò của']\n",
      "en: ['Clifford G. Geertz']\n",
      "rel: ['người hướng dẫn tiến sĩ', 'tác phẩm chính']\n",
      "en: ['Social Action Structures']\n"
     ]
    },
    {
     "name": "stderr",
     "output_type": "stream",
     "text": [
      "Đang đánh giá:   2%|▏         | 34/1683 [03:11<1:42:33,  3.73s/it]"
     ]
    },
    {
     "name": "stdout",
     "output_type": "stream",
     "text": [
      "rel: []\n",
      "en: []\n",
      "rel: ['thành phố kết nghĩa', 'nằm trong phạm vi của khu vực hành chính']\n",
      "en: ['Fukushima']\n"
     ]
    },
    {
     "name": "stderr",
     "output_type": "stream",
     "text": [
      "Đang đánh giá:   2%|▏         | 35/1683 [03:12<1:17:25,  2.82s/it]"
     ]
    },
    {
     "name": "stdout",
     "output_type": "stream",
     "text": [
      "rel: ['thành viên của', 'được đặt tên theo']\n",
      "en: ['nhà sinh hóa học', 'RNA polymerase']\n",
      "rel: ['nghề nghiệp', 'được đặt tên theo']\n",
      "en: ['nhà sinh hóa học', 'RNA polymerase']\n"
     ]
    },
    {
     "name": "stderr",
     "output_type": "stream",
     "text": [
      "Đang đánh giá:   2%|▏         | 36/1683 [03:17<1:36:32,  3.52s/it]"
     ]
    },
    {
     "name": "stdout",
     "output_type": "stream",
     "text": [
      "rel: ['người thắng cuộc', 'môn thể thao']\n",
      "en: ['Kamal Ziani']\n",
      "rel: ['record holder', 'môn thể thao']\n",
      "en: ['Kamal Ziani']\n",
      "rel: ['record held', 'môn thể thao']\n",
      "en: ['Kamal Ziani']\n",
      "rel: ['record holder']\n",
      "en: ['Kamal Ziani']\n",
      "rel: ['kỷ lục thế giới']\n",
      "en: []\n"
     ]
    },
    {
     "name": "stderr",
     "output_type": "stream",
     "text": [
      "Đang đánh giá:   2%|▏         | 37/1683 [03:20<1:34:52,  3.46s/it]"
     ]
    },
    {
     "name": "stdout",
     "output_type": "stream",
     "text": [
      "rel: ['các phân cấp hành chính', 'trường học']\n",
      "en: ['École Centrale de Lille']\n"
     ]
    },
    {
     "name": "stderr",
     "output_type": "stream",
     "text": [
      "Đang đánh giá:   2%|▏         | 38/1683 [03:21<1:13:20,  2.68s/it]"
     ]
    },
    {
     "name": "stdout",
     "output_type": "stream",
     "text": [
      "rel: ['người thắng cuộc', 'giải thưởng']\n",
      "en: ['Bully on the Bus']\n",
      "rel: ['người thắng cuộc', 'loạt']\n",
      "en: ['Bully on the Bus']\n",
      "rel: ['giải thưởng', 'người tham gia']\n",
      "en: ['Bully on the Bus']\n",
      "rel: ['người thắng cuộc', 'giải thưởng']\n",
      "en: ['Bully on the Bus']\n"
     ]
    },
    {
     "name": "stderr",
     "output_type": "stream",
     "text": [
      "Đang đánh giá:   2%|▏         | 39/1683 [03:32<2:22:47,  5.21s/it]"
     ]
    },
    {
     "name": "stdout",
     "output_type": "stream",
     "text": [
      "rel: ['người thắng cuộc']\n",
      "en: []\n",
      "rel: ['thể loại nghệ thuật', 'tác phẩm chính']\n",
      "en: ['Sarah Brightman']\n",
      "rel: ['thể loại nghệ thuật', 'người biểu diễn']\n",
      "en: ['Sarah Brightman']\n"
     ]
    },
    {
     "name": "stderr",
     "output_type": "stream",
     "text": [
      "Đang đánh giá:   2%|▏         | 40/1683 [03:33<1:50:05,  4.02s/it]"
     ]
    },
    {
     "name": "stdout",
     "output_type": "stream",
     "text": [
      "rel: ['tác giả', 'được phát hiện bởi']\n",
      "en: ['Trishira']\n"
     ]
    },
    {
     "name": "stderr",
     "output_type": "stream",
     "text": [
      "Đang đánh giá:   2%|▏         | 41/1683 [03:34<1:26:10,  3.15s/it]"
     ]
    },
    {
     "name": "stdout",
     "output_type": "stream",
     "text": [
      "rel: ['vệ tinh', 'hệ thống']\n",
      "en: ['X Window System']\n",
      "rel: ['hệ thống phần mềm', 'sử dụng']\n",
      "en: ['X Window System']\n",
      "rel: ['hệ thống phần mềm', 'sử dụng']\n",
      "en: ['Bus vệ tinh']\n",
      "rel: ['hệ thống phần mềm', 'sử dụng']\n",
      "en: ['Bus vệ tinh X']\n",
      "rel: ['hệ thống phần mềm', 'sử dụng']\n",
      "en: ['X Window System']\n"
     ]
    },
    {
     "name": "stderr",
     "output_type": "stream",
     "text": [
      "Đang đánh giá:   2%|▏         | 42/1683 [03:41<1:53:09,  4.14s/it]"
     ]
    },
    {
     "name": "stdout",
     "output_type": "stream",
     "text": [
      "rel: ['người phối ngẫu', 'người biểu diễn']\n",
      "en: ['Landscape of Snake Dance']\n"
     ]
    },
    {
     "name": "stderr",
     "output_type": "stream",
     "text": [
      "Đang đánh giá:   3%|▎         | 43/1683 [03:43<1:40:53,  3.69s/it]"
     ]
    },
    {
     "name": "stdout",
     "output_type": "stream",
     "text": [
      "rel: ['ngôn ngữ mẹ đẻ', 'quốc tịch']\n",
      "en: ['Dirk Nowitzki']\n",
      "rel: ['ngôn ngữ mẹ đẻ', 'cầu thủ của đội thể thao']\n",
      "en: ['Dirk Nowitzki']\n",
      "rel: ['ngôn ngữ chính thức', 'quốc tịch']\n",
      "en: ['Dirk Nowitzki']\n",
      "rel: ['ngôn ngữ mẹ đẻ']\n",
      "en: ['Dirk Nowitzki']\n"
     ]
    },
    {
     "name": "stderr",
     "output_type": "stream",
     "text": [
      "Đang đánh giá:   3%|▎         | 44/1683 [03:50<2:00:28,  4.41s/it]"
     ]
    },
    {
     "name": "stdout",
     "output_type": "stream",
     "text": [
      "rel: []\n",
      "en: []\n",
      "rel: ['hoạt động thể thao', 'người chơi']\n",
      "en: ['Dungeons & Dragons']\n",
      "rel: ['hoạt động thể thao', 'phỏng theo']\n",
      "en: ['Dungeons & Dragons']\n",
      "rel: ['sử dụng bởi', 'hoạt động']\n",
      "en: ['Dungeons & Dragons']\n",
      "rel: ['sử dụng bởi', 'thể loại của']\n",
      "en: ['Dungeons & Dragons']\n",
      "rel: ['game mechanic']\n",
      "en: ['Dungeons & Dragons']\n"
     ]
    },
    {
     "name": "stderr",
     "output_type": "stream",
     "text": [
      "Đang đánh giá:   3%|▎         | 45/1683 [03:53<1:52:31,  4.12s/it]"
     ]
    },
    {
     "name": "stdout",
     "output_type": "stream",
     "text": [
      "rel: ['hình dạng', 'đơn vị phân loại mẹ']\n",
      "en: ['Plutarch']\n",
      "rel: ['ảnh hưởng bởi', 'ảnh hưởng bởi']\n",
      "en: ['Plutarch']\n",
      "rel: ['thể loại của đề tài', 'khía cạnh của']\n",
      "en: ['Plutarch']\n",
      "rel: ['hình dạng', 'đơn vị phân loại mẹ']\n",
      "en: ['Plutarch of Athens']\n"
     ]
    },
    {
     "name": "stderr",
     "output_type": "stream",
     "text": [
      "Đang đánh giá:   3%|▎         | 46/1683 [03:58<1:59:54,  4.40s/it]"
     ]
    },
    {
     "name": "stdout",
     "output_type": "stream",
     "text": [
      "rel: []\n",
      "en: []\n",
      "rel: ['tương tác thuốc', 'thuốc hoặc liệu pháp dùng để điều trị']\n",
      "en: ['động kinh cục bộ']\n",
      "rel: ['thuốc hoặc liệu pháp dùng để điều trị', 'thuốc hoặc liệu pháp dùng để điều trị']\n",
      "en: ['động kinh']\n",
      "rel: ['thuốc hoặc liệu pháp dùng để điều trị', 'medical condition treated']\n",
      "en: ['động kinh cục bộ']\n",
      "rel: ['thuốc phối hợp với', 'thuốc hoặc liệu pháp dùng để điều trị']\n",
      "en: ['động kinh cục bộ']\n",
      "rel: ['thuốc hoặc liệu pháp dùng để điều trị', 'thuốc hoặc liệu pháp dùng để điều trị']\n",
      "en: ['Động kinh']\n"
     ]
    },
    {
     "name": "stderr",
     "output_type": "stream",
     "text": [
      "Đang đánh giá:   3%|▎         | 47/1683 [04:01<1:49:04,  4.00s/it]"
     ]
    },
    {
     "name": "stdout",
     "output_type": "stream",
     "text": [
      "rel: ['lĩnh vực làm việc', 'học trò của']\n",
      "en: ['đạo đức học']\n",
      "rel: ['lĩnh vực làm việc', 'nghiên cứu về']\n",
      "en: ['đạo đức học']\n",
      "rel: ['môn học của chuyên ngành', 'học trò của']\n",
      "en: ['đạo đức học']\n",
      "rel: ['lĩnh vực làm việc', 'học trò của']\n",
      "en: ['đạo đức học Kant']\n"
     ]
    },
    {
     "name": "stderr",
     "output_type": "stream",
     "text": [
      "Đang đánh giá:   3%|▎         | 48/1683 [04:05<1:50:59,  4.07s/it]"
     ]
    },
    {
     "name": "stdout",
     "output_type": "stream",
     "text": [
      "rel: []\n",
      "en: []\n",
      "rel: ['wikidata language ID']\n",
      "en: ['Quecha']\n"
     ]
    },
    {
     "name": "stderr",
     "output_type": "stream",
     "text": [
      "Đang đánh giá:   3%|▎         | 49/1683 [04:08<1:35:15,  3.50s/it]"
     ]
    },
    {
     "name": "stdout",
     "output_type": "stream",
     "text": [
      "rel: ['người sáng lập']\n",
      "en: ['chủ nghĩa hậu hiện đại']\n",
      "rel: ['người sáng lập', 'ảnh hưởng bởi']\n",
      "en: ['hậu hiện đại']\n",
      "rel: ['người sáng lập', 'nền tảng']\n",
      "en: ['Postmodernism']\n",
      "rel: ['người sáng lập', 'ảnh hưởng bởi']\n",
      "en: ['Postmodernism']\n",
      "rel: ['người sáng lập', 'ảnh hưởng bởi']\n",
      "en: ['hậu hiện đại']\n"
     ]
    },
    {
     "name": "stderr",
     "output_type": "stream",
     "text": [
      "Đang đánh giá:   3%|▎         | 50/1683 [04:12<1:42:23,  3.76s/it]"
     ]
    },
    {
     "name": "stdout",
     "output_type": "stream",
     "text": [
      "rel: ['tên miền cao nhất']\n",
      "en: ['Saint-Barthélemy']\n"
     ]
    },
    {
     "name": "stderr",
     "output_type": "stream",
     "text": [
      "Đang đánh giá:   3%|▎         | 51/1683 [04:13<1:16:37,  2.82s/it]"
     ]
    },
    {
     "name": "stdout",
     "output_type": "stream",
     "text": [
      "rel: ['ObjektID']\n",
      "en: ['Cung điện Belvedere']\n"
     ]
    },
    {
     "name": "stderr",
     "output_type": "stream",
     "text": [
      "Đang đánh giá:   3%|▎         | 52/1683 [04:13<58:32,  2.15s/it]  "
     ]
    },
    {
     "name": "stdout",
     "output_type": "stream",
     "text": [
      "rel: ['tiếp giáp với', 'vị trí trụ sở']\n",
      "en: ['The Manila Shimbun']\n"
     ]
    },
    {
     "name": "stderr",
     "output_type": "stream",
     "text": [
      "Đang đánh giá:   3%|▎         | 53/1683 [04:14<45:25,  1.67s/it]"
     ]
    },
    {
     "name": "stdout",
     "output_type": "stream",
     "text": [
      "rel: ['ink color']\n",
      "en: ['bào tử']\n",
      "rel: ['ink color']\n",
      "en: ['Bào tử']\n",
      "rel: ['màu in', 'in']\n",
      "en: ['màu nâu']\n",
      "rel: ['màu in', 'in']\n",
      "en: ['Brown']\n",
      "rel: ['màu in', 'in']\n",
      "en: ['bào tử']\n"
     ]
    },
    {
     "name": "stderr",
     "output_type": "stream",
     "text": [
      "Đang đánh giá:   3%|▎         | 54/1683 [04:20<1:21:22,  3.00s/it]"
     ]
    },
    {
     "name": "stdout",
     "output_type": "stream",
     "text": [
      "rel: ['diễn viên lồng tiếng', 'loạt']\n",
      "en: ['Max Jets']\n"
     ]
    },
    {
     "name": "stderr",
     "output_type": "stream",
     "text": [
      "Đang đánh giá:   3%|▎         | 55/1683 [04:20<1:02:41,  2.31s/it]"
     ]
    },
    {
     "name": "stdout",
     "output_type": "stream",
     "text": [
      "rel: ['người thắng cuộc', 'giải thưởng']\n",
      "en: ['Karmen Jelincic']\n",
      "rel: ['giải thưởng', 'người thắng cuộc']\n",
      "en: ['Karmen Jelincic']\n",
      "rel: ['người thắng cuộc', 'giải thưởng']\n",
      "en: ['Karmen Jelicic']\n",
      "rel: ['giải thưởng']\n",
      "en: ['Karmen Jelincic']\n",
      "rel: ['người thắng cuộc']\n",
      "en: ['Karmen Jelincic']\n"
     ]
    },
    {
     "name": "stderr",
     "output_type": "stream",
     "text": [
      "Đang đánh giá:   3%|▎         | 56/1683 [04:27<1:39:29,  3.67s/it]"
     ]
    },
    {
     "name": "stdout",
     "output_type": "stream",
     "text": [
      "rel: ['ngày lễ quốc gia']\n",
      "en: ['Georgia']\n"
     ]
    },
    {
     "name": "stderr",
     "output_type": "stream",
     "text": [
      "Đang đánh giá:   3%|▎         | 57/1683 [04:28<1:14:19,  2.74s/it]"
     ]
    },
    {
     "name": "stdout",
     "output_type": "stream",
     "text": [
      "rel: ['spin number']\n",
      "en: ['boson']\n"
     ]
    },
    {
     "name": "stderr",
     "output_type": "stream",
     "text": [
      "Đang đánh giá:   3%|▎         | 58/1683 [04:28<56:41,  2.09s/it]  "
     ]
    },
    {
     "name": "stdout",
     "output_type": "stream",
     "text": [
      "rel: ['giải thưởng', 'học trò của']\n",
      "en: ['Enrico Fermi']\n"
     ]
    },
    {
     "name": "stderr",
     "output_type": "stream",
     "text": [
      "Đang đánh giá:   4%|▎         | 59/1683 [04:29<44:53,  1.66s/it]"
     ]
    },
    {
     "name": "stdout",
     "output_type": "stream",
     "text": [
      "rel: ['được xem là đồng nghĩa với', 'phần tiếp theo của']\n",
      "en: ['Dame', 'Dame']\n",
      "rel: ['được xem là đồng nghĩa với', 'được đặt tên theo']\n",
      "en: ['Dame', 'Dame']\n",
      "rel: ['cố vấn', 'phần tiếp theo của']\n",
      "en: ['Dame', 'Dame']\n",
      "rel: ['cố vấn', 'phần kế trước của']\n",
      "en: ['Dame', 'Dame']\n",
      "rel: ['được xem là đồng nghĩa với', 'phần kế trước của']\n",
      "en: ['Dame', 'Dame']\n"
     ]
    },
    {
     "name": "stderr",
     "output_type": "stream",
     "text": [
      "Đang đánh giá:   4%|▎         | 60/1683 [04:33<59:53,  2.21s/it]"
     ]
    },
    {
     "name": "stdout",
     "output_type": "stream",
     "text": [
      "rel: ['tác giả', 'học trò của']\n",
      "en: ['Fantasia on a Theme']\n",
      "rel: ['tác giả', 'học trò']\n",
      "en: ['Fantasia on a Theme']\n",
      "rel: ['tác giả', 'người soạn nhạc']\n",
      "en: ['Fantasia on a Theme']\n",
      "rel: ['học trò', 'tác giả']\n",
      "en: ['Joan Trimble', 'Fantasia on a theme']\n"
     ]
    },
    {
     "name": "stderr",
     "output_type": "stream",
     "text": [
      "Đang đánh giá:   4%|▎         | 61/1683 [04:42<1:57:06,  4.33s/it]"
     ]
    },
    {
     "name": "stdout",
     "output_type": "stream",
     "text": [
      "rel: []\n",
      "en: []\n",
      "rel: ['quan hệ ngoại giao', 'quốc gia']\n",
      "en: ['Negev']\n",
      "rel: ['quan hệ ngoại giao', 'thành phố kết nghĩa']\n",
      "en: ['Negev']\n",
      "rel: ['quan hệ ngoại giao', 'quốc gia xuất xứ']\n",
      "en: ['Negev']\n",
      "rel: ['quan hệ ngoại giao', 'quốc gia']\n",
      "en: ['Cộng hòa Séc']\n"
     ]
    },
    {
     "name": "stderr",
     "output_type": "stream",
     "text": [
      "Đang đánh giá:   4%|▎         | 62/1683 [04:48<2:12:25,  4.90s/it]"
     ]
    },
    {
     "name": "stdout",
     "output_type": "stream",
     "text": [
      "rel: []\n",
      "en: []\n",
      "rel: ['tác giả', 'phần tiếp theo của']\n",
      "en: ['Girls Under Pressure']\n"
     ]
    },
    {
     "name": "stderr",
     "output_type": "stream",
     "text": [
      "Đang đánh giá:   4%|▎         | 63/1683 [04:52<2:00:57,  4.48s/it]"
     ]
    },
    {
     "name": "stdout",
     "output_type": "stream",
     "text": [
      "rel: ['BIC ID']\n",
      "en: ['Hang động Altamira']\n"
     ]
    },
    {
     "name": "stderr",
     "output_type": "stream",
     "text": [
      "Đang đánh giá:   4%|▍         | 64/1683 [04:52<1:30:40,  3.36s/it]"
     ]
    },
    {
     "name": "stdout",
     "output_type": "stream",
     "text": [
      "rel: ['ngôn ngữ chính thức']\n",
      "en: ['Đại công quốc Phần Lan']\n",
      "rel: ['ngôn ngữ chính thức', 'quốc gia']\n",
      "en: ['Phần Lan']\n",
      "rel: ['ngôn ngữ chính thức']\n",
      "en: ['Phần Lan']\n",
      "rel: ['ngôn ngữ chính thức']\n",
      "en: ['Đại Công quốc Phần Lan']\n"
     ]
    },
    {
     "name": "stderr",
     "output_type": "stream",
     "text": [
      "Đang đánh giá:   4%|▍         | 65/1683 [04:56<1:30:35,  3.36s/it]"
     ]
    },
    {
     "name": "stdout",
     "output_type": "stream",
     "text": [
      "rel: []\n",
      "en: []\n",
      "rel: ['chất liệu', 'người phối ngẫu']\n",
      "en: ['Jane Pauley']\n"
     ]
    },
    {
     "name": "stderr",
     "output_type": "stream",
     "text": [
      "Đang đánh giá:   4%|▍         | 66/1683 [04:57<1:09:37,  2.58s/it]"
     ]
    },
    {
     "name": "stdout",
     "output_type": "stream",
     "text": [
      "rel: ['diễn viên', 'loạt']\n",
      "en: ['Zee Best of Zee Best']\n",
      "rel: ['diễn viên', 'loạt']\n",
      "en: ['Looney Tunes Super Stars']\n",
      "rel: ['diễn viên', 'loạt']\n",
      "en: ['Looney Tunes Super Stars Pepe Le Pew']\n",
      "rel: ['diễn viên', 'loạt']\n",
      "en: ['Looney Tunes Super Stars: Zee Best of Zee Best']\n"
     ]
    },
    {
     "name": "stderr",
     "output_type": "stream",
     "text": [
      "Đang đánh giá:   4%|▍         | 67/1683 [05:02<1:34:41,  3.52s/it]"
     ]
    },
    {
     "name": "stdout",
     "output_type": "stream",
     "text": [
      "rel: []\n",
      "en: []\n",
      "rel: ['xuất bản trong tác phẩm', 'tác giả']\n",
      "en: ['Portrait of a Young Artist']\n",
      "rel: ['tác giả', 'xuất bản trong tác phẩm']\n",
      "en: ['Portrait of a Young Artist']\n",
      "rel: ['người soạn nhạc', 'xuất bản trong tác phẩm']\n",
      "en: ['Portrait of a Young Artist']\n",
      "rel: ['xuất bản trong tác phẩm', 'nhà biên tập']\n",
      "en: ['Portrait of a Young Artist']\n"
     ]
    },
    {
     "name": "stderr",
     "output_type": "stream",
     "text": [
      "Đang đánh giá:   4%|▍         | 68/1683 [05:09<2:04:39,  4.63s/it]"
     ]
    },
    {
     "name": "stdout",
     "output_type": "stream",
     "text": [
      "rel: []\n",
      "en: []\n",
      "rel: ['tiếp giáp với', 'thành phố kết nghĩa']\n",
      "en: ['Essex']\n",
      "rel: ['tiếp giáp với', 'nằm trong phạm vi của khu vực hành chính']\n",
      "en: ['Essex']\n",
      "rel: ['tiếp giáp với', 'tiếp giáp với']\n",
      "en: ['Essex', 'Quận Hoàng gia Kensington và Chelsea']\n",
      "rel: ['tiếp giáp với', 'tiếp giáp với']\n",
      "en: ['Essex']\n"
     ]
    },
    {
     "name": "stderr",
     "output_type": "stream",
     "text": [
      "Đang đánh giá:   4%|▍         | 69/1683 [05:12<1:49:05,  4.06s/it]"
     ]
    },
    {
     "name": "stdout",
     "output_type": "stream",
     "text": [
      "rel: []\n",
      "en: []\n",
      "rel: ['dân số', 'quốc gia']\n",
      "en: ['Bỉ']\n"
     ]
    },
    {
     "name": "stderr",
     "output_type": "stream",
     "text": [
      "Đang đánh giá:   4%|▍         | 70/1683 [05:13<1:25:18,  3.17s/it]"
     ]
    },
    {
     "name": "stdout",
     "output_type": "stream",
     "text": [
      "rel: ['vị trí trụ sở', 'đảng viên của đảng chính trị']\n",
      "en: ['Rajesh Khanna']\n"
     ]
    },
    {
     "name": "stderr",
     "output_type": "stream",
     "text": [
      "Đang đánh giá:   4%|▍         | 71/1683 [05:14<1:03:41,  2.37s/it]"
     ]
    },
    {
     "name": "stdout",
     "output_type": "stream",
     "text": [
      "rel: ['nhà xuất bản']\n",
      "en: ['Through the Looking-Glass']\n"
     ]
    },
    {
     "name": "stderr",
     "output_type": "stream",
     "text": [
      "Đang đánh giá:   4%|▍         | 72/1683 [05:14<49:51,  1.86s/it]  "
     ]
    },
    {
     "name": "stdout",
     "output_type": "stream",
     "text": [
      "rel: ['Cycling Quotient rider ID']\n",
      "en: ['Chris Froome']\n"
     ]
    },
    {
     "name": "stderr",
     "output_type": "stream",
     "text": [
      "Đang đánh giá:   4%|▍         | 73/1683 [05:16<49:35,  1.85s/it]"
     ]
    },
    {
     "name": "stdout",
     "output_type": "stream",
     "text": [
      "rel: ['Estonian Art Museum artist ID']\n",
      "en: ['Egon Schiele']\n"
     ]
    },
    {
     "name": "stderr",
     "output_type": "stream",
     "text": [
      "Đang đánh giá:   4%|▍         | 74/1683 [05:17<41:51,  1.56s/it]"
     ]
    },
    {
     "name": "stdout",
     "output_type": "stream",
     "text": [
      "rel: ['mô tả', 'tác phẩm chính']\n",
      "en: ['Thomas Lawrence']\n"
     ]
    },
    {
     "name": "stderr",
     "output_type": "stream",
     "text": [
      "Đang đánh giá:   4%|▍         | 75/1683 [05:18<33:42,  1.26s/it]"
     ]
    },
    {
     "name": "stdout",
     "output_type": "stream",
     "text": [
      "rel: ['Allcinema film ID']\n",
      "en: ['Groundhog Day']\n"
     ]
    },
    {
     "name": "stderr",
     "output_type": "stream",
     "text": [
      "Đang đánh giá:   5%|▍         | 76/1683 [05:19<37:27,  1.40s/it]"
     ]
    },
    {
     "name": "stdout",
     "output_type": "stream",
     "text": [
      "rel: ['nhà tuyển dụng', 'được phát hiện bởi']\n",
      "en: ['Daniel Henry Holmes Ingalls', 'Objective-C']\n"
     ]
    },
    {
     "name": "stderr",
     "output_type": "stream",
     "text": [
      "Đang đánh giá:   5%|▍         | 77/1683 [05:21<38:53,  1.45s/it]"
     ]
    },
    {
     "name": "stdout",
     "output_type": "stream",
     "text": [
      "rel: ['tensile strength']\n",
      "en: ['Nylon']\n"
     ]
    },
    {
     "name": "stderr",
     "output_type": "stream",
     "text": [
      "Đang đánh giá:   5%|▍         | 78/1683 [05:22<33:07,  1.24s/it]"
     ]
    },
    {
     "name": "stdout",
     "output_type": "stream",
     "text": [
      "rel: ['Olympic record', 'môn thể thao']\n",
      "en: ['chạy tiếp sức']\n"
     ]
    },
    {
     "name": "stderr",
     "output_type": "stream",
     "text": [
      "Đang đánh giá:   5%|▍         | 79/1683 [05:22<28:30,  1.07s/it]"
     ]
    },
    {
     "name": "stdout",
     "output_type": "stream",
     "text": [
      "rel: ['nhiệt độ cháy', 'dẫn đến']\n",
      "en: ['Phosphine']\n",
      "rel: ['nhiệt độ cháy', 'dẫn đến']\n",
      "en: ['phosphine']\n",
      "rel: ['nhiệt độ cháy', 'chất dẫn điện']\n",
      "en: ['Phosphine']\n",
      "rel: ['nhiệt độ bắt cháy']\n",
      "en: ['Phosphine']\n"
     ]
    },
    {
     "name": "stderr",
     "output_type": "stream",
     "text": [
      "Đang đánh giá:   5%|▍         | 80/1683 [05:31<1:30:30,  3.39s/it]"
     ]
    },
    {
     "name": "stdout",
     "output_type": "stream",
     "text": [
      "rel: ['ngày thành lập hoặc tạo ra', 'ngôn ngữ gốc']\n",
      "en: ['Indo-Aryan']\n",
      "rel: ['ngày thành lập hoặc tạo ra', 'ngôn ngữ gốc']\n",
      "en: ['Ấn-Âu']\n",
      "rel: ['ngày thành lập hoặc tạo ra', 'ngôn ngữ gốc']\n",
      "en: ['Ấn Độ']\n",
      "rel: ['được phát hiện bởi', 'ngôn ngữ mẹ đẻ']\n",
      "en: ['Ấn Độ']\n",
      "rel: ['ngày thành lập hoặc tạo ra', 'ngôn ngữ gốc']\n",
      "en: ['Indo-Aryan languages']\n"
     ]
    },
    {
     "name": "stderr",
     "output_type": "stream",
     "text": [
      "Đang đánh giá:   5%|▍         | 81/1683 [05:37<1:52:53,  4.23s/it]"
     ]
    },
    {
     "name": "stdout",
     "output_type": "stream",
     "text": [
      "rel: ['người đứng đầu chính quyền', 'quốc gia xuất xứ']\n",
      "en: ['Led Zeppelin']\n"
     ]
    },
    {
     "name": "stderr",
     "output_type": "stream",
     "text": [
      "Đang đánh giá:   5%|▍         | 82/1683 [05:38<1:23:42,  3.14s/it]"
     ]
    },
    {
     "name": "stdout",
     "output_type": "stream",
     "text": [
      "rel: ['tiếp giáp với', 'nằm trong phạm vi của khu vực hành chính']\n",
      "en: ['Brewster County']\n",
      "rel: ['tiếp giáp với', 'tiếp giáp với']\n",
      "en: ['Brewster County', 'Tamaulipas']\n",
      "rel: ['tiếp giáp với', 'trung tâm hành chính']\n",
      "en: ['Brewster County']\n",
      "rel: ['tiếp giáp với', 'quốc gia']\n",
      "en: ['Brewster County']\n"
     ]
    },
    {
     "name": "stderr",
     "output_type": "stream",
     "text": [
      "Đang đánh giá:   5%|▍         | 83/1683 [05:41<1:22:13,  3.08s/it]"
     ]
    },
    {
     "name": "stdout",
     "output_type": "stream",
     "text": [
      "rel: ['tiếp giáp với']\n",
      "en: []\n",
      "rel: ['RePEC short-ID']\n",
      "en: ['Lars Peter Hansen']\n"
     ]
    },
    {
     "name": "stderr",
     "output_type": "stream",
     "text": [
      "Đang đánh giá:   5%|▍         | 84/1683 [05:42<1:02:48,  2.36s/it]"
     ]
    },
    {
     "name": "stdout",
     "output_type": "stream",
     "text": [
      "rel: ['xuất xứ', 'chất liệu']\n",
      "en: ['Trung Phi']\n",
      "rel: ['nguyên liệu', 'xuất xứ']\n",
      "en: ['Trung Phi']\n",
      "rel: ['nguồn nguyên liệu', 'xuất xứ']\n",
      "en: ['Trung Phi']\n",
      "rel: ['xuất xứ', 'nguồn']\n",
      "en: ['Trung Phi']\n"
     ]
    },
    {
     "name": "stderr",
     "output_type": "stream",
     "text": [
      "Đang đánh giá:   5%|▌         | 85/1683 [05:47<1:30:55,  3.41s/it]"
     ]
    },
    {
     "name": "stdout",
     "output_type": "stream",
     "text": [
      "rel: []\n",
      "en: []\n",
      "rel: ['Swedish Cemetery ID']\n",
      "en: ['Alfred Nobel']\n"
     ]
    },
    {
     "name": "stderr",
     "output_type": "stream",
     "text": [
      "Đang đánh giá:   5%|▌         | 86/1683 [05:48<1:10:56,  2.67s/it]"
     ]
    },
    {
     "name": "stdout",
     "output_type": "stream",
     "text": [
      "rel: ['hồ sơ lưu trữ']\n",
      "en: [\"Museé d'Orsay\"]\n"
     ]
    },
    {
     "name": "stderr",
     "output_type": "stream",
     "text": [
      "Đang đánh giá:   5%|▌         | 87/1683 [05:50<58:38,  2.20s/it]  "
     ]
    },
    {
     "name": "stdout",
     "output_type": "stream",
     "text": [
      "rel: ['Open Vehicle Database ID']\n",
      "en: ['Mad Max']\n"
     ]
    },
    {
     "name": "stderr",
     "output_type": "stream",
     "text": [
      "Đang đánh giá:   5%|▌         | 88/1683 [05:50<48:44,  1.83s/it]"
     ]
    },
    {
     "name": "stdout",
     "output_type": "stream",
     "text": [
      "rel: ['mô tả', 'nằm trong phạm vi của khu vực hành chính']\n",
      "en: ['Quảng Châu']\n",
      "rel: ['mô tả', 'mô tả']\n",
      "en: ['Quảng Châu Garden']\n",
      "rel: ['mô tả', 'được đặt tên theo']\n",
      "en: ['Quảng Châu Garden']\n",
      "rel: ['mô tả']\n",
      "en: ['Quảng Châu Garden']\n"
     ]
    },
    {
     "name": "stderr",
     "output_type": "stream",
     "text": [
      "Đang đánh giá:   5%|▌         | 89/1683 [05:54<1:03:28,  2.39s/it]"
     ]
    },
    {
     "name": "stdout",
     "output_type": "stream",
     "text": [
      "rel: []\n",
      "en: []\n",
      "rel: ['sử dụng bởi', 'xuất bản trong tác phẩm']\n",
      "en: ['The Grapes of Wrath']\n",
      "rel: ['sử dụng bởi', 'tác phẩm trích dẫn']\n",
      "en: ['The Grapes of Wrath']\n",
      "rel: ['tác phẩm chính', 'tác giả']\n",
      "en: ['The Grapes of Wrath']\n"
     ]
    },
    {
     "name": "stderr",
     "output_type": "stream",
     "text": [
      "Đang đánh giá:   5%|▌         | 90/1683 [05:57<1:08:53,  2.59s/it]"
     ]
    },
    {
     "name": "stdout",
     "output_type": "stream",
     "text": [
      "rel: ['Gamebase64 ID']\n",
      "en: ['Donkey Kong']\n"
     ]
    },
    {
     "name": "stderr",
     "output_type": "stream",
     "text": [
      "Đang đánh giá:   5%|▌         | 91/1683 [06:01<1:17:17,  2.91s/it]"
     ]
    },
    {
     "name": "stdout",
     "output_type": "stream",
     "text": [
      "rel: ['SRGB color space']\n",
      "en: ['than']\n",
      "rel: ['bộ ba màu sRGB']\n",
      "en: ['than']\n",
      "rel: ['hệ màu sRGB']\n",
      "en: ['than']\n",
      "rel: ['bộ ba màu']\n",
      "en: ['than']\n"
     ]
    },
    {
     "name": "stderr",
     "output_type": "stream",
     "text": [
      "Đang đánh giá:   5%|▌         | 92/1683 [06:03<1:08:52,  2.60s/it]"
     ]
    },
    {
     "name": "stdout",
     "output_type": "stream",
     "text": [
      "rel: []\n",
      "en: []\n",
      "rel: ['danh sách bài hát trong sưu tập nghệ thuật']\n",
      "en: ['Papryus Oxyrchynchus 223']\n",
      "rel: ['danh sách bài hát trong tác phẩm nghệ thuật']\n",
      "en: ['Papryus Oxyrchynchus 223']\n",
      "rel: ['danh sách bài hát trong sưu tập nghệ thuật']\n",
      "en: ['Papryus Oxyrchynchus 223']\n",
      "rel: ['danh sách bài hát trong bộ sưu tập nghệ thuật']\n",
      "en: ['Papryus Oxyrchynchus 223']\n"
     ]
    },
    {
     "name": "stderr",
     "output_type": "stream",
     "text": [
      "Đang đánh giá:   6%|▌         | 93/1683 [06:10<1:49:05,  4.12s/it]"
     ]
    },
    {
     "name": "stdout",
     "output_type": "stream",
     "text": [
      "rel: []\n",
      "en: []\n",
      "rel: ['số phân loại Dewey', 'nằm trong phạm vi của khu vực hành chính']\n",
      "en: ['Loch Ness']\n"
     ]
    },
    {
     "name": "stderr",
     "output_type": "stream",
     "text": [
      "Đang đánh giá:   6%|▌         | 94/1683 [06:11<1:22:38,  3.12s/it]"
     ]
    },
    {
     "name": "stdout",
     "output_type": "stream",
     "text": [
      "rel: ['ID người đoạt giải']\n",
      "en: ['Mario Vargas Llosa']\n"
     ]
    },
    {
     "name": "stderr",
     "output_type": "stream",
     "text": [
      "Đang đánh giá:   6%|▌         | 95/1683 [06:15<1:27:21,  3.30s/it]"
     ]
    },
    {
     "name": "stdout",
     "output_type": "stream",
     "text": [
      "rel: ['PIN']\n",
      "en: ['Halle Berry']\n",
      "rel: ['PIN code']\n",
      "en: ['Halle Berry']\n",
      "rel: ['mã bưu chính']\n",
      "en: ['Halle Berry']\n",
      "rel: ['mã số PIN']\n",
      "en: ['Halle Berry']\n"
     ]
    },
    {
     "name": "stderr",
     "output_type": "stream",
     "text": [
      "Đang đánh giá:   6%|▌         | 96/1683 [06:20<1:43:54,  3.93s/it]"
     ]
    },
    {
     "name": "stdout",
     "output_type": "stream",
     "text": [
      "rel: []\n",
      "en: []\n",
      "rel: ['diễn viên lồng tiếng', 'loạt']\n",
      "en: ['Planes: Fire & Rescue']\n"
     ]
    },
    {
     "name": "stderr",
     "output_type": "stream",
     "text": [
      "Đang đánh giá:   6%|▌         | 97/1683 [06:22<1:26:48,  3.28s/it]"
     ]
    },
    {
     "name": "stdout",
     "output_type": "stream",
     "text": [
      "rel: ['giới tính', 'sáng tác']\n",
      "en: ['nam', 'Xì Trum nam']\n",
      "rel: ['giới tính', 'người biểu diễn']\n",
      "en: ['nam', 'Xì Trum']\n"
     ]
    },
    {
     "name": "stderr",
     "output_type": "stream",
     "text": [
      "Đang đánh giá:   6%|▌         | 98/1683 [06:24<1:18:41,  2.98s/it]"
     ]
    },
    {
     "name": "stdout",
     "output_type": "stream",
     "text": [
      "rel: ['Armenian Film Archive ID']\n",
      "en: ['Aram Khachaturian']\n"
     ]
    },
    {
     "name": "stderr",
     "output_type": "stream",
     "text": [
      "Đang đánh giá:   6%|▌         | 99/1683 [06:25<1:00:00,  2.27s/it]"
     ]
    },
    {
     "name": "stdout",
     "output_type": "stream",
     "text": [
      "rel: ['trường học', 'trường học']\n",
      "en: ['Jad Abumrad']\n",
      "rel: ['trường học', 'thành viên của']\n",
      "en: ['Jad Abumrad']\n",
      "rel: ['trường học', 'nhà tuyển dụng']\n",
      "en: ['Jad Abumrad']\n",
      "rel: ['người tham gia', 'trường học']\n",
      "en: ['Jad Abumrad']\n",
      "rel: ['trường học', 'học trò của']\n",
      "en: ['Jad Abumrad']\n"
     ]
    },
    {
     "name": "stderr",
     "output_type": "stream",
     "text": [
      "Đang đánh giá:   6%|▌         | 100/1683 [06:31<1:31:41,  3.48s/it]"
     ]
    },
    {
     "name": "stdout",
     "output_type": "stream",
     "text": [
      "✅ Đã lưu 99 dòng vào LLMs/eval_result/evaluation_results03_part_1.json\n",
      "rel: ['UNII']\n",
      "en: ['bạc nitrat']\n"
     ]
    },
    {
     "name": "stderr",
     "output_type": "stream",
     "text": [
      "Đang đánh giá:   6%|▌         | 101/1683 [06:32<1:08:17,  2.59s/it]"
     ]
    },
    {
     "name": "stdout",
     "output_type": "stream",
     "text": [
      "rel: ['diễn viên', 'loạt']\n",
      "en: ['Souls of the Departed']\n"
     ]
    },
    {
     "name": "stderr",
     "output_type": "stream",
     "text": [
      "Đang đánh giá:   6%|▌         | 102/1683 [06:34<1:05:15,  2.48s/it]"
     ]
    },
    {
     "name": "stdout",
     "output_type": "stream",
     "text": [
      "rel: ['sử dụng bởi', 'môn thể thao']\n",
      "en: ['bơi bướm']\n",
      "rel: ['người thắng cuộc', 'môn thể thao']\n",
      "en: ['bơi bướm']\n",
      "rel: ['môn thể thao', 'sử dụng']\n",
      "en: ['bơi bướm']\n",
      "rel: ['sử dụng', 'môn thể thao']\n",
      "en: ['bơi bướm']\n",
      "rel: ['người thắng cuộc', 'môn thể thao']\n",
      "en: ['Bướm']\n"
     ]
    },
    {
     "name": "stderr",
     "output_type": "stream",
     "text": [
      "Đang đánh giá:   6%|▌         | 103/1683 [06:42<1:48:18,  4.11s/it]"
     ]
    },
    {
     "name": "stdout",
     "output_type": "stream",
     "text": [
      "rel: ['thể loại nghệ thuật', 'người biểu diễn']\n",
      "en: ['ghoomar']\n"
     ]
    },
    {
     "name": "stderr",
     "output_type": "stream",
     "text": [
      "Đang đánh giá:   6%|▌         | 104/1683 [06:42<1:19:59,  3.04s/it]"
     ]
    },
    {
     "name": "stdout",
     "output_type": "stream",
     "text": [
      "rel: ['triệu chứng và dấu hiệu', 'dẫn đến']\n",
      "en: ['cacbon tetraclorua']\n"
     ]
    },
    {
     "name": "stderr",
     "output_type": "stream",
     "text": [
      "Đang đánh giá:   6%|▌         | 105/1683 [06:43<1:00:05,  2.28s/it]"
     ]
    },
    {
     "name": "stdout",
     "output_type": "stream",
     "text": [
      "rel: ['các phân cấp hành chính', 'thành phố kết nghĩa']\n",
      "en: ['Quận Eugenio de Castro', 'Tỉnh Shiga']\n"
     ]
    },
    {
     "name": "stderr",
     "output_type": "stream",
     "text": [
      "Đang đánh giá:   6%|▋         | 106/1683 [06:44<48:18,  1.84s/it]  "
     ]
    },
    {
     "name": "stdout",
     "output_type": "stream",
     "text": [
      "rel: ['thể loại nghệ thuật', 'tác giả']\n",
      "en: ['ukiyo-e', 'Giấc mơ của người vợ đánh cá']\n"
     ]
    },
    {
     "name": "stderr",
     "output_type": "stream",
     "text": [
      "Đang đánh giá:   6%|▋         | 107/1683 [06:45<39:34,  1.51s/it]"
     ]
    },
    {
     "name": "stdout",
     "output_type": "stream",
     "text": [
      "rel: ['môn thể thao', 'người tham gia']\n",
      "en: ['ba môn phối hợp nữ', 'Thế vận hội mùa hè 2008']\n",
      "rel: ['môn thể thao', 'người tham gia']\n",
      "en: ['ba môn phối hợp nữ', 'Thế vận hội Olympic 2008']\n",
      "rel: ['môn thể thao', 'môn thể thao']\n",
      "en: ['ba môn phối hợp nữ', 'Olympic Games 2008']\n",
      "rel: ['môn thể thao', 'môn thể thao']\n",
      "en: ['ba môn phối hợp nữ', 'Olympic 2008']\n",
      "rel: ['môn thể thao', 'môn thể thao']\n",
      "en: ['ba môn phối hợp nữ', 'Thể thao ba môn phối hợp']\n"
     ]
    },
    {
     "name": "stderr",
     "output_type": "stream",
     "text": [
      "Đang đánh giá:   6%|▋         | 108/1683 [06:50<1:12:34,  2.76s/it]"
     ]
    },
    {
     "name": "stdout",
     "output_type": "stream",
     "text": [
      "rel: ['danh hiệu cao quý']\n",
      "en: ['Alexander Đại đế']\n"
     ]
    },
    {
     "name": "stderr",
     "output_type": "stream",
     "text": [
      "Đang đánh giá:   6%|▋         | 109/1683 [06:53<1:11:23,  2.72s/it]"
     ]
    },
    {
     "name": "stdout",
     "output_type": "stream",
     "text": [
      "rel: ['người thắng cuộc', 'giải thưởng']\n",
      "en: ['WWE']\n",
      "rel: ['người thắng cuộc', 'giải thưởng']\n",
      "en: ['WWE Champion']\n",
      "rel: ['người thắng cuộc', 'giải thưởng']\n",
      "en: ['WWE Championships']\n",
      "rel: ['giải thưởng', 'được phát hiện bởi']\n",
      "en: ['WWE Champion']\n",
      "rel: ['giải thưởng']\n",
      "en: ['WWE']\n"
     ]
    },
    {
     "name": "stderr",
     "output_type": "stream",
     "text": [
      "Đang đánh giá:   7%|▋         | 110/1683 [06:56<1:18:25,  2.99s/it]"
     ]
    },
    {
     "name": "stdout",
     "output_type": "stream",
     "text": [
      "rel: ['tác giả', 'phần tiếp theo của']\n",
      "en: ['Lake in the Lake']\n"
     ]
    },
    {
     "name": "stderr",
     "output_type": "stream",
     "text": [
      "Đang đánh giá:   7%|▋         | 111/1683 [06:57<59:48,  2.28s/it]  "
     ]
    },
    {
     "name": "stdout",
     "output_type": "stream",
     "text": [
      "rel: ['maximum elevation', 'endemic to']\n",
      "en: ['Callobius klamath']\n",
      "rel: ['điểm cao nhất', 'endemic to']\n",
      "en: ['Callobius klamath']\n"
     ]
    },
    {
     "name": "stderr",
     "output_type": "stream",
     "text": [
      "Đang đánh giá:   7%|▋         | 112/1683 [07:00<1:02:04,  2.37s/it]"
     ]
    },
    {
     "name": "stdout",
     "output_type": "stream",
     "text": [
      "rel: ['sản xuất', 'chất liệu']\n",
      "en: ['Quần yếm']\n",
      "rel: ['sản xuất', 'đơn vị sản xuất']\n",
      "en: ['Quần yếm']\n",
      "rel: ['phương pháp chế tạo', 'chất liệu']\n",
      "en: ['Quần yếm']\n",
      "rel: ['sản xuất', 'phần tiếp theo của']\n",
      "en: ['Quần yếm']\n"
     ]
    },
    {
     "name": "stderr",
     "output_type": "stream",
     "text": [
      "Đang đánh giá:   7%|▋         | 113/1683 [07:05<1:21:25,  3.11s/it]"
     ]
    },
    {
     "name": "stdout",
     "output_type": "stream",
     "text": [
      "rel: ['Pase ID']\n",
      "en: ['Athelstan']\n"
     ]
    },
    {
     "name": "stderr",
     "output_type": "stream",
     "text": [
      "Đang đánh giá:   7%|▋         | 114/1683 [07:05<1:01:23,  2.35s/it]"
     ]
    },
    {
     "name": "stdout",
     "output_type": "stream",
     "text": [
      "rel: ['người sáng lập', 'nhà xuất bản']\n",
      "en: ['Inca']\n"
     ]
    },
    {
     "name": "stderr",
     "output_type": "stream",
     "text": [
      "Đang đánh giá:   7%|▋         | 115/1683 [07:06<46:36,  1.78s/it]  "
     ]
    },
    {
     "name": "stdout",
     "output_type": "stream",
     "text": [
      "rel: ['Czech Street ID']\n",
      "en: ['Charles Bridge']\n"
     ]
    },
    {
     "name": "stderr",
     "output_type": "stream",
     "text": [
      "Đang đánh giá:   7%|▋         | 116/1683 [07:08<52:45,  2.02s/it]"
     ]
    },
    {
     "name": "stdout",
     "output_type": "stream",
     "text": [
      "rel: ['tiếp giáp với', 'thành viên của']\n",
      "en: ['Cộng đồng các quốc gia độc lập']\n",
      "rel: ['thành viên của', 'tiếp giáp với']\n",
      "en: ['Turkmenistan']\n",
      "rel: ['thành viên của', 'tiếp giáp với']\n",
      "en: ['Cộng đồng các quốc gia độc lập']\n",
      "rel: ['tiếp giáp với', 'thành viên của']\n",
      "en: ['Cộng đồng các quốc gia Độc lập']\n"
     ]
    },
    {
     "name": "stderr",
     "output_type": "stream",
     "text": [
      "Đang đánh giá:   7%|▋         | 117/1683 [07:12<1:04:19,  2.46s/it]"
     ]
    },
    {
     "name": "stdout",
     "output_type": "stream",
     "text": [
      "rel: []\n",
      "en: []\n",
      "rel: ['bến cảng', 'người tham gia']\n",
      "en: ['Chiến dịch Galipoli']\n"
     ]
    },
    {
     "name": "stderr",
     "output_type": "stream",
     "text": [
      "Đang đánh giá:   7%|▋         | 118/1683 [07:12<51:01,  1.96s/it]  "
     ]
    },
    {
     "name": "stdout",
     "output_type": "stream",
     "text": [
      "rel: ['màu sắc chính']\n",
      "en: ['Gấu Bắc Cực']\n",
      "rel: ['màu sắc chủ đạo']\n",
      "en: ['Gấu Bắc Cực']\n",
      "rel: ['màu']\n",
      "en: ['Gấu Bắc Cực']\n",
      "rel: ['màu sắc']\n",
      "en: ['Gấu Bắc Cực']\n"
     ]
    },
    {
     "name": "stderr",
     "output_type": "stream",
     "text": [
      "Đang đánh giá:   7%|▋         | 119/1683 [07:14<51:59,  1.99s/it]"
     ]
    },
    {
     "name": "stdout",
     "output_type": "stream",
     "text": [
      "rel: []\n",
      "en: []\n",
      "rel: ['special feature']\n",
      "en: ['Cấu trúc bên trong của Mặt Trăng']\n",
      "rel: ['special features']\n",
      "en: ['Cấu trúc bên trong của Mặt Trăng']\n",
      "rel: ['cấu trúc bên trong']\n",
      "en: ['Mặt Trăng']\n",
      "rel: ['shape of internal structure']\n",
      "en: ['Mặt Trăng']\n",
      "rel: ['has special feature']\n",
      "en: ['Mặt Trăng']\n"
     ]
    },
    {
     "name": "stderr",
     "output_type": "stream",
     "text": [
      "Đang đánh giá:   7%|▋         | 120/1683 [07:17<57:16,  2.20s/it]"
     ]
    },
    {
     "name": "stdout",
     "output_type": "stream",
     "text": [
      "rel: ['người biểu diễn', 'nhạc trưởng']\n",
      "en: ['Lorin Maazel']\n",
      "rel: ['người biểu diễn', 'nhà tuyển dụng']\n",
      "en: ['Lorin Maazel']\n",
      "rel: ['người biểu diễn', 'người biểu diễn']\n",
      "en: ['Lorin Maazel']\n",
      "rel: ['người biểu diễn', 'dẫn bởi']\n",
      "en: ['Lorin Maazel']\n",
      "rel: ['nhạc trưởng']\n",
      "en: ['Lorin Maazel']\n"
     ]
    },
    {
     "name": "stderr",
     "output_type": "stream",
     "text": [
      "Đang đánh giá:   7%|▋         | 121/1683 [07:22<1:15:16,  2.89s/it]"
     ]
    },
    {
     "name": "stdout",
     "output_type": "stream",
     "text": [
      "rel: ['tác phẩm chính', 'tác giả']\n",
      "en: ['François Hollande']\n",
      "rel: ['xuất bản trong tác phẩm', 'tác giả']\n",
      "en: ['François Hollande']\n",
      "rel: ['tác phẩm chính', 'nhà tuyển dụng']\n",
      "en: ['François Hollande']\n",
      "rel: ['tác phẩm chính', 'người soạn nhạc']\n",
      "en: ['François Hollande']\n"
     ]
    },
    {
     "name": "stderr",
     "output_type": "stream",
     "text": [
      "Đang đánh giá:   7%|▋         | 122/1683 [08:35<10:26:37, 24.09s/it]"
     ]
    },
    {
     "name": "stdout",
     "output_type": "stream",
     "text": [
      "rel: []\n",
      "en: []\n",
      "rel: ['phần tiếp theo của', 'nơi chôn cất']\n",
      "en: ['Hasdai Crescas']\n"
     ]
    },
    {
     "name": "stderr",
     "output_type": "stream",
     "text": [
      "Đang đánh giá:   7%|▋         | 123/1683 [08:39<7:48:12, 18.01s/it] "
     ]
    },
    {
     "name": "stdout",
     "output_type": "stream",
     "text": [
      "rel: ['quan hệ ngoại giao', 'lịch sử']\n",
      "en: ['Ấn Độ', 'Malta']\n",
      "rel: ['quan hệ ngoại giao', 'khía cạnh của']\n",
      "en: ['Ấn Độ', 'Malta']\n",
      "rel: ['quan hệ ngoại giao', 'quốc gia']\n",
      "en: ['Malta']\n",
      "rel: ['quan hệ ngoại giao', 'quốc gia trong lịch sử']\n",
      "en: ['Malta']\n"
     ]
    },
    {
     "name": "stderr",
     "output_type": "stream",
     "text": [
      "Đang đánh giá:   7%|▋         | 124/1683 [08:43<6:01:05, 13.90s/it]"
     ]
    },
    {
     "name": "stdout",
     "output_type": "stream",
     "text": [
      "rel: []\n",
      "en: []\n",
      "rel: ['người biểu diễn', 'nhạc cụ']\n",
      "en: ['The Rise and Fall of Ziggy Stardust and the Spiders from Mars']\n",
      "rel: ['người biểu diễn', 'phần kế trước của']\n",
      "en: ['The Rise and Fall of Ziggy Stardust and the Spiders from Mars']\n",
      "rel: ['nhạc cụ', 'người biểu diễn']\n",
      "en: ['piano', 'The Rise and Fall of Ziggy Stardust and the Spiders from Mars']\n",
      "rel: ['nghệ sĩ nhạc cụ', 'người biểu diễn']\n",
      "en: ['The Rise and Fall of Ziggy Stardust and the Spiders from Mars']\n"
     ]
    },
    {
     "name": "stderr",
     "output_type": "stream",
     "text": [
      "Đang đánh giá:   7%|▋         | 125/1683 [08:51<5:11:48, 12.01s/it]"
     ]
    },
    {
     "name": "stdout",
     "output_type": "stream",
     "text": [
      "rel: []\n",
      "en: []\n",
      "rel: ['ngân hàng trung ương', 'quốc gia xuất xứ']\n",
      "en: ['Sydney Morning Herald']\n"
     ]
    },
    {
     "name": "stderr",
     "output_type": "stream",
     "text": [
      "Đang đánh giá:   7%|▋         | 126/1683 [08:55<4:06:21,  9.49s/it]"
     ]
    },
    {
     "name": "stdout",
     "output_type": "stream",
     "text": [
      "rel: ['GOST 7.67']\n",
      "en: ['Hàn Quốc']\n"
     ]
    },
    {
     "name": "stderr",
     "output_type": "stream",
     "text": [
      "Đang đánh giá:   8%|▊         | 127/1683 [08:55<2:57:12,  6.83s/it]"
     ]
    },
    {
     "name": "stdout",
     "output_type": "stream",
     "text": [
      "rel: ['hình cắt ngang']\n",
      "en: ['ổi']\n"
     ]
    },
    {
     "name": "stderr",
     "output_type": "stream",
     "text": [
      "Đang đánh giá:   8%|▊         | 128/1683 [08:56<2:08:02,  4.94s/it]"
     ]
    },
    {
     "name": "stdout",
     "output_type": "stream",
     "text": [
      "rel: ['người đứng đầu chính quyền', 'quốc gia xuất xứ']\n",
      "en: ['Richard Russell']\n"
     ]
    },
    {
     "name": "stderr",
     "output_type": "stream",
     "text": [
      "Đang đánh giá:   8%|▊         | 129/1683 [08:56<1:34:38,  3.65s/it]"
     ]
    },
    {
     "name": "stdout",
     "output_type": "stream",
     "text": [
      "rel: ['người đứng đầu chính quyền']\n",
      "en: ['Bermuda']\n"
     ]
    },
    {
     "name": "stderr",
     "output_type": "stream",
     "text": [
      "Đang đánh giá:   8%|▊         | 130/1683 [08:57<1:11:04,  2.75s/it]"
     ]
    },
    {
     "name": "stdout",
     "output_type": "stream",
     "text": [
      "rel: ['hệ sinh thái']\n",
      "en: ['nấm hương']\n"
     ]
    },
    {
     "name": "stderr",
     "output_type": "stream",
     "text": [
      "Đang đánh giá:   8%|▊         | 131/1683 [08:58<53:54,  2.08s/it]  "
     ]
    },
    {
     "name": "stdout",
     "output_type": "stream",
     "text": [
      "rel: ['số trẻ em không được đến trường']\n",
      "en: ['Trung Đông']\n",
      "rel: ['số trẻ em không đến trường', 'lục địa']\n",
      "en: ['Trung Đông']\n"
     ]
    },
    {
     "name": "stderr",
     "output_type": "stream",
     "text": [
      "Đang đánh giá:   8%|▊         | 132/1683 [08:59<46:43,  1.81s/it]"
     ]
    },
    {
     "name": "stdout",
     "output_type": "stream",
     "text": [
      "rel: ['người đứng đầu chính quyền', 'quốc gia']\n",
      "en: ['Niigata']\n",
      "rel: ['người đứng đầu chính quyền', 'chức vụ']\n",
      "en: ['Niigata']\n",
      "rel: ['vị trí trụ sở', 'đảng viên của đảng chính trị']\n",
      "en: ['Niigata']\n",
      "rel: ['vị trí trụ sở', 'chức vụ']\n",
      "en: ['Niigata']\n"
     ]
    },
    {
     "name": "stderr",
     "output_type": "stream",
     "text": [
      "Đang đánh giá:   8%|▊         | 133/1683 [09:04<1:13:50,  2.86s/it]"
     ]
    },
    {
     "name": "stdout",
     "output_type": "stream",
     "text": [
      "rel: []\n",
      "en: []\n",
      "rel: ['thể chế hành chính']\n",
      "en: ['Nicaragua']\n",
      "rel: ['nằm trong phạm vi của khu vực hành chính']\n",
      "en: ['Nicaragua']\n",
      "rel: ['các phân cấp hành chính', 'quốc gia']\n",
      "en: ['Nicaragua']\n",
      "rel: ['các phân cấp hành chính']\n",
      "en: ['Nicaragua']\n"
     ]
    },
    {
     "name": "stderr",
     "output_type": "stream",
     "text": [
      "Đang đánh giá:   8%|▊         | 134/1683 [09:06<1:06:57,  2.59s/it]"
     ]
    },
    {
     "name": "stdout",
     "output_type": "stream",
     "text": [
      "rel: []\n",
      "en: []\n",
      "rel: ['Pornhub ID']\n",
      "en: ['Jamie Gillis']\n"
     ]
    },
    {
     "name": "stderr",
     "output_type": "stream",
     "text": [
      "Đang đánh giá:   8%|▊         | 135/1683 [09:07<51:31,  2.00s/it]  "
     ]
    },
    {
     "name": "stdout",
     "output_type": "stream",
     "text": [
      "rel: ['thành phố kết nghĩa', 'nơi sinh']\n",
      "en: ['Bethlehem', 'Philippe Quintais']\n"
     ]
    },
    {
     "name": "stderr",
     "output_type": "stream",
     "text": [
      "Đang đánh giá:   8%|▊         | 136/1683 [09:07<41:53,  1.62s/it]"
     ]
    },
    {
     "name": "stdout",
     "output_type": "stream",
     "text": [
      "rel: ['Internet Broadway Database ID']\n",
      "en: ['Antigone']\n"
     ]
    },
    {
     "name": "stderr",
     "output_type": "stream",
     "text": [
      "Đang đánh giá:   8%|▊         | 137/1683 [09:08<34:27,  1.34s/it]"
     ]
    },
    {
     "name": "stdout",
     "output_type": "stream",
     "text": [
      "rel: ['Tropicos journal ID']\n",
      "en: ['Linnean Society Journal']\n"
     ]
    },
    {
     "name": "stderr",
     "output_type": "stream",
     "text": [
      "Đang đánh giá:   8%|▊         | 138/1683 [09:09<29:40,  1.15s/it]"
     ]
    },
    {
     "name": "stdout",
     "output_type": "stream",
     "text": [
      "rel: ['lục địa', 'nơi cư trú']\n",
      "en: ['Douglas Adams']\n"
     ]
    },
    {
     "name": "stderr",
     "output_type": "stream",
     "text": [
      "Đang đánh giá:   8%|▊         | 139/1683 [09:09<24:58,  1.03it/s]"
     ]
    },
    {
     "name": "stdout",
     "output_type": "stream",
     "text": [
      "rel: ['thành phố kết nghĩa', 'nơi mất']\n",
      "en: ['Vilnius', 'Bolesław Prus']\n"
     ]
    },
    {
     "name": "stderr",
     "output_type": "stream",
     "text": [
      "Đang đánh giá:   8%|▊         | 140/1683 [09:10<23:41,  1.09it/s]"
     ]
    },
    {
     "name": "stdout",
     "output_type": "stream",
     "text": [
      "rel: ['diễn viên', 'loạt']\n",
      "en: ['You Give Lunch a Bad Name']\n"
     ]
    },
    {
     "name": "stderr",
     "output_type": "stream",
     "text": [
      "Đang đánh giá:   8%|▊         | 141/1683 [09:13<39:01,  1.52s/it]"
     ]
    },
    {
     "name": "stdout",
     "output_type": "stream",
     "text": [
      "rel: ['ngày kết thúc', 'mùa giải']\n",
      "en: ['A-League']\n",
      "rel: ['ngày kết thúc', 'giải đấu']\n",
      "en: ['A-League']\n",
      "rel: ['bắt đầu vào thời điểm nào']\n",
      "en: ['A-League']\n",
      "rel: ['mùa giải']\n",
      "en: ['A-League']\n",
      "rel: ['mùa giải kết thúc']\n",
      "en: ['A-League']\n"
     ]
    },
    {
     "name": "stderr",
     "output_type": "stream",
     "text": [
      "Đang đánh giá:   8%|▊         | 142/1683 [09:16<49:45,  1.94s/it]"
     ]
    },
    {
     "name": "stdout",
     "output_type": "stream",
     "text": [
      "rel: ['tác dụng phụ', 'dẫn đến']\n",
      "en: ['đốt cháy']\n",
      "rel: ['ảnh hưởng bởi', 'dẫn đến']\n",
      "en: ['đốt cháy']\n",
      "rel: ['has adverse effect']\n",
      "en: ['đốt cháy']\n",
      "rel: ['tác dụng phụ']\n",
      "en: ['quá trình đốt cháy']\n"
     ]
    },
    {
     "name": "stderr",
     "output_type": "stream",
     "text": [
      "Đang đánh giá:   8%|▊         | 143/1683 [09:21<1:12:43,  2.83s/it]"
     ]
    },
    {
     "name": "stdout",
     "output_type": "stream",
     "text": [
      "rel: []\n",
      "en: []\n",
      "rel: ['British Library ID']\n",
      "en: ['Đại học Birmingham']\n"
     ]
    },
    {
     "name": "stderr",
     "output_type": "stream",
     "text": [
      "Đang đánh giá:   9%|▊         | 144/1683 [09:22<56:36,  2.21s/it]  "
     ]
    },
    {
     "name": "stdout",
     "output_type": "stream",
     "text": [
      "rel: ['ảnh hưởng bởi', 'ảnh hưởng bởi']\n",
      "en: ['The Communist Manifesto']\n",
      "rel: ['ảnh hưởng bởi', 'ảnh hưởng bởi']\n",
      "en: ['Chủ nghĩa nghệ thuật cao cấp']\n",
      "rel: ['ảnh hưởng bởi', 'ảnh hưởng bởi']\n",
      "en: ['Chủ nghĩa cao cấp']\n",
      "rel: ['ảnh hưởng bởi', 'ảnh hưởng bởi']\n",
      "en: ['The Communist Party of the Russian Federation']\n"
     ]
    },
    {
     "name": "stderr",
     "output_type": "stream",
     "text": [
      "Đang đánh giá:   9%|▊         | 145/1683 [09:26<1:17:05,  3.01s/it]"
     ]
    },
    {
     "name": "stdout",
     "output_type": "stream",
     "text": [
      "rel: []\n",
      "en: []\n",
      "rel: ['lịch sử']\n",
      "en: ['British Columbia']\n",
      "rel: ['chủ đề lịch sử']\n",
      "en: ['British Columbia']\n",
      "rel: ['history topic']\n",
      "en: ['British Columbia']\n",
      "rel: ['history topic ID']\n",
      "en: ['British Columbia']\n"
     ]
    },
    {
     "name": "stderr",
     "output_type": "stream",
     "text": [
      "Đang đánh giá:   9%|▊         | 146/1683 [09:29<1:12:22,  2.83s/it]"
     ]
    },
    {
     "name": "stdout",
     "output_type": "stream",
     "text": [
      "rel: []\n",
      "en: []\n",
      "rel: ['BAV ID']\n",
      "en: ['Ida Tarbell']\n"
     ]
    },
    {
     "name": "stderr",
     "output_type": "stream",
     "text": [
      "Đang đánh giá:   9%|▊         | 147/1683 [09:30<56:20,  2.20s/it]  "
     ]
    },
    {
     "name": "stdout",
     "output_type": "stream",
     "text": [
      "rel: ['dân số trung bình', 'nằm trong phạm vi của khu vực hành chính']\n",
      "en: ['Nam Bohemia']\n",
      "rel: ['tuổi trung bình', 'nằm trong phạm vi của khu vực hành chính']\n",
      "en: ['Nam Bohemia']\n",
      "rel: ['độ tuổi trung bình', 'nằm trong phạm vi của khu vực hành chính']\n",
      "en: ['Nam Bohemia']\n",
      "rel: ['trung bình', 'nằm trong phạm vi của khu vực hành chính']\n",
      "en: ['Nam Bohemia']\n",
      "rel: ['tuổi trung bình']\n",
      "en: ['Nam Bohemia']\n"
     ]
    },
    {
     "name": "stderr",
     "output_type": "stream",
     "text": [
      "Đang đánh giá:   9%|▉         | 148/1683 [09:33<1:09:00,  2.70s/it]"
     ]
    },
    {
     "name": "stdout",
     "output_type": "stream",
     "text": [
      "rel: ['nguyên nhân chết', 'diễn viên']\n",
      "en: ['Spartacus']\n"
     ]
    },
    {
     "name": "stderr",
     "output_type": "stream",
     "text": [
      "Đang đánh giá:   9%|▉         | 149/1683 [09:34<54:07,  2.12s/it]  "
     ]
    },
    {
     "name": "stdout",
     "output_type": "stream",
     "text": [
      "rel: ['Swedish Olympic Committee athlete ID']\n",
      "en: ['Jan-Ove Waldner']\n"
     ]
    },
    {
     "name": "stderr",
     "output_type": "stream",
     "text": [
      "Đang đánh giá:   9%|▉         | 150/1683 [09:35<44:06,  1.73s/it]"
     ]
    },
    {
     "name": "stdout",
     "output_type": "stream",
     "text": [
      "rel: ['người thắng cuộc', 'giải thưởng']\n",
      "en: ['Väinö Linna']\n",
      "rel: ['giải thưởng', 'người tham gia']\n",
      "en: ['Väinö Linna']\n",
      "rel: ['giải thưởng', 'người thắng cuộc']\n",
      "en: ['Väinö Linna']\n",
      "rel: ['người thắng cuộc', 'giải thưởng']\n",
      "en: ['Viinö Linna']\n"
     ]
    },
    {
     "name": "stderr",
     "output_type": "stream",
     "text": [
      "Đang đánh giá:   9%|▉         | 151/1683 [09:39<59:07,  2.32s/it]"
     ]
    },
    {
     "name": "stdout",
     "output_type": "stream",
     "text": [
      "rel: ['giải thưởng']\n",
      "en: []\n",
      "rel: ['định danh giải phẫu Xenopus']\n",
      "en: ['hệ thống xương']\n"
     ]
    },
    {
     "name": "stderr",
     "output_type": "stream",
     "text": [
      "Đang đánh giá:   9%|▉         | 152/1683 [09:39<46:30,  1.82s/it]"
     ]
    },
    {
     "name": "stdout",
     "output_type": "stream",
     "text": [
      "rel: ['ODIS person ID']\n",
      "en: ['Đức Giáo hoàng Leo XIII']\n"
     ]
    },
    {
     "name": "stderr",
     "output_type": "stream",
     "text": [
      "Đang đánh giá:   9%|▉         | 153/1683 [09:42<52:36,  2.06s/it]"
     ]
    },
    {
     "name": "stdout",
     "output_type": "stream",
     "text": [
      "rel: ['Esco watchmaker ID']\n",
      "en: ['đồng hồ']\n"
     ]
    },
    {
     "name": "stderr",
     "output_type": "stream",
     "text": [
      "Đang đánh giá:   9%|▉         | 154/1683 [09:43<41:24,  1.63s/it]"
     ]
    },
    {
     "name": "stdout",
     "output_type": "stream",
     "text": [
      "rel: ['liên minh', 'thành phố kết nghĩa']\n",
      "en: ['Le Mans']\n",
      "rel: ['người tham gia', 'thành phố kết nghĩa']\n",
      "en: ['Le Mans']\n"
     ]
    },
    {
     "name": "stderr",
     "output_type": "stream",
     "text": [
      "Đang đánh giá:   9%|▉         | 155/1683 [09:44<38:36,  1.52s/it]"
     ]
    },
    {
     "name": "stdout",
     "output_type": "stream",
     "text": [
      "rel: ['chủ đề chính']\n",
      "en: ['Wham!']\n",
      "rel: ['chủ đề chính', 'người biểu diễn']\n",
      "en: ['Wham!']\n",
      "rel: ['chủ đề chính', 'người soạn nhạc']\n",
      "en: ['Wham!']\n",
      "rel: ['đề tài chính']\n",
      "en: ['Wham!']\n",
      "rel: ['chủ đề chính', 'hãng ghi âm']\n",
      "en: ['Wham!']\n"
     ]
    },
    {
     "name": "stderr",
     "output_type": "stream",
     "text": [
      "Đang đánh giá:   9%|▉         | 156/1683 [09:47<51:24,  2.02s/it]"
     ]
    },
    {
     "name": "stdout",
     "output_type": "stream",
     "text": [
      "rel: ['tốc độ nổ', 'chất']\n",
      "en: ['2 , 4 - Trinitrotoluene']\n",
      "rel: ['tốc độ nổ', 'chất']\n",
      "en: ['2 , 4, 6 - Trinitrotoluene']\n",
      "rel: ['tốc độ phân rã', 'nguyên tử']\n",
      "en: ['2 , 4 - Trinitrotoluene']\n",
      "rel: ['tốc độ nổ', 'chất']\n",
      "en: ['2 , 4, 6-Trinitrotoluene']\n"
     ]
    },
    {
     "name": "stderr",
     "output_type": "stream",
     "text": [
      "Đang đánh giá:   9%|▉         | 157/1683 [09:54<1:31:26,  3.60s/it]"
     ]
    },
    {
     "name": "stdout",
     "output_type": "stream",
     "text": [
      "rel: []\n",
      "en: []\n",
      "rel: ['triệu chứng và dấu hiệu', 'dẫn đến']\n",
      "en: ['bỏng axit sunfuric']\n",
      "rel: ['biểu hiện lâm sàng', 'triệu chứng và dấu hiệu']\n",
      "en: ['bỏng axit sunfuric']\n",
      "rel: ['triệu chứng và dấu hiệu', 'được phát hiện bởi']\n",
      "en: ['bỏng axit sunfuric']\n",
      "rel: ['triệu chứng và dấu hiệu', 'dẫn đến']\n",
      "en: ['Bỏng axit sunfuric']\n"
     ]
    },
    {
     "name": "stderr",
     "output_type": "stream",
     "text": [
      "Đang đánh giá:   9%|▉         | 158/1683 [09:58<1:30:48,  3.57s/it]"
     ]
    },
    {
     "name": "stdout",
     "output_type": "stream",
     "text": [
      "rel: []\n",
      "en: []\n",
      "rel: ['huấn luyện viên trưởng']\n",
      "en: ['Bogdan Tiru']\n",
      "rel: ['huấn luyện viên', 'tham gia']\n",
      "en: ['Bogdan Tiru']\n",
      "rel: ['huấn luyện viên']\n",
      "en: ['Bogdan Tiru']\n",
      "rel: ['huấn luyện viên', 'tham gia bởi']\n",
      "en: ['Bogdan Tiru']\n"
     ]
    },
    {
     "name": "stderr",
     "output_type": "stream",
     "text": [
      "Đang đánh giá:   9%|▉         | 159/1683 [10:03<1:42:15,  4.03s/it]"
     ]
    },
    {
     "name": "stdout",
     "output_type": "stream",
     "text": [
      "rel: []\n",
      "en: []\n",
      "rel: ['Galiciana author ID']\n",
      "en: ['Thánh Augustine']\n"
     ]
    },
    {
     "name": "stderr",
     "output_type": "stream",
     "text": [
      "Đang đánh giá:  10%|▉         | 160/1683 [10:04<1:16:06,  3.00s/it]"
     ]
    },
    {
     "name": "stdout",
     "output_type": "stream",
     "text": [
      "rel: ['phong cách kiến trúc', 'sử dụng']\n",
      "en: ['giặt là']\n"
     ]
    },
    {
     "name": "stderr",
     "output_type": "stream",
     "text": [
      "Đang đánh giá:  10%|▉         | 161/1683 [10:04<58:08,  2.29s/it]  "
     ]
    },
    {
     "name": "stdout",
     "output_type": "stream",
     "text": [
      "rel: ['người thắng cuộc', 'tác giả']\n",
      "en: ['Black Girl/White Girl']\n"
     ]
    },
    {
     "name": "stderr",
     "output_type": "stream",
     "text": [
      "Đang đánh giá:  10%|▉         | 162/1683 [10:05<45:32,  1.80s/it]"
     ]
    },
    {
     "name": "stdout",
     "output_type": "stream",
     "text": [
      "rel: ['người sáng lập', 'hãng đĩa ghi âm']\n",
      "en: ['Godfather Buried Alive']\n"
     ]
    },
    {
     "name": "stderr",
     "output_type": "stream",
     "text": [
      "Đang đánh giá:  10%|▉         | 163/1683 [10:07<50:50,  2.01s/it]"
     ]
    },
    {
     "name": "stdout",
     "output_type": "stream",
     "text": [
      "rel: ['người kể chuyện']\n",
      "en: ['Derek Jacobi']\n",
      "rel: ['tác giả', 'xuất hiện trong tác phẩm']\n",
      "en: ['Derek Jacobi']\n",
      "rel: ['tác phẩm chính', 'người kể chuyện']\n",
      "en: ['Derek Jacobi']\n"
     ]
    },
    {
     "name": "stderr",
     "output_type": "stream",
     "text": [
      "Đang đánh giá:  10%|▉         | 164/1683 [10:10<59:15,  2.34s/it]"
     ]
    },
    {
     "name": "stdout",
     "output_type": "stream",
     "text": [
      "rel: ['người kể chuyện']\n",
      "en: []\n",
      "rel: []\n",
      "en: []\n",
      "rel: ['Munzinger Pop ID']\n",
      "en: ['Morrissey']\n"
     ]
    },
    {
     "name": "stderr",
     "output_type": "stream",
     "text": [
      "Đang đánh giá:  10%|▉         | 165/1683 [10:11<46:13,  1.83s/it]"
     ]
    },
    {
     "name": "stdout",
     "output_type": "stream",
     "text": [
      "rel: ['Smithsonian Art Inventory ID']\n",
      "en: ['Antoine Watteau']\n"
     ]
    },
    {
     "name": "stderr",
     "output_type": "stream",
     "text": [
      "Đang đánh giá:  10%|▉         | 166/1683 [10:13<49:21,  1.95s/it]"
     ]
    },
    {
     "name": "stdout",
     "output_type": "stream",
     "text": [
      "rel: ['GeoNames special feature ID']\n",
      "en: ['Vùng đất ngập nước']\n"
     ]
    },
    {
     "name": "stderr",
     "output_type": "stream",
     "text": [
      "Đang đánh giá:  10%|▉         | 167/1683 [10:15<50:33,  2.00s/it]"
     ]
    },
    {
     "name": "stdout",
     "output_type": "stream",
     "text": [
      "rel: ['sự phân rã hạt nhân', 'dẫn đến']\n",
      "en: ['albit']\n",
      "rel: ['sự phân rã hạt nhân', 'dẫn đến']\n",
      "en: ['albite']\n",
      "rel: ['sự phân rã hạt nhân', 'dẫn đến']\n",
      "en: ['Albite']\n",
      "rel: ['sự phân mảnh', 'dẫn đến']\n",
      "en: ['albite']\n",
      "rel: ['crack type']\n",
      "en: ['albit']\n"
     ]
    },
    {
     "name": "stderr",
     "output_type": "stream",
     "text": [
      "Đang đánh giá:  10%|▉         | 168/1683 [10:21<1:15:03,  2.97s/it]"
     ]
    },
    {
     "name": "stdout",
     "output_type": "stream",
     "text": [
      "rel: ['Commonwealth Games athlete ID']\n",
      "en: ['Sebastian Coe']\n"
     ]
    },
    {
     "name": "stderr",
     "output_type": "stream",
     "text": [
      "Đang đánh giá:  10%|█         | 169/1683 [10:21<57:30,  2.28s/it]  "
     ]
    },
    {
     "name": "stdout",
     "output_type": "stream",
     "text": [
      "rel: ['người biểu diễn', 'mô tả']\n",
      "en: ['The Rape of Proserpina']\n",
      "rel: ['nhân vật chính', 'tác phẩm chính']\n",
      "en: ['The Rape of Proserpina']\n",
      "rel: ['nhân vật chính']\n",
      "en: ['The Rape of Proserpina']\n",
      "rel: ['nhân vật chính', 'mô tả']\n",
      "en: ['The Rape of Proserpina']\n"
     ]
    },
    {
     "name": "stderr",
     "output_type": "stream",
     "text": [
      "Đang đánh giá:  10%|█         | 170/1683 [10:25<1:04:19,  2.55s/it]"
     ]
    },
    {
     "name": "stdout",
     "output_type": "stream",
     "text": [
      "rel: []\n",
      "en: []\n",
      "rel: ['được xem là đồng nghĩa với', 'tên']\n",
      "en: ['cho vay', 'John Stagliano']\n"
     ]
    },
    {
     "name": "stderr",
     "output_type": "stream",
     "text": [
      "Đang đánh giá:  10%|█         | 171/1683 [10:25<50:19,  2.00s/it]  "
     ]
    },
    {
     "name": "stdout",
     "output_type": "stream",
     "text": [
      "rel: ['OpenPlaques topic ID']\n",
      "en: ['Richard Wagner']\n"
     ]
    },
    {
     "name": "stderr",
     "output_type": "stream",
     "text": [
      "Đang đánh giá:  10%|█         | 172/1683 [10:29<1:02:34,  2.48s/it]"
     ]
    },
    {
     "name": "stdout",
     "output_type": "stream",
     "text": [
      "rel: ['bước sóng tối thiểu', 'phát hiện bởi']\n",
      "en: ['Mảng rất lớn Karl G. Jansky']\n",
      "rel: ['bước sóng tối thiểu', 'phát hiện bởi']\n",
      "en: ['Karl G. Jansky Very Large Array']\n",
      "rel: ['bước sóng tối thiểu', 'thiên thể mẹ']\n",
      "en: ['Mảng rất lớn Karl G. Jansky']\n"
     ]
    },
    {
     "name": "stderr",
     "output_type": "stream",
     "text": [
      "Đang đánh giá:  10%|█         | 173/1683 [10:31<1:01:21,  2.44s/it]"
     ]
    },
    {
     "name": "stdout",
     "output_type": "stream",
     "text": [
      "rel: ['bước sóng tối thiểu']\n",
      "en: []\n",
      "rel: []\n",
      "en: []\n",
      "rel: ['lịch sử', 'nằm trong phạm vi của khu vực hành chính']\n",
      "en: ['Saskatchewan']\n",
      "rel: ['danh sách phân loại của người dân Canada', 'khía cạnh của']\n",
      "en: ['Saskatchewan']\n",
      "rel: ['danh sách liên kết', 'nằm trong phạm vi của khu vực hành chính']\n",
      "en: ['Saskatchewan']\n",
      "rel: ['lịch sử', 'quốc gia']\n",
      "en: ['Saskatchewan']\n"
     ]
    },
    {
     "name": "stderr",
     "output_type": "stream",
     "text": [
      "Đang đánh giá:  10%|█         | 174/1683 [10:35<1:10:26,  2.80s/it]"
     ]
    },
    {
     "name": "stdout",
     "output_type": "stream",
     "text": [
      "rel: []\n",
      "en: []\n",
      "rel: ['cơ quan quản lý', 'nói , viết hoặc ký bằng các ngôn ngữ']\n",
      "en: ['O Tannenbaum']\n",
      "rel: ['cơ quan ngôn ngữ', 'nói , viết hoặc ký bằng các ngôn ngữ']\n",
      "en: ['O Tannenbaum']\n",
      "rel: ['ngôn ngữ chính thức', 'cơ quan quản lý']\n",
      "en: ['O Tannenbaum']\n",
      "rel: ['cơ quan quản lý']\n",
      "en: ['O Tannenbaum']\n"
     ]
    },
    {
     "name": "stderr",
     "output_type": "stream",
     "text": [
      "Đang đánh giá:  10%|█         | 175/1683 [10:38<1:16:27,  3.04s/it]"
     ]
    },
    {
     "name": "stdout",
     "output_type": "stream",
     "text": [
      "rel: []\n",
      "en: []\n",
      "rel: ['UN number']\n",
      "en: ['Dimethyl ether']\n"
     ]
    },
    {
     "name": "stderr",
     "output_type": "stream",
     "text": [
      "Đang đánh giá:  10%|█         | 176/1683 [10:41<1:14:07,  2.95s/it]"
     ]
    },
    {
     "name": "stdout",
     "output_type": "stream",
     "text": [
      "rel: ['tác phẩm chính', 'phần tiếp theo của']\n",
      "en: ['A Long Way from Chicago']\n",
      "rel: ['người soạn nhạc', 'phần kế trước của']\n",
      "en: ['A Long Way from Chicago']\n"
     ]
    },
    {
     "name": "stderr",
     "output_type": "stream",
     "text": [
      "Đang đánh giá:  11%|█         | 177/1683 [10:43<1:03:49,  2.54s/it]"
     ]
    },
    {
     "name": "stdout",
     "output_type": "stream",
     "text": [
      "rel: ['mã bưu chính']\n",
      "en: ['Ricky Martin']\n",
      "rel: ['mã bưu chính', 'nơi sinh']\n",
      "en: ['Ricky Martin']\n"
     ]
    },
    {
     "name": "stderr",
     "output_type": "stream",
     "text": [
      "Đang đánh giá:  11%|█         | 178/1683 [10:47<1:15:53,  3.03s/it]"
     ]
    },
    {
     "name": "stdout",
     "output_type": "stream",
     "text": [
      "rel: ['quân hàm', 'quân sự']\n",
      "en: ['George Vancouver']\n",
      "rel: ['quân hàm']\n",
      "en: ['George Vancouver']\n"
     ]
    },
    {
     "name": "stderr",
     "output_type": "stream",
     "text": [
      "Đang đánh giá:  11%|█         | 179/1683 [10:51<1:24:19,  3.36s/it]"
     ]
    },
    {
     "name": "stdout",
     "output_type": "stream",
     "text": [
      "rel: ['môn học', 'học trò của']\n",
      "en: ['Theodosius Dobzhansky']\n",
      "rel: ['tôn giáo', 'học trò của']\n",
      "en: ['Theodosius Dobzhansky']\n"
     ]
    },
    {
     "name": "stderr",
     "output_type": "stream",
     "text": [
      "Đang đánh giá:  11%|█         | 180/1683 [10:53<1:11:23,  2.85s/it]"
     ]
    },
    {
     "name": "stdout",
     "output_type": "stream",
     "text": [
      "rel: ['Hawaii Sports Hall of Fame ID']\n",
      "en: ['Duke Kahanamoku']\n"
     ]
    },
    {
     "name": "stderr",
     "output_type": "stream",
     "text": [
      "Đang đánh giá:  11%|█         | 181/1683 [10:53<54:54,  2.19s/it]  "
     ]
    },
    {
     "name": "stdout",
     "output_type": "stream",
     "text": [
      "rel: ['hệ thập phân']\n",
      "en: ['cơ số']\n"
     ]
    },
    {
     "name": "stderr",
     "output_type": "stream",
     "text": [
      "Đang đánh giá:  11%|█         | 182/1683 [10:54<42:49,  1.71s/it]"
     ]
    },
    {
     "name": "stdout",
     "output_type": "stream",
     "text": [
      "rel: ['các phân cấp hành chính', 'nơi sinh']\n",
      "en: ['Quận Cotta', 'August III của Ba Lan']\n"
     ]
    },
    {
     "name": "stderr",
     "output_type": "stream",
     "text": [
      "Đang đánh giá:  11%|█         | 183/1683 [10:55<35:56,  1.44s/it]"
     ]
    },
    {
     "name": "stdout",
     "output_type": "stream",
     "text": [
      "rel: ['decays into']\n",
      "en: ['boson Higgs']\n"
     ]
    },
    {
     "name": "stderr",
     "output_type": "stream",
     "text": [
      "Đang đánh giá:  11%|█         | 184/1683 [10:55<30:08,  1.21s/it]"
     ]
    },
    {
     "name": "stdout",
     "output_type": "stream",
     "text": [
      "rel: ['môn thể thao', 'vị trí']\n",
      "en: ['Sân vận động Wembley']\n",
      "rel: ['môn thể thao', 'vị trí']\n",
      "en: ['Wembley Stadium']\n",
      "rel: ['môn thể thao', 'quốc gia xuất xứ']\n",
      "en: ['Wembley Stadium']\n",
      "rel: ['môn thể thao']\n",
      "en: ['Sân vận động Wembley']\n"
     ]
    },
    {
     "name": "stderr",
     "output_type": "stream",
     "text": [
      "Đang đánh giá:  11%|█         | 185/1683 [10:58<41:25,  1.66s/it]"
     ]
    },
    {
     "name": "stdout",
     "output_type": "stream",
     "text": [
      "rel: []\n",
      "en: []\n",
      "rel: ['liên hệ di truyền', 'ảnh hưởng bởi']\n",
      "en: ['CNKSR3', 'Luigi Comencini']\n",
      "rel: ['liên hệ di truyền', 'mô tả']\n",
      "en: ['Luigi Comencini']\n",
      "rel: ['liên hệ di truyền', 'ảnh hưởng bởi']\n",
      "en: ['Luigi Comencini']\n",
      "rel: ['liên hệ di truyền', 'hình mẫu']\n",
      "en: ['CNKSR3', 'Luigi Comencini']\n"
     ]
    },
    {
     "name": "stderr",
     "output_type": "stream",
     "text": [
      "Đang đánh giá:  11%|█         | 186/1683 [11:06<1:27:25,  3.50s/it]"
     ]
    },
    {
     "name": "stdout",
     "output_type": "stream",
     "text": [
      "rel: ['biên đạo múa', 'người biểu diễn']\n",
      "en: ['The Rite of Spring']\n",
      "rel: ['biên đạo', 'người biểu diễn']\n",
      "en: ['The Rite of Spring']\n",
      "rel: ['người biểu diễn', 'người soạn nhạc']\n",
      "en: ['The Rite of Spring']\n",
      "rel: ['người biểu diễn', 'nhà biên đạo']\n",
      "en: ['The Rite of Spring']\n",
      "rel: ['biên đạo múa']\n",
      "en: ['The Rite of Spring']\n"
     ]
    },
    {
     "name": "stderr",
     "output_type": "stream",
     "text": [
      "Đang đánh giá:  11%|█         | 187/1683 [11:10<1:28:52,  3.56s/it]"
     ]
    },
    {
     "name": "stdout",
     "output_type": "stream",
     "text": [
      "rel: ['nơi sinh', 'nơi cư trú']\n",
      "en: ['Richard E. Bellman', 'Brooklyn']\n",
      "rel: ['nơi sinh', 'nơi sinh']\n",
      "en: ['Richard E. Bellman', 'Brooklyn']\n",
      "rel: ['nơi sinh', 'nơi công tác']\n",
      "en: ['Richard E. Bellman']\n",
      "rel: ['nơi sinh', 'nơi công tác']\n",
      "en: ['Brooklyn', 'Richard E. Bellman']\n",
      "rel: ['nơi sinh', 'nơi cư trú']\n",
      "en: ['Brooklyn', 'Richard E. Bellman']\n"
     ]
    },
    {
     "name": "stderr",
     "output_type": "stream",
     "text": [
      "Đang đánh giá:  11%|█         | 188/1683 [11:15<1:41:50,  4.09s/it]"
     ]
    },
    {
     "name": "stdout",
     "output_type": "stream",
     "text": [
      "rel: ['chủ sở hữu', 'tác giả']\n",
      "en: ['Paula Hoegh-Guldberg']\n",
      "rel: ['chủ sở hữu', 'sáng tác']\n",
      "en: ['Paula Hoegh-Guldberg']\n",
      "rel: ['người thắng cuộc', 'sáng tác']\n",
      "en: ['Paula Hoegh-Guldberg']\n",
      "rel: ['chủ sở hữu', 'tác phẩm']\n",
      "en: ['Paula Hoegh-Guldberg']\n"
     ]
    },
    {
     "name": "stderr",
     "output_type": "stream",
     "text": [
      "Đang đánh giá:  11%|█         | 189/1683 [11:21<1:52:58,  4.54s/it]"
     ]
    },
    {
     "name": "stdout",
     "output_type": "stream",
     "text": [
      "rel: []\n",
      "en: []\n",
      "rel: ['giống loài', 'giống với']\n",
      "en: ['Cavalier King Charles Spaniel']\n",
      "rel: ['giống với', 'giống loài với']\n",
      "en: ['Cavalier King Charles Spaniel']\n",
      "rel: ['giống loài', 'giống loài với']\n",
      "en: ['Cavalier King Charles Spaniel']\n",
      "rel: ['giống với', 'giống với']\n",
      "en: ['Cavalier King Charles Spaniel']\n",
      "rel: ['giống loài', 'giống loài với']\n",
      "en: ['Cavalier King Charles Spaniel']\n"
     ]
    },
    {
     "name": "stderr",
     "output_type": "stream",
     "text": [
      "Đang đánh giá:  11%|█▏        | 190/1683 [11:25<1:51:31,  4.48s/it]"
     ]
    },
    {
     "name": "stdout",
     "output_type": "stream",
     "text": [
      "rel: ['tổ chức con', 'tổ chức mẹ']\n",
      "en: ['United States Air Force']\n"
     ]
    },
    {
     "name": "stderr",
     "output_type": "stream",
     "text": [
      "Đang đánh giá:  11%|█▏        | 191/1683 [11:25<1:21:54,  3.29s/it]"
     ]
    },
    {
     "name": "stdout",
     "output_type": "stream",
     "text": [
      "rel: ['ký bởi', 'ký kết bởi']\n",
      "en: ['Treaty of Versailles']\n",
      "rel: ['ký kết bởi', 'người ký kết']\n",
      "en: ['Hiệp ước Versailles']\n",
      "rel: ['ký bởi', 'ký kết bởi']\n",
      "en: ['Hiệp ước Versailles']\n"
     ]
    },
    {
     "name": "stderr",
     "output_type": "stream",
     "text": [
      "Đang đánh giá:  11%|█▏        | 192/1683 [11:28<1:14:21,  2.99s/it]"
     ]
    },
    {
     "name": "stdout",
     "output_type": "stream",
     "text": [
      "rel: ['ký kết bởi']\n",
      "en: []\n",
      "rel: []\n",
      "en: []\n",
      "rel: ['minimum age of compulsory education']\n",
      "en: ['Oregon']\n",
      "rel: ['minimum age', 'trường học']\n",
      "en: ['Oregon']\n"
     ]
    },
    {
     "name": "stderr",
     "output_type": "stream",
     "text": [
      "Đang đánh giá:  11%|█▏        | 192/1683 [12:38<1:38:09,  3.95s/it]\n"
     ]
    },
    {
     "ename": "KeyboardInterrupt",
     "evalue": "",
     "output_type": "error",
     "traceback": [
      "\u001b[1;31m---------------------------------------------------------------------------\u001b[0m",
      "\u001b[1;31mKeyboardInterrupt\u001b[0m                         Traceback (most recent call last)",
      "Cell \u001b[1;32mIn[17], line 32\u001b[0m\n\u001b[0;32m     29\u001b[0m \u001b[38;5;28;01mif\u001b[39;00m lag_result:\n\u001b[0;32m     30\u001b[0m     \u001b[38;5;28;01mbreak\u001b[39;00m\n\u001b[1;32m---> 32\u001b[0m set_query \u001b[38;5;241m=\u001b[39m \u001b[43mconvert_normed_to_s_expression\u001b[49m\u001b[43m(\u001b[49m\u001b[43mquery\u001b[49m\u001b[43m,\u001b[49m\u001b[43m \u001b[49m\u001b[43mgold_relation_map\u001b[49m\u001b[43m,\u001b[49m\u001b[43m \u001b[49m\u001b[43mgold_entity_map\u001b[49m\u001b[43m,\u001b[49m\u001b[43m \u001b[49m\u001b[43mrelation_KB_map\u001b[49m\u001b[43m \u001b[49m\u001b[43m,\u001b[49m\u001b[43m \u001b[49m\u001b[43mfacc1_index\u001b[49m\u001b[43m)\u001b[49m\n\u001b[0;32m     33\u001b[0m \u001b[38;5;28;01mfor\u001b[39;00m q \u001b[38;5;129;01min\u001b[39;00m set_query:\n\u001b[0;32m     34\u001b[0m     \u001b[38;5;28;01mif\u001b[39;00m \u001b[38;5;129;01mnot\u001b[39;00m q:\n",
      "Cell \u001b[1;32mIn[12], line 19\u001b[0m, in \u001b[0;36mconvert_normed_to_s_expression\u001b[1;34m(normed_expr, gold_relation_map, gold_entity_map, relation_KB_map, facc1_index)\u001b[0m\n\u001b[0;32m     17\u001b[0m \u001b[38;5;28;01mfor\u001b[39;00m rel \u001b[38;5;129;01min\u001b[39;00m relations:\n\u001b[0;32m     18\u001b[0m     token \u001b[38;5;241m=\u001b[39m \u001b[38;5;124mf\u001b[39m\u001b[38;5;124m'\u001b[39m\u001b[38;5;124m[ \u001b[39m\u001b[38;5;132;01m{\u001b[39;00mrel\u001b[38;5;132;01m}\u001b[39;00m\u001b[38;5;124m ]\u001b[39m\u001b[38;5;124m'\u001b[39m\n\u001b[1;32m---> 19\u001b[0m     candidate \u001b[38;5;241m=\u001b[39m \u001b[43mfind_relation\u001b[49m\u001b[43m(\u001b[49m\u001b[43mrel\u001b[49m\u001b[43m,\u001b[49m\u001b[43m \u001b[49m\u001b[43mgold_relation_map\u001b[49m\u001b[43m,\u001b[49m\u001b[43m \u001b[49m\u001b[43mrelation_KB_map\u001b[49m\u001b[43m,\u001b[49m\u001b[43m \u001b[49m\u001b[43mfacc1_index\u001b[49m\u001b[43m)\u001b[49m\n\u001b[0;32m     20\u001b[0m     \u001b[38;5;66;03m# Nếu candidate không phải danh sách, chuyển nó thành danh sách để tạo hoán vị\u001b[39;00m\n\u001b[0;32m     21\u001b[0m     \u001b[38;5;28;01mif\u001b[39;00m \u001b[38;5;129;01mnot\u001b[39;00m \u001b[38;5;28misinstance\u001b[39m(candidate, \u001b[38;5;28mlist\u001b[39m):\n",
      "Cell \u001b[1;32mIn[10], line 33\u001b[0m, in \u001b[0;36mfind_relation\u001b[1;34m(label, label_map, relation_kb_map, facc1_index, top_k, similarity_threshold)\u001b[0m\n\u001b[0;32m     31\u001b[0m \u001b[38;5;28;01mif\u001b[39;00m relation_kb_map:\n\u001b[0;32m     32\u001b[0m     label_keys \u001b[38;5;241m=\u001b[39m \u001b[38;5;28mlist\u001b[39m(relation_kb_map\u001b[38;5;241m.\u001b[39mkeys())\n\u001b[1;32m---> 33\u001b[0m     label_embeddings \u001b[38;5;241m=\u001b[39m np\u001b[38;5;241m.\u001b[39marray([get_embedding(k) \u001b[38;5;28;01mfor\u001b[39;00m k \u001b[38;5;129;01min\u001b[39;00m label_keys])\u001b[38;5;241m.\u001b[39msqueeze(\u001b[38;5;241m1\u001b[39m)\n\u001b[0;32m     35\u001b[0m     \u001b[38;5;66;03m# Đảm bảo đúng shape\u001b[39;00m\n\u001b[0;32m     36\u001b[0m     \u001b[38;5;28;01mif\u001b[39;00m \u001b[38;5;28mlen\u001b[39m(label_embeddings\u001b[38;5;241m.\u001b[39mshape) \u001b[38;5;241m==\u001b[39m \u001b[38;5;241m1\u001b[39m:\n",
      "Cell \u001b[1;32mIn[10], line 33\u001b[0m, in \u001b[0;36m<listcomp>\u001b[1;34m(.0)\u001b[0m\n\u001b[0;32m     31\u001b[0m \u001b[38;5;28;01mif\u001b[39;00m relation_kb_map:\n\u001b[0;32m     32\u001b[0m     label_keys \u001b[38;5;241m=\u001b[39m \u001b[38;5;28mlist\u001b[39m(relation_kb_map\u001b[38;5;241m.\u001b[39mkeys())\n\u001b[1;32m---> 33\u001b[0m     label_embeddings \u001b[38;5;241m=\u001b[39m np\u001b[38;5;241m.\u001b[39marray([\u001b[43mget_embedding\u001b[49m\u001b[43m(\u001b[49m\u001b[43mk\u001b[49m\u001b[43m)\u001b[49m \u001b[38;5;28;01mfor\u001b[39;00m k \u001b[38;5;129;01min\u001b[39;00m label_keys])\u001b[38;5;241m.\u001b[39msqueeze(\u001b[38;5;241m1\u001b[39m)\n\u001b[0;32m     35\u001b[0m     \u001b[38;5;66;03m# Đảm bảo đúng shape\u001b[39;00m\n\u001b[0;32m     36\u001b[0m     \u001b[38;5;28;01mif\u001b[39;00m \u001b[38;5;28mlen\u001b[39m(label_embeddings\u001b[38;5;241m.\u001b[39mshape) \u001b[38;5;241m==\u001b[39m \u001b[38;5;241m1\u001b[39m:\n",
      "Cell \u001b[1;32mIn[8], line 15\u001b[0m, in \u001b[0;36mget_embedding\u001b[1;34m(text)\u001b[0m\n\u001b[0;32m     13\u001b[0m inputs \u001b[38;5;241m=\u001b[39m tokenizer(text, return_tensors\u001b[38;5;241m=\u001b[39m\u001b[38;5;124m\"\u001b[39m\u001b[38;5;124mpt\u001b[39m\u001b[38;5;124m\"\u001b[39m, padding\u001b[38;5;241m=\u001b[39m\u001b[38;5;28;01mTrue\u001b[39;00m, truncation\u001b[38;5;241m=\u001b[39m\u001b[38;5;28;01mTrue\u001b[39;00m, max_length\u001b[38;5;241m=\u001b[39m\u001b[38;5;241m128\u001b[39m)\n\u001b[0;32m     14\u001b[0m \u001b[38;5;28;01mwith\u001b[39;00m torch\u001b[38;5;241m.\u001b[39mno_grad():\n\u001b[1;32m---> 15\u001b[0m     outputs \u001b[38;5;241m=\u001b[39m \u001b[43mmodel\u001b[49m\u001b[43m(\u001b[49m\u001b[38;5;241;43m*\u001b[39;49m\u001b[38;5;241;43m*\u001b[39;49m\u001b[43minputs\u001b[49m\u001b[43m)\u001b[49m\n\u001b[0;32m     17\u001b[0m \u001b[38;5;66;03m# Dùng mean pooling thay vì pooler_output\u001b[39;00m\n\u001b[0;32m     18\u001b[0m embeddings \u001b[38;5;241m=\u001b[39m outputs\u001b[38;5;241m.\u001b[39mlast_hidden_state\u001b[38;5;241m.\u001b[39mmean(dim\u001b[38;5;241m=\u001b[39m\u001b[38;5;241m1\u001b[39m)\u001b[38;5;241m.\u001b[39mcpu()\u001b[38;5;241m.\u001b[39mnumpy()\n",
      "File \u001b[1;32mc:\\Users\\trong\\anaconda3\\envs\\simcse_env\\lib\\site-packages\\torch\\nn\\modules\\module.py:1553\u001b[0m, in \u001b[0;36mModule._wrapped_call_impl\u001b[1;34m(self, *args, **kwargs)\u001b[0m\n\u001b[0;32m   1551\u001b[0m     \u001b[38;5;28;01mreturn\u001b[39;00m \u001b[38;5;28mself\u001b[39m\u001b[38;5;241m.\u001b[39m_compiled_call_impl(\u001b[38;5;241m*\u001b[39margs, \u001b[38;5;241m*\u001b[39m\u001b[38;5;241m*\u001b[39mkwargs)  \u001b[38;5;66;03m# type: ignore[misc]\u001b[39;00m\n\u001b[0;32m   1552\u001b[0m \u001b[38;5;28;01melse\u001b[39;00m:\n\u001b[1;32m-> 1553\u001b[0m     \u001b[38;5;28;01mreturn\u001b[39;00m \u001b[38;5;28;43mself\u001b[39;49m\u001b[38;5;241;43m.\u001b[39;49m\u001b[43m_call_impl\u001b[49m\u001b[43m(\u001b[49m\u001b[38;5;241;43m*\u001b[39;49m\u001b[43margs\u001b[49m\u001b[43m,\u001b[49m\u001b[43m \u001b[49m\u001b[38;5;241;43m*\u001b[39;49m\u001b[38;5;241;43m*\u001b[39;49m\u001b[43mkwargs\u001b[49m\u001b[43m)\u001b[49m\n",
      "File \u001b[1;32mc:\\Users\\trong\\anaconda3\\envs\\simcse_env\\lib\\site-packages\\torch\\nn\\modules\\module.py:1562\u001b[0m, in \u001b[0;36mModule._call_impl\u001b[1;34m(self, *args, **kwargs)\u001b[0m\n\u001b[0;32m   1557\u001b[0m \u001b[38;5;66;03m# If we don't have any hooks, we want to skip the rest of the logic in\u001b[39;00m\n\u001b[0;32m   1558\u001b[0m \u001b[38;5;66;03m# this function, and just call forward.\u001b[39;00m\n\u001b[0;32m   1559\u001b[0m \u001b[38;5;28;01mif\u001b[39;00m \u001b[38;5;129;01mnot\u001b[39;00m (\u001b[38;5;28mself\u001b[39m\u001b[38;5;241m.\u001b[39m_backward_hooks \u001b[38;5;129;01mor\u001b[39;00m \u001b[38;5;28mself\u001b[39m\u001b[38;5;241m.\u001b[39m_backward_pre_hooks \u001b[38;5;129;01mor\u001b[39;00m \u001b[38;5;28mself\u001b[39m\u001b[38;5;241m.\u001b[39m_forward_hooks \u001b[38;5;129;01mor\u001b[39;00m \u001b[38;5;28mself\u001b[39m\u001b[38;5;241m.\u001b[39m_forward_pre_hooks\n\u001b[0;32m   1560\u001b[0m         \u001b[38;5;129;01mor\u001b[39;00m _global_backward_pre_hooks \u001b[38;5;129;01mor\u001b[39;00m _global_backward_hooks\n\u001b[0;32m   1561\u001b[0m         \u001b[38;5;129;01mor\u001b[39;00m _global_forward_hooks \u001b[38;5;129;01mor\u001b[39;00m _global_forward_pre_hooks):\n\u001b[1;32m-> 1562\u001b[0m     \u001b[38;5;28;01mreturn\u001b[39;00m \u001b[43mforward_call\u001b[49m\u001b[43m(\u001b[49m\u001b[38;5;241;43m*\u001b[39;49m\u001b[43margs\u001b[49m\u001b[43m,\u001b[49m\u001b[43m \u001b[49m\u001b[38;5;241;43m*\u001b[39;49m\u001b[38;5;241;43m*\u001b[39;49m\u001b[43mkwargs\u001b[49m\u001b[43m)\u001b[49m\n\u001b[0;32m   1564\u001b[0m \u001b[38;5;28;01mtry\u001b[39;00m:\n\u001b[0;32m   1565\u001b[0m     result \u001b[38;5;241m=\u001b[39m \u001b[38;5;28;01mNone\u001b[39;00m\n",
      "File \u001b[1;32mc:\\Users\\trong\\anaconda3\\envs\\simcse_env\\lib\\site-packages\\transformers\\models\\roberta\\modeling_roberta.py:976\u001b[0m, in \u001b[0;36mRobertaModel.forward\u001b[1;34m(self, input_ids, attention_mask, token_type_ids, position_ids, head_mask, inputs_embeds, encoder_hidden_states, encoder_attention_mask, past_key_values, use_cache, output_attentions, output_hidden_states, return_dict)\u001b[0m\n\u001b[0;32m    969\u001b[0m \u001b[38;5;66;03m# Prepare head mask if needed\u001b[39;00m\n\u001b[0;32m    970\u001b[0m \u001b[38;5;66;03m# 1.0 in head_mask indicate we keep the head\u001b[39;00m\n\u001b[0;32m    971\u001b[0m \u001b[38;5;66;03m# attention_probs has shape bsz x n_heads x N x N\u001b[39;00m\n\u001b[0;32m    972\u001b[0m \u001b[38;5;66;03m# input head_mask has shape [num_heads] or [num_hidden_layers x num_heads]\u001b[39;00m\n\u001b[0;32m    973\u001b[0m \u001b[38;5;66;03m# and head_mask is converted to shape [num_hidden_layers x batch x num_heads x seq_length x seq_length]\u001b[39;00m\n\u001b[0;32m    974\u001b[0m head_mask \u001b[38;5;241m=\u001b[39m \u001b[38;5;28mself\u001b[39m\u001b[38;5;241m.\u001b[39mget_head_mask(head_mask, \u001b[38;5;28mself\u001b[39m\u001b[38;5;241m.\u001b[39mconfig\u001b[38;5;241m.\u001b[39mnum_hidden_layers)\n\u001b[1;32m--> 976\u001b[0m encoder_outputs \u001b[38;5;241m=\u001b[39m \u001b[38;5;28;43mself\u001b[39;49m\u001b[38;5;241;43m.\u001b[39;49m\u001b[43mencoder\u001b[49m\u001b[43m(\u001b[49m\n\u001b[0;32m    977\u001b[0m \u001b[43m    \u001b[49m\u001b[43membedding_output\u001b[49m\u001b[43m,\u001b[49m\n\u001b[0;32m    978\u001b[0m \u001b[43m    \u001b[49m\u001b[43mattention_mask\u001b[49m\u001b[38;5;241;43m=\u001b[39;49m\u001b[43mextended_attention_mask\u001b[49m\u001b[43m,\u001b[49m\n\u001b[0;32m    979\u001b[0m \u001b[43m    \u001b[49m\u001b[43mhead_mask\u001b[49m\u001b[38;5;241;43m=\u001b[39;49m\u001b[43mhead_mask\u001b[49m\u001b[43m,\u001b[49m\n\u001b[0;32m    980\u001b[0m \u001b[43m    \u001b[49m\u001b[43mencoder_hidden_states\u001b[49m\u001b[38;5;241;43m=\u001b[39;49m\u001b[43mencoder_hidden_states\u001b[49m\u001b[43m,\u001b[49m\n\u001b[0;32m    981\u001b[0m \u001b[43m    \u001b[49m\u001b[43mencoder_attention_mask\u001b[49m\u001b[38;5;241;43m=\u001b[39;49m\u001b[43mencoder_extended_attention_mask\u001b[49m\u001b[43m,\u001b[49m\n\u001b[0;32m    982\u001b[0m \u001b[43m    \u001b[49m\u001b[43mpast_key_values\u001b[49m\u001b[38;5;241;43m=\u001b[39;49m\u001b[43mpast_key_values\u001b[49m\u001b[43m,\u001b[49m\n\u001b[0;32m    983\u001b[0m \u001b[43m    \u001b[49m\u001b[43muse_cache\u001b[49m\u001b[38;5;241;43m=\u001b[39;49m\u001b[43muse_cache\u001b[49m\u001b[43m,\u001b[49m\n\u001b[0;32m    984\u001b[0m \u001b[43m    \u001b[49m\u001b[43moutput_attentions\u001b[49m\u001b[38;5;241;43m=\u001b[39;49m\u001b[43moutput_attentions\u001b[49m\u001b[43m,\u001b[49m\n\u001b[0;32m    985\u001b[0m \u001b[43m    \u001b[49m\u001b[43moutput_hidden_states\u001b[49m\u001b[38;5;241;43m=\u001b[39;49m\u001b[43moutput_hidden_states\u001b[49m\u001b[43m,\u001b[49m\n\u001b[0;32m    986\u001b[0m \u001b[43m    \u001b[49m\u001b[43mreturn_dict\u001b[49m\u001b[38;5;241;43m=\u001b[39;49m\u001b[43mreturn_dict\u001b[49m\u001b[43m,\u001b[49m\n\u001b[0;32m    987\u001b[0m \u001b[43m\u001b[49m\u001b[43m)\u001b[49m\n\u001b[0;32m    988\u001b[0m sequence_output \u001b[38;5;241m=\u001b[39m encoder_outputs[\u001b[38;5;241m0\u001b[39m]\n\u001b[0;32m    989\u001b[0m pooled_output \u001b[38;5;241m=\u001b[39m \u001b[38;5;28mself\u001b[39m\u001b[38;5;241m.\u001b[39mpooler(sequence_output) \u001b[38;5;28;01mif\u001b[39;00m \u001b[38;5;28mself\u001b[39m\u001b[38;5;241m.\u001b[39mpooler \u001b[38;5;129;01mis\u001b[39;00m \u001b[38;5;129;01mnot\u001b[39;00m \u001b[38;5;28;01mNone\u001b[39;00m \u001b[38;5;28;01melse\u001b[39;00m \u001b[38;5;28;01mNone\u001b[39;00m\n",
      "File \u001b[1;32mc:\\Users\\trong\\anaconda3\\envs\\simcse_env\\lib\\site-packages\\torch\\nn\\modules\\module.py:1553\u001b[0m, in \u001b[0;36mModule._wrapped_call_impl\u001b[1;34m(self, *args, **kwargs)\u001b[0m\n\u001b[0;32m   1551\u001b[0m     \u001b[38;5;28;01mreturn\u001b[39;00m \u001b[38;5;28mself\u001b[39m\u001b[38;5;241m.\u001b[39m_compiled_call_impl(\u001b[38;5;241m*\u001b[39margs, \u001b[38;5;241m*\u001b[39m\u001b[38;5;241m*\u001b[39mkwargs)  \u001b[38;5;66;03m# type: ignore[misc]\u001b[39;00m\n\u001b[0;32m   1552\u001b[0m \u001b[38;5;28;01melse\u001b[39;00m:\n\u001b[1;32m-> 1553\u001b[0m     \u001b[38;5;28;01mreturn\u001b[39;00m \u001b[38;5;28;43mself\u001b[39;49m\u001b[38;5;241;43m.\u001b[39;49m\u001b[43m_call_impl\u001b[49m\u001b[43m(\u001b[49m\u001b[38;5;241;43m*\u001b[39;49m\u001b[43margs\u001b[49m\u001b[43m,\u001b[49m\u001b[43m \u001b[49m\u001b[38;5;241;43m*\u001b[39;49m\u001b[38;5;241;43m*\u001b[39;49m\u001b[43mkwargs\u001b[49m\u001b[43m)\u001b[49m\n",
      "File \u001b[1;32mc:\\Users\\trong\\anaconda3\\envs\\simcse_env\\lib\\site-packages\\torch\\nn\\modules\\module.py:1562\u001b[0m, in \u001b[0;36mModule._call_impl\u001b[1;34m(self, *args, **kwargs)\u001b[0m\n\u001b[0;32m   1557\u001b[0m \u001b[38;5;66;03m# If we don't have any hooks, we want to skip the rest of the logic in\u001b[39;00m\n\u001b[0;32m   1558\u001b[0m \u001b[38;5;66;03m# this function, and just call forward.\u001b[39;00m\n\u001b[0;32m   1559\u001b[0m \u001b[38;5;28;01mif\u001b[39;00m \u001b[38;5;129;01mnot\u001b[39;00m (\u001b[38;5;28mself\u001b[39m\u001b[38;5;241m.\u001b[39m_backward_hooks \u001b[38;5;129;01mor\u001b[39;00m \u001b[38;5;28mself\u001b[39m\u001b[38;5;241m.\u001b[39m_backward_pre_hooks \u001b[38;5;129;01mor\u001b[39;00m \u001b[38;5;28mself\u001b[39m\u001b[38;5;241m.\u001b[39m_forward_hooks \u001b[38;5;129;01mor\u001b[39;00m \u001b[38;5;28mself\u001b[39m\u001b[38;5;241m.\u001b[39m_forward_pre_hooks\n\u001b[0;32m   1560\u001b[0m         \u001b[38;5;129;01mor\u001b[39;00m _global_backward_pre_hooks \u001b[38;5;129;01mor\u001b[39;00m _global_backward_hooks\n\u001b[0;32m   1561\u001b[0m         \u001b[38;5;129;01mor\u001b[39;00m _global_forward_hooks \u001b[38;5;129;01mor\u001b[39;00m _global_forward_pre_hooks):\n\u001b[1;32m-> 1562\u001b[0m     \u001b[38;5;28;01mreturn\u001b[39;00m \u001b[43mforward_call\u001b[49m\u001b[43m(\u001b[49m\u001b[38;5;241;43m*\u001b[39;49m\u001b[43margs\u001b[49m\u001b[43m,\u001b[49m\u001b[43m \u001b[49m\u001b[38;5;241;43m*\u001b[39;49m\u001b[38;5;241;43m*\u001b[39;49m\u001b[43mkwargs\u001b[49m\u001b[43m)\u001b[49m\n\u001b[0;32m   1564\u001b[0m \u001b[38;5;28;01mtry\u001b[39;00m:\n\u001b[0;32m   1565\u001b[0m     result \u001b[38;5;241m=\u001b[39m \u001b[38;5;28;01mNone\u001b[39;00m\n",
      "File \u001b[1;32mc:\\Users\\trong\\anaconda3\\envs\\simcse_env\\lib\\site-packages\\transformers\\models\\roberta\\modeling_roberta.py:631\u001b[0m, in \u001b[0;36mRobertaEncoder.forward\u001b[1;34m(self, hidden_states, attention_mask, head_mask, encoder_hidden_states, encoder_attention_mask, past_key_values, use_cache, output_attentions, output_hidden_states, return_dict)\u001b[0m\n\u001b[0;32m    620\u001b[0m     layer_outputs \u001b[38;5;241m=\u001b[39m \u001b[38;5;28mself\u001b[39m\u001b[38;5;241m.\u001b[39m_gradient_checkpointing_func(\n\u001b[0;32m    621\u001b[0m         layer_module\u001b[38;5;241m.\u001b[39m\u001b[38;5;21m__call__\u001b[39m,\n\u001b[0;32m    622\u001b[0m         hidden_states,\n\u001b[1;32m   (...)\u001b[0m\n\u001b[0;32m    628\u001b[0m         output_attentions,\n\u001b[0;32m    629\u001b[0m     )\n\u001b[0;32m    630\u001b[0m \u001b[38;5;28;01melse\u001b[39;00m:\n\u001b[1;32m--> 631\u001b[0m     layer_outputs \u001b[38;5;241m=\u001b[39m \u001b[43mlayer_module\u001b[49m\u001b[43m(\u001b[49m\n\u001b[0;32m    632\u001b[0m \u001b[43m        \u001b[49m\u001b[43mhidden_states\u001b[49m\u001b[43m,\u001b[49m\n\u001b[0;32m    633\u001b[0m \u001b[43m        \u001b[49m\u001b[43mattention_mask\u001b[49m\u001b[43m,\u001b[49m\n\u001b[0;32m    634\u001b[0m \u001b[43m        \u001b[49m\u001b[43mlayer_head_mask\u001b[49m\u001b[43m,\u001b[49m\n\u001b[0;32m    635\u001b[0m \u001b[43m        \u001b[49m\u001b[43mencoder_hidden_states\u001b[49m\u001b[43m,\u001b[49m\n\u001b[0;32m    636\u001b[0m \u001b[43m        \u001b[49m\u001b[43mencoder_attention_mask\u001b[49m\u001b[43m,\u001b[49m\n\u001b[0;32m    637\u001b[0m \u001b[43m        \u001b[49m\u001b[43mpast_key_value\u001b[49m\u001b[43m,\u001b[49m\n\u001b[0;32m    638\u001b[0m \u001b[43m        \u001b[49m\u001b[43moutput_attentions\u001b[49m\u001b[43m,\u001b[49m\n\u001b[0;32m    639\u001b[0m \u001b[43m    \u001b[49m\u001b[43m)\u001b[49m\n\u001b[0;32m    641\u001b[0m hidden_states \u001b[38;5;241m=\u001b[39m layer_outputs[\u001b[38;5;241m0\u001b[39m]\n\u001b[0;32m    642\u001b[0m \u001b[38;5;28;01mif\u001b[39;00m use_cache:\n",
      "File \u001b[1;32mc:\\Users\\trong\\anaconda3\\envs\\simcse_env\\lib\\site-packages\\torch\\nn\\modules\\module.py:1553\u001b[0m, in \u001b[0;36mModule._wrapped_call_impl\u001b[1;34m(self, *args, **kwargs)\u001b[0m\n\u001b[0;32m   1551\u001b[0m     \u001b[38;5;28;01mreturn\u001b[39;00m \u001b[38;5;28mself\u001b[39m\u001b[38;5;241m.\u001b[39m_compiled_call_impl(\u001b[38;5;241m*\u001b[39margs, \u001b[38;5;241m*\u001b[39m\u001b[38;5;241m*\u001b[39mkwargs)  \u001b[38;5;66;03m# type: ignore[misc]\u001b[39;00m\n\u001b[0;32m   1552\u001b[0m \u001b[38;5;28;01melse\u001b[39;00m:\n\u001b[1;32m-> 1553\u001b[0m     \u001b[38;5;28;01mreturn\u001b[39;00m \u001b[38;5;28;43mself\u001b[39;49m\u001b[38;5;241;43m.\u001b[39;49m\u001b[43m_call_impl\u001b[49m\u001b[43m(\u001b[49m\u001b[38;5;241;43m*\u001b[39;49m\u001b[43margs\u001b[49m\u001b[43m,\u001b[49m\u001b[43m \u001b[49m\u001b[38;5;241;43m*\u001b[39;49m\u001b[38;5;241;43m*\u001b[39;49m\u001b[43mkwargs\u001b[49m\u001b[43m)\u001b[49m\n",
      "File \u001b[1;32mc:\\Users\\trong\\anaconda3\\envs\\simcse_env\\lib\\site-packages\\torch\\nn\\modules\\module.py:1562\u001b[0m, in \u001b[0;36mModule._call_impl\u001b[1;34m(self, *args, **kwargs)\u001b[0m\n\u001b[0;32m   1557\u001b[0m \u001b[38;5;66;03m# If we don't have any hooks, we want to skip the rest of the logic in\u001b[39;00m\n\u001b[0;32m   1558\u001b[0m \u001b[38;5;66;03m# this function, and just call forward.\u001b[39;00m\n\u001b[0;32m   1559\u001b[0m \u001b[38;5;28;01mif\u001b[39;00m \u001b[38;5;129;01mnot\u001b[39;00m (\u001b[38;5;28mself\u001b[39m\u001b[38;5;241m.\u001b[39m_backward_hooks \u001b[38;5;129;01mor\u001b[39;00m \u001b[38;5;28mself\u001b[39m\u001b[38;5;241m.\u001b[39m_backward_pre_hooks \u001b[38;5;129;01mor\u001b[39;00m \u001b[38;5;28mself\u001b[39m\u001b[38;5;241m.\u001b[39m_forward_hooks \u001b[38;5;129;01mor\u001b[39;00m \u001b[38;5;28mself\u001b[39m\u001b[38;5;241m.\u001b[39m_forward_pre_hooks\n\u001b[0;32m   1560\u001b[0m         \u001b[38;5;129;01mor\u001b[39;00m _global_backward_pre_hooks \u001b[38;5;129;01mor\u001b[39;00m _global_backward_hooks\n\u001b[0;32m   1561\u001b[0m         \u001b[38;5;129;01mor\u001b[39;00m _global_forward_hooks \u001b[38;5;129;01mor\u001b[39;00m _global_forward_pre_hooks):\n\u001b[1;32m-> 1562\u001b[0m     \u001b[38;5;28;01mreturn\u001b[39;00m \u001b[43mforward_call\u001b[49m\u001b[43m(\u001b[49m\u001b[38;5;241;43m*\u001b[39;49m\u001b[43margs\u001b[49m\u001b[43m,\u001b[49m\u001b[43m \u001b[49m\u001b[38;5;241;43m*\u001b[39;49m\u001b[38;5;241;43m*\u001b[39;49m\u001b[43mkwargs\u001b[49m\u001b[43m)\u001b[49m\n\u001b[0;32m   1564\u001b[0m \u001b[38;5;28;01mtry\u001b[39;00m:\n\u001b[0;32m   1565\u001b[0m     result \u001b[38;5;241m=\u001b[39m \u001b[38;5;28;01mNone\u001b[39;00m\n",
      "File \u001b[1;32mc:\\Users\\trong\\anaconda3\\envs\\simcse_env\\lib\\site-packages\\transformers\\models\\roberta\\modeling_roberta.py:562\u001b[0m, in \u001b[0;36mRobertaLayer.forward\u001b[1;34m(self, hidden_states, attention_mask, head_mask, encoder_hidden_states, encoder_attention_mask, past_key_value, output_attentions)\u001b[0m\n\u001b[0;32m    559\u001b[0m     cross_attn_present_key_value \u001b[38;5;241m=\u001b[39m cross_attention_outputs[\u001b[38;5;241m-\u001b[39m\u001b[38;5;241m1\u001b[39m]\n\u001b[0;32m    560\u001b[0m     present_key_value \u001b[38;5;241m=\u001b[39m present_key_value \u001b[38;5;241m+\u001b[39m cross_attn_present_key_value\n\u001b[1;32m--> 562\u001b[0m layer_output \u001b[38;5;241m=\u001b[39m \u001b[43mapply_chunking_to_forward\u001b[49m\u001b[43m(\u001b[49m\n\u001b[0;32m    563\u001b[0m \u001b[43m    \u001b[49m\u001b[38;5;28;43mself\u001b[39;49m\u001b[38;5;241;43m.\u001b[39;49m\u001b[43mfeed_forward_chunk\u001b[49m\u001b[43m,\u001b[49m\u001b[43m \u001b[49m\u001b[38;5;28;43mself\u001b[39;49m\u001b[38;5;241;43m.\u001b[39;49m\u001b[43mchunk_size_feed_forward\u001b[49m\u001b[43m,\u001b[49m\u001b[43m \u001b[49m\u001b[38;5;28;43mself\u001b[39;49m\u001b[38;5;241;43m.\u001b[39;49m\u001b[43mseq_len_dim\u001b[49m\u001b[43m,\u001b[49m\u001b[43m \u001b[49m\u001b[43mattention_output\u001b[49m\n\u001b[0;32m    564\u001b[0m \u001b[43m\u001b[49m\u001b[43m)\u001b[49m\n\u001b[0;32m    565\u001b[0m outputs \u001b[38;5;241m=\u001b[39m (layer_output,) \u001b[38;5;241m+\u001b[39m outputs\n\u001b[0;32m    567\u001b[0m \u001b[38;5;66;03m# if decoder, return the attn key/values as the last output\u001b[39;00m\n",
      "File \u001b[1;32mc:\\Users\\trong\\anaconda3\\envs\\simcse_env\\lib\\site-packages\\transformers\\pytorch_utils.py:248\u001b[0m, in \u001b[0;36mapply_chunking_to_forward\u001b[1;34m(forward_fn, chunk_size, chunk_dim, *input_tensors)\u001b[0m\n\u001b[0;32m    245\u001b[0m     \u001b[38;5;66;03m# concatenate output at same dimension\u001b[39;00m\n\u001b[0;32m    246\u001b[0m     \u001b[38;5;28;01mreturn\u001b[39;00m torch\u001b[38;5;241m.\u001b[39mcat(output_chunks, dim\u001b[38;5;241m=\u001b[39mchunk_dim)\n\u001b[1;32m--> 248\u001b[0m \u001b[38;5;28;01mreturn\u001b[39;00m \u001b[43mforward_fn\u001b[49m\u001b[43m(\u001b[49m\u001b[38;5;241;43m*\u001b[39;49m\u001b[43minput_tensors\u001b[49m\u001b[43m)\u001b[49m\n",
      "File \u001b[1;32mc:\\Users\\trong\\anaconda3\\envs\\simcse_env\\lib\\site-packages\\transformers\\models\\roberta\\modeling_roberta.py:574\u001b[0m, in \u001b[0;36mRobertaLayer.feed_forward_chunk\u001b[1;34m(self, attention_output)\u001b[0m\n\u001b[0;32m    573\u001b[0m \u001b[38;5;28;01mdef\u001b[39;00m \u001b[38;5;21mfeed_forward_chunk\u001b[39m(\u001b[38;5;28mself\u001b[39m, attention_output):\n\u001b[1;32m--> 574\u001b[0m     intermediate_output \u001b[38;5;241m=\u001b[39m \u001b[38;5;28;43mself\u001b[39;49m\u001b[38;5;241;43m.\u001b[39;49m\u001b[43mintermediate\u001b[49m\u001b[43m(\u001b[49m\u001b[43mattention_output\u001b[49m\u001b[43m)\u001b[49m\n\u001b[0;32m    575\u001b[0m     layer_output \u001b[38;5;241m=\u001b[39m \u001b[38;5;28mself\u001b[39m\u001b[38;5;241m.\u001b[39moutput(intermediate_output, attention_output)\n\u001b[0;32m    576\u001b[0m     \u001b[38;5;28;01mreturn\u001b[39;00m layer_output\n",
      "File \u001b[1;32mc:\\Users\\trong\\anaconda3\\envs\\simcse_env\\lib\\site-packages\\torch\\nn\\modules\\module.py:1553\u001b[0m, in \u001b[0;36mModule._wrapped_call_impl\u001b[1;34m(self, *args, **kwargs)\u001b[0m\n\u001b[0;32m   1551\u001b[0m     \u001b[38;5;28;01mreturn\u001b[39;00m \u001b[38;5;28mself\u001b[39m\u001b[38;5;241m.\u001b[39m_compiled_call_impl(\u001b[38;5;241m*\u001b[39margs, \u001b[38;5;241m*\u001b[39m\u001b[38;5;241m*\u001b[39mkwargs)  \u001b[38;5;66;03m# type: ignore[misc]\u001b[39;00m\n\u001b[0;32m   1552\u001b[0m \u001b[38;5;28;01melse\u001b[39;00m:\n\u001b[1;32m-> 1553\u001b[0m     \u001b[38;5;28;01mreturn\u001b[39;00m \u001b[38;5;28;43mself\u001b[39;49m\u001b[38;5;241;43m.\u001b[39;49m\u001b[43m_call_impl\u001b[49m\u001b[43m(\u001b[49m\u001b[38;5;241;43m*\u001b[39;49m\u001b[43margs\u001b[49m\u001b[43m,\u001b[49m\u001b[43m \u001b[49m\u001b[38;5;241;43m*\u001b[39;49m\u001b[38;5;241;43m*\u001b[39;49m\u001b[43mkwargs\u001b[49m\u001b[43m)\u001b[49m\n",
      "File \u001b[1;32mc:\\Users\\trong\\anaconda3\\envs\\simcse_env\\lib\\site-packages\\torch\\nn\\modules\\module.py:1562\u001b[0m, in \u001b[0;36mModule._call_impl\u001b[1;34m(self, *args, **kwargs)\u001b[0m\n\u001b[0;32m   1557\u001b[0m \u001b[38;5;66;03m# If we don't have any hooks, we want to skip the rest of the logic in\u001b[39;00m\n\u001b[0;32m   1558\u001b[0m \u001b[38;5;66;03m# this function, and just call forward.\u001b[39;00m\n\u001b[0;32m   1559\u001b[0m \u001b[38;5;28;01mif\u001b[39;00m \u001b[38;5;129;01mnot\u001b[39;00m (\u001b[38;5;28mself\u001b[39m\u001b[38;5;241m.\u001b[39m_backward_hooks \u001b[38;5;129;01mor\u001b[39;00m \u001b[38;5;28mself\u001b[39m\u001b[38;5;241m.\u001b[39m_backward_pre_hooks \u001b[38;5;129;01mor\u001b[39;00m \u001b[38;5;28mself\u001b[39m\u001b[38;5;241m.\u001b[39m_forward_hooks \u001b[38;5;129;01mor\u001b[39;00m \u001b[38;5;28mself\u001b[39m\u001b[38;5;241m.\u001b[39m_forward_pre_hooks\n\u001b[0;32m   1560\u001b[0m         \u001b[38;5;129;01mor\u001b[39;00m _global_backward_pre_hooks \u001b[38;5;129;01mor\u001b[39;00m _global_backward_hooks\n\u001b[0;32m   1561\u001b[0m         \u001b[38;5;129;01mor\u001b[39;00m _global_forward_hooks \u001b[38;5;129;01mor\u001b[39;00m _global_forward_pre_hooks):\n\u001b[1;32m-> 1562\u001b[0m     \u001b[38;5;28;01mreturn\u001b[39;00m \u001b[43mforward_call\u001b[49m\u001b[43m(\u001b[49m\u001b[38;5;241;43m*\u001b[39;49m\u001b[43margs\u001b[49m\u001b[43m,\u001b[49m\u001b[43m \u001b[49m\u001b[38;5;241;43m*\u001b[39;49m\u001b[38;5;241;43m*\u001b[39;49m\u001b[43mkwargs\u001b[49m\u001b[43m)\u001b[49m\n\u001b[0;32m   1564\u001b[0m \u001b[38;5;28;01mtry\u001b[39;00m:\n\u001b[0;32m   1565\u001b[0m     result \u001b[38;5;241m=\u001b[39m \u001b[38;5;28;01mNone\u001b[39;00m\n",
      "File \u001b[1;32mc:\\Users\\trong\\anaconda3\\envs\\simcse_env\\lib\\site-packages\\transformers\\models\\roberta\\modeling_roberta.py:472\u001b[0m, in \u001b[0;36mRobertaIntermediate.forward\u001b[1;34m(self, hidden_states)\u001b[0m\n\u001b[0;32m    471\u001b[0m \u001b[38;5;28;01mdef\u001b[39;00m \u001b[38;5;21mforward\u001b[39m(\u001b[38;5;28mself\u001b[39m, hidden_states: torch\u001b[38;5;241m.\u001b[39mTensor) \u001b[38;5;241m-\u001b[39m\u001b[38;5;241m>\u001b[39m torch\u001b[38;5;241m.\u001b[39mTensor:\n\u001b[1;32m--> 472\u001b[0m     hidden_states \u001b[38;5;241m=\u001b[39m \u001b[38;5;28;43mself\u001b[39;49m\u001b[38;5;241;43m.\u001b[39;49m\u001b[43mdense\u001b[49m\u001b[43m(\u001b[49m\u001b[43mhidden_states\u001b[49m\u001b[43m)\u001b[49m\n\u001b[0;32m    473\u001b[0m     hidden_states \u001b[38;5;241m=\u001b[39m \u001b[38;5;28mself\u001b[39m\u001b[38;5;241m.\u001b[39mintermediate_act_fn(hidden_states)\n\u001b[0;32m    474\u001b[0m     \u001b[38;5;28;01mreturn\u001b[39;00m hidden_states\n",
      "File \u001b[1;32mc:\\Users\\trong\\anaconda3\\envs\\simcse_env\\lib\\site-packages\\torch\\nn\\modules\\module.py:1553\u001b[0m, in \u001b[0;36mModule._wrapped_call_impl\u001b[1;34m(self, *args, **kwargs)\u001b[0m\n\u001b[0;32m   1551\u001b[0m     \u001b[38;5;28;01mreturn\u001b[39;00m \u001b[38;5;28mself\u001b[39m\u001b[38;5;241m.\u001b[39m_compiled_call_impl(\u001b[38;5;241m*\u001b[39margs, \u001b[38;5;241m*\u001b[39m\u001b[38;5;241m*\u001b[39mkwargs)  \u001b[38;5;66;03m# type: ignore[misc]\u001b[39;00m\n\u001b[0;32m   1552\u001b[0m \u001b[38;5;28;01melse\u001b[39;00m:\n\u001b[1;32m-> 1553\u001b[0m     \u001b[38;5;28;01mreturn\u001b[39;00m \u001b[38;5;28;43mself\u001b[39;49m\u001b[38;5;241;43m.\u001b[39;49m\u001b[43m_call_impl\u001b[49m\u001b[43m(\u001b[49m\u001b[38;5;241;43m*\u001b[39;49m\u001b[43margs\u001b[49m\u001b[43m,\u001b[49m\u001b[43m \u001b[49m\u001b[38;5;241;43m*\u001b[39;49m\u001b[38;5;241;43m*\u001b[39;49m\u001b[43mkwargs\u001b[49m\u001b[43m)\u001b[49m\n",
      "File \u001b[1;32mc:\\Users\\trong\\anaconda3\\envs\\simcse_env\\lib\\site-packages\\torch\\nn\\modules\\module.py:1562\u001b[0m, in \u001b[0;36mModule._call_impl\u001b[1;34m(self, *args, **kwargs)\u001b[0m\n\u001b[0;32m   1557\u001b[0m \u001b[38;5;66;03m# If we don't have any hooks, we want to skip the rest of the logic in\u001b[39;00m\n\u001b[0;32m   1558\u001b[0m \u001b[38;5;66;03m# this function, and just call forward.\u001b[39;00m\n\u001b[0;32m   1559\u001b[0m \u001b[38;5;28;01mif\u001b[39;00m \u001b[38;5;129;01mnot\u001b[39;00m (\u001b[38;5;28mself\u001b[39m\u001b[38;5;241m.\u001b[39m_backward_hooks \u001b[38;5;129;01mor\u001b[39;00m \u001b[38;5;28mself\u001b[39m\u001b[38;5;241m.\u001b[39m_backward_pre_hooks \u001b[38;5;129;01mor\u001b[39;00m \u001b[38;5;28mself\u001b[39m\u001b[38;5;241m.\u001b[39m_forward_hooks \u001b[38;5;129;01mor\u001b[39;00m \u001b[38;5;28mself\u001b[39m\u001b[38;5;241m.\u001b[39m_forward_pre_hooks\n\u001b[0;32m   1560\u001b[0m         \u001b[38;5;129;01mor\u001b[39;00m _global_backward_pre_hooks \u001b[38;5;129;01mor\u001b[39;00m _global_backward_hooks\n\u001b[0;32m   1561\u001b[0m         \u001b[38;5;129;01mor\u001b[39;00m _global_forward_hooks \u001b[38;5;129;01mor\u001b[39;00m _global_forward_pre_hooks):\n\u001b[1;32m-> 1562\u001b[0m     \u001b[38;5;28;01mreturn\u001b[39;00m \u001b[43mforward_call\u001b[49m\u001b[43m(\u001b[49m\u001b[38;5;241;43m*\u001b[39;49m\u001b[43margs\u001b[49m\u001b[43m,\u001b[49m\u001b[43m \u001b[49m\u001b[38;5;241;43m*\u001b[39;49m\u001b[38;5;241;43m*\u001b[39;49m\u001b[43mkwargs\u001b[49m\u001b[43m)\u001b[49m\n\u001b[0;32m   1564\u001b[0m \u001b[38;5;28;01mtry\u001b[39;00m:\n\u001b[0;32m   1565\u001b[0m     result \u001b[38;5;241m=\u001b[39m \u001b[38;5;28;01mNone\u001b[39;00m\n",
      "File \u001b[1;32mc:\\Users\\trong\\anaconda3\\envs\\simcse_env\\lib\\site-packages\\torch\\nn\\modules\\linear.py:117\u001b[0m, in \u001b[0;36mLinear.forward\u001b[1;34m(self, input)\u001b[0m\n\u001b[0;32m    116\u001b[0m \u001b[38;5;28;01mdef\u001b[39;00m \u001b[38;5;21mforward\u001b[39m(\u001b[38;5;28mself\u001b[39m, \u001b[38;5;28minput\u001b[39m: Tensor) \u001b[38;5;241m-\u001b[39m\u001b[38;5;241m>\u001b[39m Tensor:\n\u001b[1;32m--> 117\u001b[0m     \u001b[38;5;28;01mreturn\u001b[39;00m \u001b[43mF\u001b[49m\u001b[38;5;241;43m.\u001b[39;49m\u001b[43mlinear\u001b[49m\u001b[43m(\u001b[49m\u001b[38;5;28;43minput\u001b[39;49m\u001b[43m,\u001b[49m\u001b[43m \u001b[49m\u001b[38;5;28;43mself\u001b[39;49m\u001b[38;5;241;43m.\u001b[39;49m\u001b[43mweight\u001b[49m\u001b[43m,\u001b[49m\u001b[43m \u001b[49m\u001b[38;5;28;43mself\u001b[39;49m\u001b[38;5;241;43m.\u001b[39;49m\u001b[43mbias\u001b[49m\u001b[43m)\u001b[49m\n",
      "\u001b[1;31mKeyboardInterrupt\u001b[0m: "
     ]
    }
   ],
   "source": [
    "import json\n",
    "import time\n",
    "from tqdm import tqdm\n",
    "\n",
    "BATCH_SIZE = 100  # Số dòng mỗi batch\n",
    "LOG_FILE = \"progress_log.txt\"\n",
    "\n",
    "results = []\n",
    "simcse_model = model  # Mô hình SimCSE của bạn\n",
    "facc1_index = surface_index\n",
    "parser = SExpressionParser()\n",
    "start_time = time.perf_counter()  # Bắt đầu đo thời gian\n",
    "\n",
    "# Ghi log\n",
    "with open(LOG_FILE, \"w\", encoding=\"utf-8\") as log_file:\n",
    "    log_file.write(\"Bắt đầu quá trình đánh giá\\n\")\n",
    "\n",
    "for i, (pred, gold) in enumerate(tqdm(zip(predictions, gold_data), total=len(predictions), desc=\"Đang đánh giá\")):\n",
    "    try:\n",
    "        gold_entity_map = {v: k for k, v in gold['gold_entity_vi_map'].items()}\n",
    "        gold_relation_map = {v: k for k, v in gold['gold_relation_vi_map'].items()}\n",
    "        gold_answers = gold.get(\"answer\", [])\n",
    "        kq = []\n",
    "        \n",
    "        best_f1, best_precision, best_recall, best_hit = 0, 0, 0, 0\n",
    "        lag_result = False\n",
    "\n",
    "        for query in pred.get(\"predicted_query\", []):\n",
    "            if lag_result:\n",
    "                break\n",
    "\n",
    "            set_query = convert_normed_to_s_expression(query, gold_relation_map, gold_entity_map, relation_KB_map , facc1_index)\n",
    "            for q in set_query:\n",
    "                if not q:\n",
    "                    continue\n",
    "\n",
    "                sparql = parser.s_expr_to_sparql(q)\n",
    "                if sparql is None:\n",
    "                    continue\n",
    "\n",
    "                query_result = execute_query_with_odbc(sparql)\n",
    "                if query_result:\n",
    "                    precision, recall, f1, hit = calculate_prf1(gold_answers, query_result)\n",
    "                    if f1 > best_f1:\n",
    "                        best_f1, best_precision, best_recall, best_hit = f1, precision, recall, hit\n",
    "                    if precision == 1:\n",
    "                        lag_result = True\n",
    "                        break\n",
    "\n",
    "        results.append({\n",
    "            \"qid\": gold[\"question_id\"],\n",
    "            \"answer\": gold_answers,\n",
    "            \"result\": query_result,\n",
    "            \"precision\": best_precision,\n",
    "            \"recall\": best_recall,\n",
    "            \"f1\": best_f1,\n",
    "            \"hit\": best_hit\n",
    "        })\n",
    "\n",
    "        # Ghi log tiến trình xử lý\n",
    "        with open(LOG_FILE, \"a\", encoding=\"utf-8\") as log_file:\n",
    "            log_file.write(f\"Đã xử lý xong dòng {i + 1}/{len(predictions)}\\n\")\n",
    "\n",
    "        # Khi đủ 100 kết quả, lưu vào file và reset biến `results`\n",
    "        if (i + 1) % BATCH_SIZE == 0 or (i + 1) == len(predictions):\n",
    "            batch_id = (i + 1) // BATCH_SIZE\n",
    "            filename = f\"LLMs/eval_result/evaluation_results03_part_{batch_id}.json\"\n",
    "            with open(filename, \"w\", encoding=\"utf-8\") as f:\n",
    "                json.dump(results, f, indent=4)\n",
    "            print(f\"✅ Đã lưu {len(results)} dòng vào {filename}\")\n",
    "            results = []  # Reset danh sách kết quả\n",
    "\n",
    "    except Exception as e:\n",
    "        with open(LOG_FILE, \"a\", encoding=\"utf-8\") as log_file:\n",
    "            log_file.write(f\"Lỗi tại dòng {i + 1}: {str(e)}\\n\")\n",
    "        print(f\"❌ Lỗi tại dòng {i + 1}: {e}\")\n",
    "\n",
    "# Kết thúc đo thời gian\n",
    "end_time = time.perf_counter()\n",
    "total_time = end_time - start_time\n",
    "print(f\"🎯 Quá trình đánh giá hoàn tất trong {total_time:.2f} giây!\")\n",
    "\n",
    "with open(LOG_FILE, \"a\", encoding=\"utf-8\") as log_file:\n",
    "    log_file.write(f\"Quá trình đánh giá hoàn tất trong {total_time:.2f} giây!\\n\")\n"
   ]
  },
  {
   "cell_type": "code",
   "execution_count": 2,
   "metadata": {},
   "outputs": [
    {
     "name": "stdout",
     "output_type": "stream",
     "text": [
      "📊 Precision: 0.65917\n",
      "📊 Recall: 0.66283\n",
      "📊 F1-score: 0.65924\n",
      "📊 Hits@1: 0.66394\n"
     ]
    }
   ],
   "source": [
    "import glob\n",
    "\n",
    "# Danh sách các file kết quả đánh giá\n",
    "file_list = glob.glob(\"LLMs/eval_result/evaluation_results03_part_*.json\")\n",
    "\n",
    "# Biến để tổng hợp kết quả\n",
    "total_precision = 0\n",
    "total_recall = 0\n",
    "total_f1 = 0\n",
    "total_hits_at_1 = 0\n",
    "total_samples = 0\n",
    "\n",
    "# Đọc từng file và tổng hợp dữ liệu\n",
    "for file in file_list:\n",
    "    with open(file, \"r\", encoding=\"utf-8\") as f:\n",
    "        data = json.load(f)\n",
    "        for entry in data:\n",
    "            total_precision += entry.get(\"precision\", 0)\n",
    "            total_recall += entry.get(\"recall\", 0)\n",
    "            total_f1 += entry.get(\"f1\", 0)\n",
    "            total_hits_at_1 += entry.get(\"hit\", 0)  # Hits@1 là cột \"hit\"\n",
    "            total_samples += 1\n",
    "\n",
    "# Tránh chia cho 0\n",
    "if total_samples > 0:\n",
    "    avg_precision = total_precision / total_samples\n",
    "    avg_recall = total_recall / total_samples\n",
    "    avg_f1 = total_f1 / total_samples\n",
    "    hits_at_1 = total_hits_at_1 / total_samples\n",
    "else:\n",
    "    avg_precision, avg_recall, avg_f1, hits_at_1 = 0, 0, 0, 0\n",
    "\n",
    "# Hiển thị kết quả\n",
    "print(f\"📊 Precision: {avg_precision:.5f}\")\n",
    "print(f\"📊 Recall: {avg_recall:.5f}\")\n",
    "print(f\"📊 F1-score: {avg_f1:.5f}\")\n",
    "print(f\"📊 Hits@1: {hits_at_1:.5f}\")\n"
   ]
  }
 ],
 "metadata": {
  "kernelspec": {
   "display_name": "simcse_env",
   "language": "python",
   "name": "python3"
  },
  "language_info": {
   "codemirror_mode": {
    "name": "ipython",
    "version": 3
   },
   "file_extension": ".py",
   "mimetype": "text/x-python",
   "name": "python",
   "nbconvert_exporter": "python",
   "pygments_lexer": "ipython3",
   "version": "3.8.20"
  }
 },
 "nbformat": 4,
 "nbformat_minor": 2
}
