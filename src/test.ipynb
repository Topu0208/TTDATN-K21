{
 "cells": [
  {
   "cell_type": "code",
   "execution_count": 1,
   "metadata": {},
   "outputs": [],
   "source": [
    "import sys\n",
    "sys.path.append(r\"d:\\FINAL_TTDATN\\SOURCE CODE\")\n",
    "from nor_to_sexpr import convert_s_expression_to_sparql\n"
   ]
  },
  {
   "cell_type": "code",
   "execution_count": 3,
   "metadata": {},
   "outputs": [
    {
     "name": "stdout",
     "output_type": "stream",
     "text": [
      "SELECT DISTINCT ?answer WHERE { wd:Q5 wdt:P31 ?answer }\n"
     ]
    }
   ],
   "source": [
    "s_expression = \"( JOIN ( R P31 ) Q5 )\"\n",
    "sparql_query = convert_s_expression_to_sparql(s_expression)\n",
    "print(sparql_query)"
   ]
  }
 ],
 "metadata": {
  "kernelspec": {
   "display_name": "py38",
   "language": "python",
   "name": "python3"
  },
  "language_info": {
   "codemirror_mode": {
    "name": "ipython",
    "version": 3
   },
   "file_extension": ".py",
   "mimetype": "text/x-python",
   "name": "python",
   "nbconvert_exporter": "python",
   "pygments_lexer": "ipython3",
   "version": "3.8.20"
  }
 },
 "nbformat": 4,
 "nbformat_minor": 2
}
