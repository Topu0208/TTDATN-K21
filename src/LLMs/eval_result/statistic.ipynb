{
 "cells": [
  {
   "cell_type": "code",
   "execution_count": null,
   "metadata": {},
   "outputs": [],
   "source": [
    "# import pandas as pd\n",
    "# import json\n",
    "\n",
    "# # Đọc file test và file đánh giá\n",
    "# with open('F:\\FINAL_TTDATN\\SOURCE CODE\\LC-QuAD2.0_test_updated.json', 'r', encoding='utf-8') as f:\n",
    "#     test_df = json.load(f)\n",
    "# with open('evaluation.json', 'r', encoding='utf-8') as f:\n",
    "#     evaluation_data = json.load(f)\n",
    "\n",
    "# # Chuyển đổi evaluation_data thành DataFrame\n",
    "# eval_df = pd.DataFrame(evaluation_data)\n",
    "\n",
    "# # Gộp hai DataFrame theo question_id và qid\n",
    "# merged_df = test_df.merge(eval_df, left_on='question_id', right_on='qid')\n",
    "\n",
    "# # Tính trung bình các độ đo theo template\n",
    "# metrics = ['precision', 'recall', 'f1', 'em']\n",
    "# average_metrics = merged_df.groupby('template')[metrics].mean().reset_index()\n",
    "\n",
    "# # Hiển thị kết quả\n",
    "# print(average_metrics)\n",
    "\n",
    "# # Lưu kết quả ra file CSV\n",
    "# average_metrics.to_csv('template_metrics.csv', index=False)\n"
   ]
  },
  {
   "cell_type": "code",
   "execution_count": 1,
   "metadata": {},
   "outputs": [
    {
     "name": "stderr",
     "output_type": "stream",
     "text": [
      "<>:5: SyntaxWarning: invalid escape sequence '\\F'\n",
      "<>:7: SyntaxWarning: invalid escape sequence '\\e'\n",
      "<>:5: SyntaxWarning: invalid escape sequence '\\F'\n",
      "<>:7: SyntaxWarning: invalid escape sequence '\\e'\n",
      "C:\\Users\\TOPU\\AppData\\Local\\Temp\\ipykernel_4896\\1663873521.py:5: SyntaxWarning: invalid escape sequence '\\F'\n",
      "  with open('F:\\FINAL_TTDATN\\SOURCE CODE\\LC-QuAD2.0_test_updated.json', 'r', encoding='utf-8') as f:\n",
      "C:\\Users\\TOPU\\AppData\\Local\\Temp\\ipykernel_4896\\1663873521.py:7: SyntaxWarning: invalid escape sequence '\\e'\n",
      "  with open('SIMCSE\\evaluation_SIMCSE_final.json', 'r', encoding='utf-8') as f:\n"
     ]
    },
    {
     "name": "stdout",
     "output_type": "stream",
     "text": [
      "       template  precision    recall        f1        em\n",
      "0    template_1   0.000000  0.000000  0.000000  0.000000\n",
      "1   template_10   0.746002  0.747460  0.746473  0.689970\n",
      "2   template_12   0.938462  0.938462  0.938462  0.938462\n",
      "3   template_13   0.916758  0.847337  0.861131  0.784615\n",
      "4   template_14   0.765957  0.765957  0.765957  0.765957\n",
      "5   template_15   0.843972  0.843972  0.843972  0.843972\n",
      "6   template_16   0.846890  0.845341  0.845526  0.843700\n",
      "7   template_17   0.702159  0.769714  0.705607  0.657143\n",
      "8   template_18   0.000000  0.000000  0.000000  0.000000\n",
      "9   template_19   0.562190  0.717470  0.587673  0.416393\n",
      "10   template_2   0.882075  0.882075  0.882075  0.867925\n",
      "11  template_21   0.188333  0.185667  0.185556  0.180000\n",
      "12  template_22   0.360000  0.360000  0.360000  0.360000\n",
      "13  template_24   0.000000  0.000000  0.000000  0.000000\n",
      "14   template_3   0.681664  0.678308  0.678851  0.672646\n",
      "15   template_4   0.756371  0.767658  0.758139  0.749071\n",
      "16   template_5   0.574583  0.610000  0.585595  0.525000\n",
      "17   template_6   0.641057  0.673171  0.646341  0.609756\n",
      "18   template_7   0.588007  0.587418  0.587688  0.551471\n",
      "19   template_8   0.615751  0.615982  0.611654  0.609890\n",
      "20   template_9   0.849818  0.852018  0.849859  0.849776\n"
     ]
    }
   ],
   "source": [
    "import pandas as pd\n",
    "import json\n",
    "\n",
    "# Đọc file test và file đánh giá\n",
    "with open('F:\\FINAL_TTDATN\\SOURCE CODE\\LC-QuAD2.0_test_updated.json', 'r', encoding='utf-8') as f:\n",
    "    test_data = json.load(f)\n",
    "with open('SIMCSE\\evaluation_SIMCSE_final.json', 'r', encoding='utf-8') as f:\n",
    "    evaluation_data = json.load(f)\n",
    "\n",
    "# Chuyển đổi dữ liệu thành DataFrame\n",
    "test_df = pd.DataFrame(test_data)\n",
    "eval_df = pd.DataFrame(evaluation_data)\n",
    "\n",
    "# Gộp hai DataFrame theo question_id và qid\n",
    "merged_df = test_df.merge(eval_df, left_on='question_id', right_on='qid')\n",
    "\n",
    "# Tính trung bình các độ đo theo template\n",
    "metrics = ['precision', 'recall', 'f1', 'em']\n",
    "average_metrics = merged_df.groupby('template')[metrics].mean().reset_index()\n",
    "\n",
    "# Hiển thị kết quả\n",
    "print(average_metrics)\n",
    "\n",
    "# Lưu kết quả ra file JSON\n",
    "average_metrics.to_json('template_metrics.json', orient='records', indent=4)\n"
   ]
  }
 ],
 "metadata": {
  "kernelspec": {
   "display_name": "base",
   "language": "python",
   "name": "python3"
  },
  "language_info": {
   "codemirror_mode": {
    "name": "ipython",
    "version": 3
   },
   "file_extension": ".py",
   "mimetype": "text/x-python",
   "name": "python",
   "nbconvert_exporter": "python",
   "pygments_lexer": "ipython3",
   "version": "3.12.7"
  }
 },
 "nbformat": 4,
 "nbformat_minor": 2
}
