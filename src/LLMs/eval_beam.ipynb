{
 "cells": [
  {
   "cell_type": "code",
   "execution_count": 5,
   "metadata": {
    "execution": {
     "iopub.status.busy": "2025-02-15T22:30:43.582536Z",
     "iopub.status.idle": "2025-02-15T22:30:43.582892Z",
     "shell.execute_reply": "2025-02-15T22:30:43.582734Z"
    },
    "trusted": true
   },
   "outputs": [],
   "source": [
    "import json\n",
    "import re\n",
    "from tqdm import tqdm"
   ]
  },
  {
   "cell_type": "code",
   "execution_count": 6,
   "metadata": {},
   "outputs": [],
   "source": [
    "with open('beam_prediction/generated_predictions_beam.json', 'r', encoding='utf-8') as f:\n",
    "    data = json.load(f)"
   ]
  },
  {
   "cell_type": "code",
   "execution_count": null,
   "metadata": {
    "execution": {
     "iopub.status.busy": "2025-02-15T22:30:43.585214Z",
     "iopub.status.idle": "2025-02-15T22:30:43.585572Z",
     "shell.execute_reply": "2025-02-15T22:30:43.585415Z"
    },
    "trusted": true
   },
   "outputs": [
    {
     "name": "stderr",
     "output_type": "stream",
     "text": [
      "100%|██████████| 1683/1683 [00:00<00:00, 46433.24it/s]"
     ]
    },
    {
     "name": "stdout",
     "output_type": "stream",
     "text": [
      "Total lines: 1683\n",
      "Matched lines: 613\n",
      "Will Matched lines: 1608\n",
      "Percentage of matched lines: 36.42%\n",
      "Percentage of will matched lines: 95.54%\n"
     ]
    },
    {
     "name": "stderr",
     "output_type": "stream",
     "text": [
      "\n"
     ]
    }
   ],
   "source": [
    "\n",
    "\n",
    "# ✅ Khởi tạo biến đếm\n",
    "total_lines = len(data)\n",
    "matched_lines = 0\n",
    "will_matched_lines = 0\n",
    "\n",
    "# ✅ Tính toán matched_lines và will_matched_lines\n",
    "for item in tqdm(data):\n",
    "    ground_truth = item[\"gen_label\"]\n",
    "    predictions = item[\"predicted_query\"]\n",
    "\n",
    "    # Kiểm tra exact match (khớp hoàn toàn) với bất kỳ truy vấn nào\n",
    "    if any(pred.lower() == ground_truth.lower() for pred in predictions if pred):\n",
    "        matched_lines += 1\n",
    "\n",
    "    # Kiểm tra match bỏ ký tự đặc biệt với bất kỳ truy vấn nào\n",
    "    if any(re.sub(r'\\[.*?\\]', '', pred.lower()) == re.sub(r'\\[.*?\\]', '', ground_truth.lower()) for pred in predictions if pred):\n",
    "        will_matched_lines += 1\n",
    "\n",
    "# ✅ Tính tỷ lệ\n",
    "percentage = (matched_lines / total_lines) * 100\n",
    "will_percentage = (will_matched_lines / total_lines) * 100\n",
    "\n",
    "# ✅ In kết quả\n",
    "print(f\"Total lines: {total_lines}\")\n",
    "print(f\"Matched lines: {matched_lines}\")\n",
    "print(f\"Will Matched lines: {will_matched_lines}\")\n",
    "print(f\"Percentage of matched lines: {percentage:.2f}%\")\n",
    "print(f\"Percentage of will matched lines: {will_percentage:.2f}%\")\n",
    "\n",
    "# ✅ Ghi thống kê vào file JSON\n",
    "\n",
    "statistics_data = {\n",
    "    \"total_lines\": total_lines,\n",
    "    \"matched_lines\": matched_lines,\n",
    "    \"will_matched_lines\": will_matched_lines,\n",
    "    \"percentage_matched\": percentage,\n",
    "    \"percentage_will_matched\": will_percentage\n",
    "}\n",
    "\n",
    "\n"
   ]
  }
 ],
 "metadata": {
  "kaggle": {
   "accelerator": "nvidiaTeslaT4",
   "dataSources": [
    {
     "datasetId": 6669816,
     "sourceId": 10753944,
     "sourceType": "datasetVersion"
    },
    {
     "datasetId": 6673314,
     "sourceId": 10758562,
     "sourceType": "datasetVersion"
    },
    {
     "datasetId": 6673360,
     "sourceId": 10758618,
     "sourceType": "datasetVersion"
    },
    {
     "modelId": 735,
     "modelInstanceId": 3090,
     "sourceId": 4295,
     "sourceType": "modelInstanceVersion"
    }
   ],
   "dockerImageVersionId": 30887,
   "isGpuEnabled": true,
   "isInternetEnabled": true,
   "language": "python",
   "sourceType": "notebook"
  },
  "kernelspec": {
   "display_name": "base",
   "language": "python",
   "name": "python3"
  },
  "language_info": {
   "codemirror_mode": {
    "name": "ipython",
    "version": 3
   },
   "file_extension": ".py",
   "mimetype": "text/x-python",
   "name": "python",
   "nbconvert_exporter": "python",
   "pygments_lexer": "ipython3",
   "version": "3.11.7"
  }
 },
 "nbformat": 4,
 "nbformat_minor": 4
}
