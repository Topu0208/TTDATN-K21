{
 "cells": [
  {
   "cell_type": "code",
   "execution_count": 1,
   "metadata": {
    "execution": {
     "iopub.status.busy": "2025-02-15T22:30:43.582536Z",
     "iopub.status.idle": "2025-02-15T22:30:43.582892Z",
     "shell.execute_reply": "2025-02-15T22:30:43.582734Z"
    },
    "trusted": true
   },
   "outputs": [],
   "source": [
    "import json\n",
    "import re\n",
    "from tqdm import tqdm"
   ]
  },
  {
   "cell_type": "code",
   "execution_count": null,
   "metadata": {},
   "outputs": [
    {
     "ename": "FileNotFoundError",
     "evalue": "[Errno 2] No such file or directory: 'predictions.json'",
     "output_type": "error",
     "traceback": [
      "\u001b[1;31m---------------------------------------------------------------------------\u001b[0m",
      "\u001b[1;31mFileNotFoundError\u001b[0m                         Traceback (most recent call last)",
      "Cell \u001b[1;32mIn[2], line 1\u001b[0m\n\u001b[1;32m----> 1\u001b[0m \u001b[38;5;28;01mwith\u001b[39;00m \u001b[38;5;28;43mopen\u001b[39;49m\u001b[43m(\u001b[49m\u001b[38;5;124;43m'\u001b[39;49m\u001b[38;5;124;43mpredictions.json\u001b[39;49m\u001b[38;5;124;43m'\u001b[39;49m\u001b[43m,\u001b[49m\u001b[43m \u001b[49m\u001b[38;5;124;43m'\u001b[39;49m\u001b[38;5;124;43mr\u001b[39;49m\u001b[38;5;124;43m'\u001b[39;49m\u001b[43m,\u001b[49m\u001b[43m \u001b[49m\u001b[43mencoding\u001b[49m\u001b[38;5;241;43m=\u001b[39;49m\u001b[38;5;124;43m'\u001b[39;49m\u001b[38;5;124;43mutf-8\u001b[39;49m\u001b[38;5;124;43m'\u001b[39;49m\u001b[43m)\u001b[49m \u001b[38;5;28;01mas\u001b[39;00m f:\n\u001b[0;32m      2\u001b[0m     data \u001b[38;5;241m=\u001b[39m json\u001b[38;5;241m.\u001b[39mload(f)\n",
      "File \u001b[1;32mc:\\Users\\TOPU\\anaconda3\\envs\\py38\\lib\\site-packages\\IPython\\core\\interactiveshell.py:284\u001b[0m, in \u001b[0;36m_modified_open\u001b[1;34m(file, *args, **kwargs)\u001b[0m\n\u001b[0;32m    277\u001b[0m \u001b[38;5;28;01mif\u001b[39;00m file \u001b[38;5;129;01min\u001b[39;00m {\u001b[38;5;241m0\u001b[39m, \u001b[38;5;241m1\u001b[39m, \u001b[38;5;241m2\u001b[39m}:\n\u001b[0;32m    278\u001b[0m     \u001b[38;5;28;01mraise\u001b[39;00m \u001b[38;5;167;01mValueError\u001b[39;00m(\n\u001b[0;32m    279\u001b[0m         \u001b[38;5;124mf\u001b[39m\u001b[38;5;124m\"\u001b[39m\u001b[38;5;124mIPython won\u001b[39m\u001b[38;5;124m'\u001b[39m\u001b[38;5;124mt let you open fd=\u001b[39m\u001b[38;5;132;01m{\u001b[39;00mfile\u001b[38;5;132;01m}\u001b[39;00m\u001b[38;5;124m by default \u001b[39m\u001b[38;5;124m\"\u001b[39m\n\u001b[0;32m    280\u001b[0m         \u001b[38;5;124m\"\u001b[39m\u001b[38;5;124mas it is likely to crash IPython. If you know what you are doing, \u001b[39m\u001b[38;5;124m\"\u001b[39m\n\u001b[0;32m    281\u001b[0m         \u001b[38;5;124m\"\u001b[39m\u001b[38;5;124myou can use builtins\u001b[39m\u001b[38;5;124m'\u001b[39m\u001b[38;5;124m open.\u001b[39m\u001b[38;5;124m\"\u001b[39m\n\u001b[0;32m    282\u001b[0m     )\n\u001b[1;32m--> 284\u001b[0m \u001b[38;5;28;01mreturn\u001b[39;00m \u001b[43mio_open\u001b[49m\u001b[43m(\u001b[49m\u001b[43mfile\u001b[49m\u001b[43m,\u001b[49m\u001b[43m \u001b[49m\u001b[38;5;241;43m*\u001b[39;49m\u001b[43margs\u001b[49m\u001b[43m,\u001b[49m\u001b[43m \u001b[49m\u001b[38;5;241;43m*\u001b[39;49m\u001b[38;5;241;43m*\u001b[39;49m\u001b[43mkwargs\u001b[49m\u001b[43m)\u001b[49m\n",
      "\u001b[1;31mFileNotFoundError\u001b[0m: [Errno 2] No such file or directory: 'predictions.json'"
     ]
    }
   ],
   "source": [
    "with open('beam_prediction/generated_predictions_beam_Q7b.json', 'r', encoding='utf-8') as f:\n",
    "    data = json.load(f)"
   ]
  },
  {
   "cell_type": "code",
   "execution_count": null,
   "metadata": {
    "execution": {
     "iopub.status.busy": "2025-02-15T22:30:43.585214Z",
     "iopub.status.idle": "2025-02-15T22:30:43.585572Z",
     "shell.execute_reply": "2025-02-15T22:30:43.585415Z"
    },
    "trusted": true
   },
   "outputs": [
    {
     "name": "stderr",
     "output_type": "stream",
     "text": [
      "100%|██████████| 1000/1000 [00:00<00:00, 63288.28it/s]"
     ]
    },
    {
     "name": "stdout",
     "output_type": "stream",
     "text": [
      "Total lines: 1000\n",
      "Matched lines: 31\n",
      "Will Matched lines: 83\n",
      "Percentage of matched lines: 3.10%\n",
      "Percentage of will matched lines: 8.30%\n"
     ]
    },
    {
     "name": "stderr",
     "output_type": "stream",
     "text": [
      "\n"
     ]
    }
   ],
   "source": [
    "\n",
    "\n",
    "# ✅ Khởi tạo biến đếm\n",
    "total_lines = len(data)\n",
    "matched_lines = 0\n",
    "will_matched_lines = 0\n",
    "\n",
    "# ✅ Tính toán matched_lines và will_matched_lines\n",
    "for item in tqdm(data):\n",
    "    ground_truth = item[\"gen_label\"]\n",
    "    predictions = item[\"predicted_query\"]\n",
    "\n",
    "    # Kiểm tra exact match (khớp hoàn toàn) với bất kỳ truy vấn nào\n",
    "    if any(pred.lower() == ground_truth.lower() for pred in predictions if pred):\n",
    "        matched_lines += 1\n",
    "\n",
    "    # Kiểm tra match bỏ ký tự đặc biệt với bất kỳ truy vấn nào\n",
    "    if any(re.sub(r'\\[.*?\\]', '', pred.lower()) == re.sub(r'\\[.*?\\]', '', ground_truth.lower()) for pred in predictions if pred):\n",
    "        will_matched_lines += 1\n",
    "\n",
    "# ✅ Tính tỷ lệ\n",
    "percentage = (matched_lines / total_lines) * 100\n",
    "will_percentage = (will_matched_lines / total_lines) * 100\n",
    "\n",
    "# ✅ In kết quả\n",
    "print(f\"Total lines: {total_lines}\")\n",
    "print(f\"Matched lines: {matched_lines}\")\n",
    "print(f\"Will Matched lines: {will_matched_lines}\")\n",
    "print(f\"Percentage of matched lines: {percentage:.2f}%\")\n",
    "print(f\"Percentage of will matched lines: {will_percentage:.2f}%\")\n",
    "\n",
    "# ✅ Ghi thống kê vào file JSON\n",
    "\n",
    "statistics_data = {\n",
    "    \"total_lines\": total_lines,\n",
    "    \"matched_lines\": matched_lines,\n",
    "    \"will_matched_lines\": will_matched_lines,\n",
    "    \"percentage_matched\": percentage,\n",
    "    \"percentage_will_matched\": will_percentage\n",
    "}\n",
    "\n",
    "\n"
   ]
  }
 ],
 "metadata": {
  "kaggle": {
   "accelerator": "nvidiaTeslaT4",
   "dataSources": [
    {
     "datasetId": 6669816,
     "sourceId": 10753944,
     "sourceType": "datasetVersion"
    },
    {
     "datasetId": 6673314,
     "sourceId": 10758562,
     "sourceType": "datasetVersion"
    },
    {
     "datasetId": 6673360,
     "sourceId": 10758618,
     "sourceType": "datasetVersion"
    },
    {
     "modelId": 735,
     "modelInstanceId": 3090,
     "sourceId": 4295,
     "sourceType": "modelInstanceVersion"
    }
   ],
   "dockerImageVersionId": 30887,
   "isGpuEnabled": true,
   "isInternetEnabled": true,
   "language": "python",
   "sourceType": "notebook"
  },
  "kernelspec": {
   "display_name": "py38",
   "language": "python",
   "name": "python3"
  },
  "language_info": {
   "codemirror_mode": {
    "name": "ipython",
    "version": 3
   },
   "file_extension": ".py",
   "mimetype": "text/x-python",
   "name": "python",
   "nbconvert_exporter": "python",
   "pygments_lexer": "ipython3",
   "version": "3.8.20"
  }
 },
 "nbformat": 4,
 "nbformat_minor": 4
}
