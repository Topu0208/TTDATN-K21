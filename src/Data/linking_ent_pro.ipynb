{
 "cells": [
  {
   "cell_type": "code",
   "execution_count": 17,
   "metadata": {},
   "outputs": [
    {
     "name": "stdout",
     "output_type": "stream",
     "text": [
      "Entity: ['Q16538', 'Q54622175', 'Q951038', 'Q1955703', 'Q2636173', 'Q4540147', 'Q650733']\n",
      "Relation: ['P106']\n"
     ]
    }
   ],
   "source": [
    "import requests\n",
    "\n",
    "def find_wikidata_entity(label: str, language: str = \"vi\"):\n",
    "    \"\"\"\n",
    "    Tìm mã thực thể Wikidata từ nhãn, ưu tiên kết quả có nhãn khớp chính xác.\n",
    "    \"\"\"\n",
    "    url = \"https://www.wikidata.org/w/api.php\"\n",
    "    params = {\n",
    "        \"action\": \"wbsearchentities\",\n",
    "        \"search\": label,\n",
    "        \"language\": language,\n",
    "        \"format\": \"json\"\n",
    "    }\n",
    "    response = requests.get(url, params=params)\n",
    "    data = response.json()\n",
    "    \n",
    "    if \"search\" in data and data[\"search\"]:\n",
    "        results = [(item[\"id\"], item[\"label\"], item.get(\"description\", \"\")) for item in data[\"search\"]]\n",
    "        \n",
    "        # Ưu tiên kết quả có nhãn khớp chính xác trước\n",
    "        # results.sort(key=lambda x: (x[1].lower() != label.lower(), len(x[2]) if x[2] else 0), reverse=True)\n",
    "        \n",
    "        return [item[0] for item in results]\n",
    "    return None\n",
    "\n",
    "def find_wikidata_relation(label: str, language: str = \"vi\"):\n",
    "    \"\"\"\n",
    "    Tìm mã quan hệ Wikidata từ nhãn, ưu tiên kết quả có nhãn khớp chính xác.\n",
    "    \"\"\"\n",
    "    url = \"https://www.wikidata.org/w/api.php\"\n",
    "    params = {\n",
    "        \"action\": \"wbsearchentities\",\n",
    "        \"search\": label,\n",
    "        \"language\": language,\n",
    "        \"type\": \"property\",  # Chỉ tìm quan hệ (property)\n",
    "        \"format\": \"json\"\n",
    "    }\n",
    "    response = requests.get(url, params=params)\n",
    "    data = response.json()\n",
    "    \n",
    "    if \"search\" in data and data[\"search\"]:\n",
    "        results = [(item[\"id\"], item[\"label\"], item.get(\"description\", \"\")) for item in data[\"search\"]]\n",
    "        \n",
    "        # # Ưu tiên kết quả có nhãn khớp chính xác trước\n",
    "        # results.sort(key=lambda x: (x[1].lower() != label.lower(), len(x[2]) if x[2] else 0), reverse=True)\n",
    "        \n",
    "        return [item[0] for item in results]\n",
    "    return None\n",
    "\n",
    "# Ví dụ sử dụng\n",
    "entity = find_wikidata_entity(\"South Park \")\n",
    "relation = find_wikidata_relation(\"nghề nghiệp\")\n",
    "print(\"Entity:\", entity)\n",
    "print(\"Relation:\", relation)\n"
   ]
  }
 ],
 "metadata": {
  "kernelspec": {
   "display_name": "base",
   "language": "python",
   "name": "python3"
  },
  "language_info": {
   "codemirror_mode": {
    "name": "ipython",
    "version": 3
   },
   "file_extension": ".py",
   "mimetype": "text/x-python",
   "name": "python",
   "nbconvert_exporter": "python",
   "pygments_lexer": "ipython3",
   "version": "3.11.7"
  }
 },
 "nbformat": 4,
 "nbformat_minor": 2
}
