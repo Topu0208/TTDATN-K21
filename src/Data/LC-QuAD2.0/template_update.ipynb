{
 "cells": [
  {
   "cell_type": "code",
   "execution_count": 4,
   "metadata": {},
   "outputs": [],
   "source": [
    "import json\n",
    "import re\n",
    "from nor_to_sexpr import conversion_functions\n",
    "\n",
    "def identify_template(expression):\n",
    "    for i, func in enumerate(conversion_functions, start=1):\n",
    "        if func(expression):\n",
    "            return f\"template_{i}\"\n",
    "    return \"UNKNOWN\"\n",
    "\n",
    "\n",
    "# # Load dữ liệu từ file\n",
    "# with open(\"generated_predictions_val_3ep.json\", \"r\", encoding=\"utf-8\") as f:\n",
    "#     predictions_data = json.load(f)\n"
   ]
  },
  {
   "cell_type": "code",
   "execution_count": 10,
   "metadata": {},
   "outputs": [
    {
     "name": "stdout",
     "output_type": "stream",
     "text": [
      "File đã được cập nhật và lưu tại: final_process/LC-QuAD2.0_test.json\n"
     ]
    }
   ],
   "source": [
    "# Load dữ liệu từ file test.json\n",
    "with open(\"translate/test_translated.json\", \"r\", encoding=\"utf-8\") as f:\n",
    "    test_data = json.load(f)\n",
    "\n",
    "# Cập nhật thuộc tính \"template\"\n",
    "for item in test_data:\n",
    "    item[\"template\"] = identify_template(item[\"s_expr\"])\n",
    "\n",
    "# Lưu lại file đã cập nhật\n",
    "output_path = \"template/test_template.json\"\n",
    "with open(output_path, \"w\", encoding=\"utf-8\") as f:\n",
    "    json.dump(test_data, f, indent=4, ensure_ascii=False)\n",
    "# Lưu lại file đã cập nhật\n",
    "output_path = \"final_process/LC-QuAD2.0_test.json\"\n",
    "with open(output_path, \"w\", encoding=\"utf-8\") as f:\n",
    "    json.dump(test_data, f, indent=4, ensure_ascii=False)\n",
    "print(f\"File đã được cập nhật và lưu tại: {output_path}\")"
   ]
  },
  {
   "cell_type": "code",
   "execution_count": 11,
   "metadata": {},
   "outputs": [],
   "source": [
    "# Load dữ liệu từ file test.json\n",
    "with open(\"translate/train_translated.json\", \"r\", encoding=\"utf-8\") as f:\n",
    "    test_data = json.load(f)\n",
    "\n",
    "# Cập nhật thuộc tính \"template\"\n",
    "for item in test_data:\n",
    "    item[\"template\"] = identify_template(item[\"s_expr\"])\n",
    "\n",
    "# Lưu lại file đã cập nhật\n",
    "output_path = \"template/train_template.json\"\n",
    "with open(output_path, \"w\", encoding=\"utf-8\") as f:\n",
    "    json.dump(test_data, f, indent=4, ensure_ascii=False)"
   ]
  },
  {
   "cell_type": "code",
   "execution_count": 6,
   "metadata": {},
   "outputs": [],
   "source": [
    "# import json\n",
    "\n",
    "# # Đọc file test đã được cập nhật với template\n",
    "# with open(\"LC-QuAD2.0_test_updated.json\", \"r\", encoding=\"utf-8\") as f:\n",
    "#     test_data = json.load(f)\n",
    "\n",
    "# # Đọc file dự đoán\n",
    "# with open(\"predictions.json\", \"r\", encoding=\"utf-8\") as f:\n",
    "#     predictions_data = json.load(f)\n",
    "\n",
    "# # Kiểm tra dự đoán đúng theo template\n",
    "# template_stats = {}\n",
    "\n",
    "# for test_item, pred_item in zip(test_data, predictions_data):\n",
    "#     template = test_item[\"template\"]\n",
    "#     gen_label = pred_item[\"gen_label\"]\n",
    "#     predicted_queries = pred_item[\"predicted_query\"]\n",
    "    \n",
    "#     if template not in template_stats:\n",
    "#         template_stats[template] = {\"total\": 0, \"correct\": 0}\n",
    "    \n",
    "#     template_stats[template][\"total\"] += 1\n",
    "#     if gen_label in predicted_queries:\n",
    "#         template_stats[template][\"correct\"] += 1\n",
    "\n",
    "# # Tính toán tỷ lệ dự đoán đúng\n",
    "# template_results = {t: {\"accuracy\": v[\"correct\"] / v[\"total\"]} for t, v in template_stats.items() if v[\"total\"] > 0}\n",
    "\n",
    "# # Lưu kết quả\n",
    "# output_path = \"template_accuracy.json\"\n",
    "# with open(output_path, \"w\", encoding=\"utf-8\") as f:\n",
    "#     json.dump(template_results, f, indent=4, ensure_ascii=False)\n",
    "\n",
    "# print(f\"File kết quả được lưu tại: {output_path}\")\n"
   ]
  }
 ],
 "metadata": {
  "kernelspec": {
   "display_name": "chatkbqa",
   "language": "python",
   "name": "python3"
  },
  "language_info": {
   "codemirror_mode": {
    "name": "ipython",
    "version": 3
   },
   "file_extension": ".py",
   "mimetype": "text/x-python",
   "name": "python",
   "nbconvert_exporter": "python",
   "pygments_lexer": "ipython3",
   "version": "3.8.20"
  }
 },
 "nbformat": 4,
 "nbformat_minor": 2
}
