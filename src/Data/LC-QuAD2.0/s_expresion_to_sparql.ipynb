{
 "cells": [
  {
   "cell_type": "code",
   "execution_count": 249,
   "metadata": {},
   "outputs": [],
   "source": [
    "import re\n",
    "\n",
    "def convert_s_expression_to_sparql_1(s_expression):\n",
    "    pattern = r\"\\( ASK \\( AND \\( (\\w+) (\\w+) (\\w+) \\) \\( \\1 \\2 (\\w+) \\) \\) \\)\"\n",
    "    match = re.match(pattern, s_expression)\n",
    "    \n",
    "    if match:\n",
    "        entity, predicate, obj1, obj2 = match.groups()\n",
    "        return f\"ASK WHERE {{ wd:{entity} wdt:{predicate} wd:{obj1} . wd:{entity} wdt:{predicate} wd:{obj2} }}\"\n",
    "    \n",
    "    return None\n"
   ]
  },
  {
   "cell_type": "code",
   "execution_count": 250,
   "metadata": {},
   "outputs": [
    {
     "name": "stdout",
     "output_type": "stream",
     "text": [
      "SELECT ?ent WHERE { ?ent wdt:P31 wd:Q21009056 . ?ent wdt:P2406 ?obj } ORDER BY DESC(?obj) LIMIT 5\n"
     ]
    }
   ],
   "source": [
    "def convert_s_expression_to_sparql_2(s_expression):\n",
    "    pattern = r\"\\( MAX \\( JOIN \\( R (\\w+) \\) \\( JOIN (\\w+) (\\w+) \\) \\) \\)\"\n",
    "    match = re.match(pattern, s_expression)\n",
    "    \n",
    "    if match:\n",
    "        rel2, rel1, type_entity = match.groups()\n",
    "        return f\"SELECT ?ent WHERE {{ ?ent wdt:{rel1} wd:{type_entity} . ?ent wdt:{rel2} ?obj }} ORDER BY DESC(?obj) LIMIT 5\"\n",
    "    \n",
    "    return None\n",
    "\n",
    "# Test case\n",
    "s_expression = \"( MAX ( JOIN ( R P2406 ) ( JOIN P31 Q21009056 ) ) )\"\n",
    "sparql_query = convert_s_expression_to_sparql_2(s_expression)\n",
    "print(sparql_query)"
   ]
  },
  {
   "cell_type": "code",
   "execution_count": 251,
   "metadata": {},
   "outputs": [
    {
     "name": "stdout",
     "output_type": "stream",
     "text": [
      "SELECT ?answer WHERE { wd:Q36956 wdt:P2293 ?X . ?X wdt:P684 ?answer }\n"
     ]
    }
   ],
   "source": [
    "\n",
    "def convert_s_expression_to_sparql_3(s_expression):\n",
    "    pattern = r\"\\( JOIN \\( R (\\w+) \\) \\( JOIN \\( R (\\w+) \\) (\\w+) \\) \\)\"\n",
    "    match = re.match(pattern, s_expression)\n",
    "    \n",
    "    if match:\n",
    "        rel2, rel1, entity = match.groups()\n",
    "        return f\"SELECT ?answer WHERE {{ wd:{entity} wdt:{rel1} ?X . ?X wdt:{rel2} ?answer }}\"\n",
    "    \n",
    "    return None\n",
    "\n",
    "# Test case\n",
    "s_expression = \"( JOIN ( R P684 ) ( JOIN ( R P2293 ) Q36956 ) )\"\n",
    "sparql_query = convert_s_expression_to_sparql_3(s_expression)\n",
    "print(sparql_query)\n"
   ]
  },
  {
   "cell_type": "code",
   "execution_count": 252,
   "metadata": {},
   "outputs": [
    {
     "name": "stdout",
     "output_type": "stream",
     "text": [
      "SELECT DISTINCT ?obj WHERE { wd:Q2813 wdt:P176 ?obj . ?obj wdt:P31 wd:Q891723 }\n"
     ]
    }
   ],
   "source": [
    "def convert_s_expression_to_sparql_4(s_expression):\n",
    "    pattern = r\"\\( AND \\( JOIN \\( R (\\w+) \\) (\\w+) \\) \\( JOIN (\\w+) (\\w+) \\) \\)\"\n",
    "    match = re.match(pattern, s_expression)\n",
    "    \n",
    "    if match:\n",
    "        rel1, en1, rel2, en2 = match.groups()\n",
    "        return f\"SELECT DISTINCT ?obj WHERE {{ wd:{en1} wdt:{rel1} ?obj . ?obj wdt:{rel2} wd:{en2} }}\"\n",
    "    \n",
    "    return None\n",
    "\n",
    "# Test case\n",
    "s_expression = \"( AND ( JOIN ( R P176 ) Q2813 ) ( JOIN P31 Q891723 ) )\"\n",
    "sparql_query = convert_s_expression_to_sparql_4(s_expression)\n",
    "print(sparql_query)"
   ]
  },
  {
   "cell_type": "code",
   "execution_count": 253,
   "metadata": {},
   "outputs": [
    {
     "name": "stdout",
     "output_type": "stream",
     "text": [
      "SELECT ?ent WHERE { ?ent wdt:P31 wd:Q500834 . ?ent wdt:P1356 ?obj . ?ent wdt:P276 wd:Q664 } ORDER BY ASC(?obj) LIMIT 5\n"
     ]
    }
   ],
   "source": [
    "def convert_s_expression_to_sparql_5(s_expression):\n",
    "    pattern = r\"\\( MIN \\( JOIN \\( R (\\w+) \\) \\( AND \\( JOIN (\\w+) (\\w+) \\) \\( JOIN (\\w+) (\\w+) \\) \\) \\) \\)\"\n",
    "    match = re.match(pattern, s_expression)\n",
    "    \n",
    "    if match:\n",
    "        rel, rel1, obj1, rel2, obj2 = match.groups()\n",
    "        return f\"SELECT ?ent WHERE {{ ?ent wdt:{rel1} wd:{obj1} . ?ent wdt:{rel} ?obj . ?ent wdt:{rel2} wd:{obj2} }} ORDER BY ASC(?obj) LIMIT 5\"\n",
    "    \n",
    "    return None\n",
    "\n",
    "# Test case\n",
    "s_expression = \"( MIN ( JOIN ( R P1356 ) ( AND ( JOIN P31 Q500834 ) ( JOIN P276 Q664 ) ) ) )\"\n",
    "sparql_query = convert_s_expression_to_sparql_5(s_expression)\n",
    "print(sparql_query)"
   ]
  },
  {
   "cell_type": "code",
   "execution_count": null,
   "metadata": {},
   "outputs": [
    {
     "name": "stdout",
     "output_type": "stream",
     "text": [
      "SELECT ?ent WHERE { ?ent wdt:P31 wd:Q8092 . ?ent wdt:P2630 ?obj . ?ent wdt:P910 wd:Q8528870 } ORDER BY DESC(?obj) LIMIT 5\n"
     ]
    }
   ],
   "source": [
    "def convert_s_expression_to_sparql_6(s_expression):\n",
    "    pattern = r\"\\( MAX \\( JOIN \\( R (\\w+) \\) \\( AND \\( JOIN (\\w+) (\\w+) \\) \\( JOIN (\\w+) (\\w+) \\) \\) \\) \\)\"\n",
    "    match = re.match(pattern, s_expression)\n",
    "    \n",
    "    if match:\n",
    "        rel, rel1, obj1, rel2, obj2 = match.groups()\n",
    "        return f\"SELECT ?ent WHERE {{ ?ent wdt:{rel1} wd:{obj1} . ?ent wdt:{rel} ?obj . ?ent wdt:{rel2} wd:{obj2} }} ORDER BY DESC(?obj) LIMIT 5\"\n",
    "    \n",
    "    return None\n",
    "\n",
    "# Test case\n",
    "s_expression = \"( MAX ( JOIN ( R P2630 ) ( AND ( JOIN P31 Q8092 ) ( JOIN P910 Q8528870 ) ) ) )\"\n",
    "sparql_query = convert_s_expression_to_sparql_6(s_expression)\n",
    "print(sparql_query)"
   ]
  },
  {
   "cell_type": "code",
   "execution_count": 255,
   "metadata": {},
   "outputs": [
    {
     "name": "stdout",
     "output_type": "stream",
     "text": [
      "SELECT DISTINCT ?answer WHERE { ?answer wdt:P1479 wd:Q83437 }\n"
     ]
    }
   ],
   "source": [
    "def convert_s_expression_to_sparql_7(s_expression):\n",
    "    pattern = r\"\\( JOIN (\\w+) (\\w+) \\)\"\n",
    "    match = re.match(pattern, s_expression)\n",
    "    \n",
    "    if match:\n",
    "        predicate, obj = match.groups()\n",
    "        return f\"SELECT DISTINCT ?answer WHERE {{ ?answer wdt:{predicate} wd:{obj} }}\"\n",
    "    \n",
    "    return None\n",
    "\n",
    "# Test case\n",
    "s_expression = \"( JOIN P1479 Q83437 )\"\n",
    "sparql_query = convert_s_expression_to_sparql_7(s_expression)\n",
    "print(sparql_query)"
   ]
  },
  {
   "cell_type": "code",
   "execution_count": null,
   "metadata": {},
   "outputs": [
    {
     "name": "stdout",
     "output_type": "stream",
     "text": [
      "SELECT ?obj WHERE { wd:Q273978 p:P1411 ?s . ?s ps:P1411 ?obj . ?s pq:P805 wd:Q751924 }\n"
     ]
    }
   ],
   "source": [
    "def convert_s_expression_to_sparql_8(s_expression):\n",
    "    pattern = r\"\\( JOIN \\( R (\\w+) \\) \\( AND \\( JOIN \\( R \\1 \\) (\\w+) \\) \\( JOIN (\\w+) (\\w+) \\) \\) \\)\"\n",
    "    match = re.match(pattern, s_expression)\n",
    "    \n",
    "    if match:\n",
    "        pred, entity, qualifier, qual_obj = match.groups()\n",
    "        return f\"SELECT ?obj WHERE {{ wd:{entity} p:{pred} ?s . ?s ps:{pred} ?obj . ?s pq:{qualifier} wd:{qual_obj} }}\"\n",
    "    \n",
    "    return None\n",
    "\n",
    "# Test case\n",
    "s_expression = \"( JOIN ( R P1411 ) ( AND ( JOIN ( R P1411 ) Q273978 ) ( JOIN P805 Q751924 ) ) )\"\n",
    "sparql_query = convert_s_expression_to_sparql_8(s_expression)\n",
    "print(sparql_query)"
   ]
  },
  {
   "cell_type": "code",
   "execution_count": 257,
   "metadata": {},
   "outputs": [
    {
     "name": "stdout",
     "output_type": "stream",
     "text": [
      "SELECT ?value WHERE { wd:Q8027 p:P69 ?s . ?s ps:P69 wd:Q687514 . ?s pq:P512 ?value }\n"
     ]
    }
   ],
   "source": [
    "\n",
    "def convert_s_expression_to_sparql_9(s_expression):\n",
    "    pattern = r\"\\( JOIN \\( R (\\w+) \\) \\( AND \\( JOIN \\( R (\\w+) \\) (\\w+) \\) \\( JOIN \\2 (\\w+) \\) \\) \\)\"\n",
    "    match = re.match(pattern, s_expression)\n",
    "    \n",
    "    if match:\n",
    "        qualifier, pred, entity, obj = match.groups()\n",
    "        return f\"SELECT ?value WHERE {{ wd:{entity} p:{pred} ?s . ?s ps:{pred} wd:{obj} . ?s pq:{qualifier} ?value }}\"\n",
    "    \n",
    "    return None\n",
    "\n",
    "# Test case\n",
    "s_expression = \"( JOIN ( R P512 ) ( AND ( JOIN ( R P69 ) Q8027 ) ( JOIN P69 Q687514 ) ) )\"\n",
    "sparql_query = convert_s_expression_to_sparql_9(s_expression)\n",
    "print(sparql_query)"
   ]
  },
  {
   "cell_type": "code",
   "execution_count": null,
   "metadata": {},
   "outputs": [
    {
     "name": "stdout",
     "output_type": "stream",
     "text": [
      "SELECT DISTINCT ?sbj WHERE { ?sbj wdt:P101 wd:Q161437 . ?sbj wdt:P31 wd:Q5 }\n"
     ]
    }
   ],
   "source": [
    "def convert_s_expression_to_sparql_10(s_expression):\n",
    "    pattern = r\"\\( AND \\( JOIN (\\w+) (\\w+) \\) \\( JOIN (\\w+) (\\w+) \\) \\)\"\n",
    "    match = re.match(pattern, s_expression)\n",
    "    \n",
    "    if match:\n",
    "        pred, obj, p2, type_obj = match.groups()\n",
    "        return f\"SELECT DISTINCT ?sbj WHERE {{ ?sbj wdt:{pred} wd:{obj} . ?sbj wdt:{p2} wd:{type_obj} }}\"\n",
    "    \n",
    "    return None\n",
    "\n",
    "# Test case\n",
    "s_expression = \"( AND ( JOIN P101 Q161437 ) ( JOIN P31 Q5 ) )\"\n",
    "sparql_query = convert_s_expression_to_sparql_10(s_expression)\n",
    "print(sparql_query)"
   ]
  },
  {
   "cell_type": "code",
   "execution_count": 259,
   "metadata": {},
   "outputs": [
    {
     "name": "stdout",
     "output_type": "stream",
     "text": [
      "SELECT ?answer WHERE { wd:Q126194 wdt:P400 ?answer . ?answer wdt:P747 wd:Q483881 }\n"
     ]
    }
   ],
   "source": [
    "def convert_s_expression_to_sparql_11(s_expression):\n",
    "    pattern = r\"\\( AND \\( JOIN \\( R (\\w+) \\) (\\w+) \\) \\( JOIN (\\w+) (\\w+) \\) \\)\"\n",
    "    match = re.match(pattern, s_expression)\n",
    "    \n",
    "    if match:\n",
    "        rel1, entity, rel2, obj = match.groups()\n",
    "        return f\"SELECT ?answer WHERE {{ wd:{entity} wdt:{rel1} ?answer . ?answer wdt:{rel2} wd:{obj} }}\"\n",
    "    \n",
    "    return None\n",
    "\n",
    "# Test case\n",
    "s_expression = \"( AND ( JOIN ( R P400 ) Q126194 ) ( JOIN P747 Q483881 ) )\"\n",
    "sparql_query = convert_s_expression_to_sparql_11(s_expression)\n",
    "print(sparql_query)"
   ]
  },
  {
   "cell_type": "code",
   "execution_count": 260,
   "metadata": {},
   "outputs": [
    {
     "name": "stdout",
     "output_type": "stream",
     "text": [
      "ASK WHERE { wd:Q41485581 wdt:P1357 ?obj filter(?obj > 25) }\n"
     ]
    }
   ],
   "source": [
    "def convert_s_expression_to_sparql_12(s_expression):\n",
    "    pattern = r\"\\( ASK \\( (\\=|>=|<=|>|<) \\( JOIN \\( R (\\w+) \\) (\\w+) \\) (\\d+(\\.\\d+)?) \\) \\)\"\n",
    "    match = re.match(pattern, s_expression)\n",
    "    \n",
    "    if match:\n",
    "        operator, predicate, entity, value, _ = match.groups()\n",
    "        return f\"ASK WHERE {{ wd:{entity} wdt:{predicate} ?obj filter(?obj {operator} {value}) }}\"\n",
    "    \n",
    "    return None\n",
    "\n",
    "# Test case\n",
    "s_expression = \"( ASK ( > ( JOIN ( R P1357 ) Q41485581 ) 25 ) )\"\n",
    "sparql_query = convert_s_expression_to_sparql_12(s_expression)\n",
    "print(sparql_query)"
   ]
  },
  {
   "cell_type": "code",
   "execution_count": 261,
   "metadata": {},
   "outputs": [
    {
     "name": "stdout",
     "output_type": "stream",
     "text": [
      "SELECT ?ans_1 ?ans_2 WHERE { wd:Q18432 wdt:P190 ?ans_1 . wd:Q18432 wdt:P131 ?ans_2 }\n"
     ]
    }
   ],
   "source": [
    "def convert_s_expression_to_sparql_13(s_expression):\n",
    "    pattern = r\"\\( JOIN \\( R (\\w+) \\) (\\w+) \\) \\( JOIN \\( R (\\w+) \\) \\2 \\)\"\n",
    "    match = re.match(pattern, s_expression)\n",
    "    \n",
    "    if match:\n",
    "        pred1, entity, pred2 = match.groups()\n",
    "        return f\"SELECT ?ans_1 ?ans_2 WHERE {{ wd:{entity} wdt:{pred1} ?ans_1 . wd:{entity} wdt:{pred2} ?ans_2 }}\"\n",
    "    \n",
    "    return None\n",
    "\n",
    "# Test case\n",
    "s_expression = \"( JOIN ( R P190 ) Q18432 ) ( JOIN ( R P131 ) Q18432 )\"\n",
    "sparql_query = convert_s_expression_to_sparql_13(s_expression)\n",
    "print(sparql_query)"
   ]
  },
  {
   "cell_type": "code",
   "execution_count": null,
   "metadata": {},
   "outputs": [
    {
     "name": "stdout",
     "output_type": "stream",
     "text": [
      "SELECT (COUNT(?sub) AS ?value ) { ?sub wdt:P201 wd:Q104437 }\n"
     ]
    }
   ],
   "source": [
    "def convert_s_expression_to_sparql_14(s_expression):\n",
    "    pattern = r\"\\( COUNT \\( JOIN (\\w+) (\\w+) \\) \\)\"\n",
    "    match = re.match(pattern, s_expression)\n",
    "    \n",
    "    if match:\n",
    "        predicate, obj = match.groups()\n",
    "        return f\"SELECT (COUNT(?sub) AS ?value ) {{ ?sub wdt:{predicate} wd:{obj} }}\"\n",
    "    \n",
    "    return None\n",
    "\n",
    "# Test case\n",
    "s_expression = \"( COUNT ( JOIN P201 Q104437 ) )\"\n",
    "sparql_query = convert_s_expression_to_sparql_14(s_expression)\n",
    "print(sparql_query)"
   ]
  },
  {
   "cell_type": "code",
   "execution_count": 263,
   "metadata": {},
   "outputs": [
    {
     "name": "stdout",
     "output_type": "stream",
     "text": [
      "SELECT (COUNT(?obj) AS ?value ) { wd:Q670 wdt:P1121 ?obj }\n"
     ]
    }
   ],
   "source": [
    "def convert_s_expression_to_sparql_15(s_expression):\n",
    "    pattern = r\"\\( COUNT \\( JOIN \\( R (\\w+) \\) (\\w+) \\) \\)\"\n",
    "    match = re.match(pattern, s_expression)\n",
    "    \n",
    "    if match:\n",
    "        predicate, entity = match.groups()\n",
    "        return f\"SELECT (COUNT(?obj) AS ?value ) {{ wd:{entity} wdt:{predicate} ?obj }}\"\n",
    "    \n",
    "    return None\n",
    "\n",
    "# Test case\n",
    "s_expression = \"( COUNT ( JOIN ( R P1121 ) Q670 ) )\"\n",
    "sparql_query = convert_s_expression_to_sparql_15(s_expression)\n",
    "print(sparql_query)"
   ]
  },
  {
   "cell_type": "code",
   "execution_count": 264,
   "metadata": {},
   "outputs": [
    {
     "name": "stdout",
     "output_type": "stream",
     "text": [
      "SELECT DISTINCT ?answer WHERE { wd:Q309153 wdt:P2363 ?answer }\n"
     ]
    }
   ],
   "source": [
    "def convert_s_expression_to_sparql_16(s_expression):\n",
    "    pattern = r\"\\( JOIN \\( R (\\w+) \\) (\\w+) \\)\"\n",
    "    match = re.match(pattern, s_expression)\n",
    "    \n",
    "    if match:\n",
    "        predicate, entity = match.groups()\n",
    "        return f\"SELECT DISTINCT ?answer WHERE {{ wd:{entity} wdt:{predicate} ?answer }}\"\n",
    "    \n",
    "    return None\n",
    "\n",
    "# Test case\n",
    "s_expression = \"( JOIN ( R P2363 ) Q309153 )\"\n",
    "sparql_query = convert_s_expression_to_sparql_16(s_expression)\n",
    "print(sparql_query)"
   ]
  },
  {
   "cell_type": "code",
   "execution_count": 265,
   "metadata": {},
   "outputs": [
    {
     "name": "stdout",
     "output_type": "stream",
     "text": [
      "SELECT DISTINCT ?sbj ?sbj_label WHERE { \n",
      "            ?sbj wdt:P31 wd:Q403523 . \n",
      "            ?sbj wdt:P155 wd:Q188654 . \n",
      "            ?sbj rdfs:label ?sbj_label . \n",
      "            FILTER(STRSTARTS(lcase(?sbj_label), 'c')) . \n",
      "            FILTER (lang(?sbj_label) = 'en') \n",
      "        } LIMIT 25\n"
     ]
    }
   ],
   "source": [
    "def convert_s_expression_to_sparql_17(s_expression):\n",
    "    pattern = r\"\\( CHAR \\( AND \\( JOIN (\\w+) (\\w+) \\) \\( JOIN (\\w+) (\\w+) \\) \\) ['\\\"](.*?)['\\\"] \\)\"\n",
    "    match = re.match(pattern, s_expression)\n",
    "    \n",
    "    if match:\n",
    "        pred1, obj1, pred2, obj2, char = match.groups()\n",
    "        return f\"\"\"SELECT DISTINCT ?sbj ?sbj_label WHERE {{ \n",
    "            ?sbj wdt:{pred1} wd:{obj1} . \n",
    "            ?sbj wdt:{pred2} wd:{obj2} . \n",
    "            ?sbj rdfs:label ?sbj_label . \n",
    "            FILTER(STRSTARTS(lcase(?sbj_label), '{char}')) . \n",
    "            FILTER (lang(?sbj_label) = 'en') \n",
    "        }} LIMIT 25\"\"\"\n",
    "    \n",
    "    return None\n",
    "\n",
    "# Test case\n",
    "s_expression = \"( CHAR ( AND ( JOIN P31 Q403523 ) ( JOIN P155 Q188654 ) ) 'c' )\"\n",
    "sparql_query = convert_s_expression_to_sparql_17(s_expression)\n",
    "print(sparql_query)"
   ]
  },
  {
   "cell_type": "code",
   "execution_count": null,
   "metadata": {},
   "outputs": [
    {
     "name": "stdout",
     "output_type": "stream",
     "text": [
      "ASK WHERE { wd:Q56008 wdt:P451 wd:Q242015 }\n"
     ]
    }
   ],
   "source": [
    "def convert_s_expression_to_sparql_18(s_expression):\n",
    "    pattern = r\"\\( ASK \\( (\\w+) (\\w+) (\\w+) \\) \\)\"\n",
    "    match = re.match(pattern, s_expression)\n",
    "    \n",
    "    if match:\n",
    "        entity, predicate, obj = match.groups()\n",
    "        return f\"ASK WHERE {{ wd:{entity} wdt:{predicate} wd:{obj} }}\"\n",
    "    \n",
    "    return None\n",
    "\n",
    "# Test case\n",
    "s_expression = \"( ASK ( Q56008 P451 Q242015 ) )\"\n",
    "sparql_query = convert_s_expression_to_sparql_18(s_expression)\n",
    "print(sparql_query)"
   ]
  },
  {
   "cell_type": "code",
   "execution_count": 267,
   "metadata": {},
   "outputs": [
    {
     "name": "stdout",
     "output_type": "stream",
     "text": [
      "SELECT DISTINCT ?sbj ?sbj_label WHERE { \n",
      "            ?sbj wdt:P31 wd:Q755707 . \n",
      "            ?sbj rdfs:label ?sbj_label . \n",
      "            FILTER(CONTAINS(lcase(?sbj_label), 'øyer')) . \n",
      "            FILTER (lang(?sbj_label) = 'en') \n",
      "        } LIMIT 25\n"
     ]
    }
   ],
   "source": [
    "def convert_s_expression_to_sparql_19(s_expression):\n",
    "    pattern = r\"\\( WORD \\( JOIN (\\w+) (\\w+) \\) ['\\\"](.*?)['\\\"] \\)\"\n",
    "    match = re.match(pattern, s_expression)\n",
    "    \n",
    "    if match:\n",
    "        predicate, obj, word = match.groups()\n",
    "        return f\"\"\"SELECT DISTINCT ?sbj ?sbj_label WHERE {{ \n",
    "            ?sbj wdt:{predicate} wd:{obj} . \n",
    "            ?sbj rdfs:label ?sbj_label . \n",
    "            FILTER(CONTAINS(lcase(?sbj_label), '{word}')) . \n",
    "            FILTER (lang(?sbj_label) = 'en') \n",
    "        }} LIMIT 25\"\"\"\n",
    "    \n",
    "    return None\n",
    "\n",
    "# Test case\n",
    "s_expression = \"( WORD ( JOIN P31 Q755707 ) 'øyer' )\"\n",
    "sparql_query = convert_s_expression_to_sparql_19(s_expression)\n",
    "print(sparql_query)"
   ]
  },
  {
   "cell_type": "code",
   "execution_count": 268,
   "metadata": {},
   "outputs": [
    {
     "name": "stdout",
     "output_type": "stream",
     "text": [
      "SELECT ?answer WHERE { wd:Q10640455 wdt:P171 ?X . ?X wdt:P105 ?answer }\n"
     ]
    }
   ],
   "source": [
    "def convert_s_expression_to_sparql_20(s_expression):\n",
    "    pattern = r\"\\( JOIN \\( R (\\w+) \\) \\( JOIN \\( R (\\w+) \\) (\\w+) \\) \\)\"\n",
    "    match = re.match(pattern, s_expression)\n",
    "    \n",
    "    if match:\n",
    "        rel2, rel1, entity = match.groups()\n",
    "        return f\"SELECT ?answer WHERE {{ wd:{entity} wdt:{rel1} ?X . ?X wdt:{rel2} ?answer }}\"\n",
    "    \n",
    "    return None\n",
    "\n",
    "# Test case\n",
    "s_expression = \"( JOIN ( R P105 ) ( JOIN ( R P171 ) Q10640455 ) )\"\n",
    "sparql_query = convert_s_expression_to_sparql_20(s_expression)\n",
    "print(sparql_query)\n"
   ]
  },
  {
   "cell_type": "code",
   "execution_count": null,
   "metadata": {},
   "outputs": [
    {
     "name": "stdout",
     "output_type": "stream",
     "text": [
      "SELECT ?obj WHERE { \n",
      "            wd:Q43067 p:P735 ?s . \n",
      "            ?s ps:P735 ?obj . \n",
      "            ?s pq:P1545 ?x filter(contains(?x,'1')) \n",
      "        }\n"
     ]
    }
   ],
   "source": [
    "def convert_s_expression_to_sparql_21(s_expression):\n",
    "    pattern = r\"\\( JOIN \\( R (\\w+) \\) \\( FILTER \\( JOIN \\( R (\\w+) \\) \\( JOIN \\( R (\\w+) \\) (\\w+) \\) \\) \\( ['\\\"](.*?)['\\\"] \\) \\) \\)\"\n",
    "    match = re.match(pattern, s_expression)\n",
    "    \n",
    "    if match:\n",
    "        pred1, pred2, pred3, entity, value = match.groups()\n",
    "        return f\"\"\"SELECT ?obj WHERE {{ \n",
    "            wd:{entity} p:{pred1} ?s . \n",
    "            ?s ps:{pred1} ?obj . \n",
    "            ?s pq:{pred2} ?x filter(contains(?x,'{value}')) \n",
    "        }}\"\"\"\n",
    "    \n",
    "    return None\n",
    "\n",
    "# Test case\n",
    "s_expression = \"( JOIN ( R P735 ) ( FILTER ( JOIN ( R P1545 ) ( JOIN ( R P735 ) Q43067 ) ) ( '1' ) ) )\"\n",
    "\n",
    "sparql_query = convert_s_expression_to_sparql_21(s_expression)\n",
    "print(sparql_query)"
   ]
  },
  {
   "cell_type": "code",
   "execution_count": 270,
   "metadata": {},
   "outputs": [
    {
     "name": "stdout",
     "output_type": "stream",
     "text": [
      "SELECT ?answer WHERE { \n",
      "            wd:Q77117 wdt:P19 ?answer . \n",
      "            ?answer wdt:P1082 ?x FILTER(contains(?x,'101165.0')) \n",
      "        }\n"
     ]
    }
   ],
   "source": [
    "\n",
    "def convert_s_expression_to_sparql_22(s_expression):\n",
    "    pattern = r\"\\( JOIN \\( R (\\w+) \\) \\( FILTER \\( JOIN \\( R (\\w+) \\) (\\w+) \\) \\( ['\\\"](.*?)['\\\"] \\) \\) \\)\"\n",
    "    match = re.match(pattern, s_expression)\n",
    "    \n",
    "    if match:\n",
    "        rel1, rel2, entity, value = match.groups()\n",
    "        return f\"\"\"SELECT ?answer WHERE {{ \n",
    "            wd:{entity} wdt:{rel1} ?answer . \n",
    "            ?answer wdt:{rel2} ?x FILTER(contains(?x,'{value}')) \n",
    "        }}\"\"\"\n",
    "    \n",
    "    return None\n",
    "\n",
    "# Test case\n",
    "s_expression = \"( JOIN ( R P19 ) ( FILTER ( JOIN ( R P1082 ) Q77117 ) ( '101165.0' ) ) )\"\n",
    "\n",
    "sparql_query = convert_s_expression_to_sparql_22(s_expression)\n",
    "print(sparql_query)"
   ]
  },
  {
   "cell_type": "code",
   "execution_count": 271,
   "metadata": {},
   "outputs": [
    {
     "name": "stdout",
     "output_type": "stream",
     "text": [
      "SELECT ?obj WHERE { \n",
      "            wd:Q1045 p:P1082 ?s . \n",
      "            ?s ps:P1082 ?obj . \n",
      "            ?s pq:P585 ?x filter(contains(YEAR(?x),'2009')) \n",
      "        }\n"
     ]
    }
   ],
   "source": [
    "def convert_s_expression_to_sparql_23(s_expression):\n",
    "    pattern = r\"\\( JOIN \\( R (\\w+) \\) \\( FILTER \\( JOIN \\( R (\\w+) \\) \\( JOIN \\( R (\\w+) \\) (\\w+) \\) \\) \\( ['\\\"](.*?)['\\\"] \\) \\) \\)\"\n",
    "    match = re.match(pattern, s_expression)\n",
    "    \n",
    "    if match:\n",
    "        pred1, pred2, pred3, entity, value = match.groups()\n",
    "        return f\"\"\"SELECT ?obj WHERE {{ \n",
    "            wd:{entity} p:{pred3} ?s . \n",
    "            ?s ps:{pred3} ?obj . \n",
    "            ?s pq:{pred2} ?x filter(contains(YEAR(?x),'{value}')) \n",
    "        }}\"\"\"\n",
    "    \n",
    "    return None\n",
    "\n",
    "# Test case\n",
    "s_expression = \"( JOIN ( R P1082 ) ( FILTER ( JOIN ( R P585 ) ( JOIN ( R P1082 ) Q1045 ) ) ( '2009' ) ) )\"\n",
    "sparql_query = convert_s_expression_to_sparql_23(s_expression)\n",
    "print(sparql_query)\n"
   ]
  },
  {
   "cell_type": "code",
   "execution_count": 272,
   "metadata": {},
   "outputs": [
    {
     "name": "stdout",
     "output_type": "stream",
     "text": [
      "SELECT ?answer WHERE { \n",
      "            wd:Q860385 wdt:P138 ?answer . \n",
      "            ?answer wdt:P570 ?x FILTER(contains(YEAR(?x),'1602')) \n",
      "        }\n"
     ]
    }
   ],
   "source": [
    "def convert_s_expression_to_sparql_24(s_expression):\n",
    "    pattern = r\"\\( FILTER \\( JOIN \\( R (\\w+) \\) \\( JOIN \\( R (\\w+) \\) (\\w+) \\) \\) \\( YEAR ['\\\"](.*?)['\\\"] \\) \\)\"\n",
    "    match = re.match(pattern, s_expression)\n",
    "    \n",
    "    if match:\n",
    "        rel2, rel1, entity, value = match.groups()\n",
    "        return f\"\"\"SELECT ?answer WHERE {{ \n",
    "            wd:{entity} wdt:{rel1} ?answer . \n",
    "            ?answer wdt:{rel2} ?x FILTER(contains(YEAR(?x),'{value}')) \n",
    "        }}\"\"\"\n",
    "    \n",
    "    return None\n",
    "\n",
    "# Test case\n",
    "s_expression = \"( FILTER ( JOIN ( R P570 ) ( JOIN ( R P138 ) Q860385 ) ) ( YEAR '1602' ) )\"\n",
    "sparql_query = convert_s_expression_to_sparql_24(s_expression)\n",
    "print(sparql_query)"
   ]
  },
  {
   "cell_type": "code",
   "execution_count": 273,
   "metadata": {},
   "outputs": [
    {
     "name": "stdout",
     "output_type": "stream",
     "text": [
      "SELECT DISTINCT ?sbj ?sbj_label WHERE { \n",
      "            ?sbj wdt:P31 wd:Q11410 . \n",
      "            ?sbj rdfs:label ?sbj_label . \n",
      "            FILTER(STRSTARTS(lcase(?sbj_label), 'z')) . \n",
      "            FILTER (lang(?sbj_label) = 'en') \n",
      "        } LIMIT 25\n"
     ]
    }
   ],
   "source": [
    "\n",
    "def convert_s_expression_to_sparql_25(s_expression):\n",
    "    pattern = r\"\\( WORD \\( JOIN (\\w+) (\\w+) \\) ['\\\"](.*?)['\\\"] \\)\"\n",
    "    match = re.match(pattern, s_expression)\n",
    "    \n",
    "    if match:\n",
    "        predicate, obj, word = match.groups()\n",
    "        return f\"\"\"SELECT DISTINCT ?sbj ?sbj_label WHERE {{ \n",
    "            ?sbj wdt:{predicate} wd:{obj} . \n",
    "            ?sbj rdfs:label ?sbj_label . \n",
    "            FILTER(STRSTARTS(lcase(?sbj_label), '{word}')) . \n",
    "            FILTER (lang(?sbj_label) = 'en') \n",
    "        }} LIMIT 25\"\"\"\n",
    "    \n",
    "    return None\n",
    "\n",
    "# Test case\n",
    "s_expression = \"( WORD ( JOIN P31 Q11410 ) 'z' )\"\n",
    "sparql_query = convert_s_expression_to_sparql_25(s_expression)\n",
    "print(sparql_query)"
   ]
  },
  {
   "cell_type": "code",
   "execution_count": 274,
   "metadata": {},
   "outputs": [
    {
     "name": "stdout",
     "output_type": "stream",
     "text": [
      "S-expression: ( COUNT ( JOIN ( R P1029 ) Q190776 ) )\n",
      "SPARQL: SELECT (COUNT(?obj) AS ?value ) { wd:Q190776 wdt:P1029 ?obj }\n",
      "\n"
     ]
    }
   ],
   "source": [
    "conversion_functions = [\n",
    "    convert_s_expression_to_sparql_1, convert_s_expression_to_sparql_2, convert_s_expression_to_sparql_3,\n",
    "    convert_s_expression_to_sparql_4, convert_s_expression_to_sparql_5, convert_s_expression_to_sparql_6,\n",
    "    convert_s_expression_to_sparql_7, convert_s_expression_to_sparql_8, convert_s_expression_to_sparql_9,\n",
    "    convert_s_expression_to_sparql_10, convert_s_expression_to_sparql_11, convert_s_expression_to_sparql_12,\n",
    "    convert_s_expression_to_sparql_13, convert_s_expression_to_sparql_14, convert_s_expression_to_sparql_15,\n",
    "    convert_s_expression_to_sparql_16, convert_s_expression_to_sparql_17, convert_s_expression_to_sparql_18,\n",
    "    convert_s_expression_to_sparql_19, convert_s_expression_to_sparql_20, convert_s_expression_to_sparql_21,\n",
    "    convert_s_expression_to_sparql_22, convert_s_expression_to_sparql_23, convert_s_expression_to_sparql_24,\n",
    "    convert_s_expression_to_sparql_25\n",
    "]\n",
    "\n",
    "def convert_s_expression_to_sparql(s_expression):\n",
    "    \"\"\"\n",
    "    Chuyển đổi S-expression sang SPARQL bằng cách thử từng template phù hợp.\n",
    "    \"\"\"\n",
    "    for func in conversion_functions:\n",
    "        sparql_query = func(s_expression)\n",
    "        if sparql_query:\n",
    "            return sparql_query  # Trả về SPARQL nếu có kết quả hợp lệ\n",
    "\n",
    "    return \"UNKNOWN\"  # Trả về UNKNOWN nếu không khớp với bất kỳ mẫu nào\n",
    "\n",
    "# Ví dụ kiểm thử\n",
    "test_s_expressions = [\n",
    "    \"( COUNT ( JOIN ( R P1029 ) Q190776 ) )\",\n",
    "]\n",
    "\n",
    "for s_exp in test_s_expressions:\n",
    "    sparql_result = convert_s_expression_to_sparql(s_exp)\n",
    "    print(f\"S-expression: {s_exp}\")\n",
    "    print(f\"SPARQL: {sparql_result}\\n\")"
   ]
  },
  {
   "cell_type": "code",
   "execution_count": 276,
   "metadata": {},
   "outputs": [
    {
     "name": "stdout",
     "output_type": "stream",
     "text": [
      "✅ Kiểm tra hoàn tất. Kết quả được lưu vào failed_conversions.txt\n"
     ]
    }
   ],
   "source": [
    "import json\n",
    "\n",
    "def check_s_expression_conversion(input_file, output_file):\n",
    "    with open(input_file, 'r', encoding='utf-8') as f:\n",
    "        data = json.load(f)\n",
    "\n",
    "    failed_conversions = []  # Danh sách các mục không thể chuyển đổi\n",
    "\n",
    "    for entry in data:\n",
    "        s_expression = entry.get(\"s_expression\", \"\")\n",
    "        sparql_query = convert_s_expression_to_sparql(s_expression)\n",
    "\n",
    "        if sparql_query == \"UNKNOWN\":\n",
    "            failed_conversions.append(entry)  # Lưu lại mục không thể chuyển đổi\n",
    "\n",
    "    # Ghi các mục không thể chuyển đổi vào file .txt\n",
    "    with open(output_file, 'w', encoding='utf-8') as f:\n",
    "        if failed_conversions:\n",
    "            f.write(\"⚠️ Các điểm dữ liệu không thể chuyển đổi:\\n\\n\")\n",
    "            for entry in failed_conversions:\n",
    "                f.write(json.dumps(entry, indent=4, ensure_ascii=False) + \"\\n\\n\")\n",
    "        else:\n",
    "            f.write(\"✅ Tất cả dữ liệu đã được chuyển đổi thành công!\\n\")\n",
    "\n",
    "    print(f\"✅ Kiểm tra hoàn tất. Kết quả được lưu vào {output_file}\")\n",
    "\n",
    "# Run check\n",
    "input_file = \"train_with_s_expression.json\"\n",
    "output_file = \"failed_conversions.txt\"\n",
    "check_s_expression_conversion(input_file, output_file)\n"
   ]
  }
 ],
 "metadata": {
  "kernelspec": {
   "display_name": "py38",
   "language": "python",
   "name": "python3"
  },
  "language_info": {
   "codemirror_mode": {
    "name": "ipython",
    "version": 3
   },
   "file_extension": ".py",
   "mimetype": "text/x-python",
   "name": "python",
   "nbconvert_exporter": "python",
   "pygments_lexer": "ipython3",
   "version": "3.8.20"
  }
 },
 "nbformat": 4,
 "nbformat_minor": 2
}
