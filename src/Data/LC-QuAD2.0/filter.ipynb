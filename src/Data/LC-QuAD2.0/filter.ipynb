{
 "cells": [
  {
   "cell_type": "code",
   "execution_count": 1,
   "metadata": {},
   "outputs": [],
   "source": [
    "import json\n",
    "import re\n",
    "import requests\n",
    "from tqdm import tqdm\n",
    "import time\n",
    "from concurrent.futures import ThreadPoolExecutor, as_completed\n",
    "MAX_THREADS = 10 \n",
    "WIKIDATA_SPARQL_ENDPOINT = \"https://query.wikidata.org/sparql\"\n",
    "WIKIDATA_API_ENDPOINT = \"https://www.wikidata.org/w/api.php\"\n",
    "\n",
    "def query_wikidata(sparql_query):\n",
    "    \"\"\"Truy vấn Wikidata và trả về kết quả phù hợp với từng loại truy vấn\"\"\"\n",
    "    headers = {\"User-Agent\": \"Mozilla/5.0\", \"Accept\": \"application/sparql-results+json\"}\n",
    "    response = requests.get(WIKIDATA_SPARQL_ENDPOINT, params={\"query\": sparql_query, \"format\": \"json\"}, headers=headers)\n",
    "\n",
    "    if response.status_code == 200:\n",
    "        data = response.json()\n",
    "\n",
    "        # Xử lý truy vấn ASK (boolean)\n",
    "        if \"boolean\" in data:\n",
    "            return data[\"boolean\"]\n",
    "\n",
    "        # Xử lý truy vấn SELECT (trả về bindings)\n",
    "        results = data.get(\"results\", {}).get(\"bindings\", [])\n",
    "        answers = []\n",
    "\n",
    "        for result in results:\n",
    "            for var in result:  # Duyệt qua tất cả các biến trả về\n",
    "                value = result[var][\"value\"]\n",
    "                answers.append(value)  # Chấp nhận tất cả giá trị, không chỉ thực thể Wikidata\n",
    "\n",
    "        return answers  # Trả về toàn bộ danh sách kết quả\n",
    "\n",
    "    return None  # Trả về None nếu lỗi xảy ra\n",
    " # Trả về danh sách rỗng nếu có lỗi\n",
    "\n",
    "\n",
    "def get_wikidata_label(entity_id):\n",
    "    \"\"\" Lấy nhãn (label) tiếng Việt hoặc tiếng Anh của một thực thể/quan hệ \"\"\"\n",
    "    params = {\n",
    "        \"action\": \"wbgetentities\",\n",
    "        \"ids\": entity_id,\n",
    "        \"languages\": \"vi|en\",\n",
    "        \"format\": \"json\",\n",
    "    }\n",
    "    response = requests.get(WIKIDATA_API_ENDPOINT, params=params)\n",
    "    if response.status_code == 200:\n",
    "        data = response.json()\n",
    "        labels = data.get(\"entities\", {}).get(entity_id, {}).get(\"labels\", {})\n",
    "        return labels.get(\"vi\", {}).get(\"value\") or labels.get(\"en\", {}).get(\"value\") or entity_id\n",
    "    return entity_id\n",
    "\n",
    "def extract_entities_relations(sparql_query):\n",
    "    \"\"\" Trích xuất các thực thể (QID) và quan hệ (PID) từ SPARQL \"\"\"\n",
    "    entities = set(re.findall(r\"wd:(Q\\d+)\", sparql_query))\n",
    "    relations = set(re.findall(r\"wdt:(P\\d+)|p:(P\\d+)|ps:(P\\d+)|pq:(P\\d+)\", sparql_query))\n",
    "    relations = {r for t in relations for r in t if r}  # Xử lý tuple match\n",
    "    return list(entities), list(relations)\n",
    "\n",
    "def convert_s_expression_to_nor_s_expr(s_expression, entity_map, relation_map):\n",
    "    \"\"\" Chuyển s_expression thành nor_s_expr bằng cách thay thế mã Q/P bằng nhãn \"\"\"\n",
    "    def replace_match(match):\n",
    "        code = match.group(0)\n",
    "        return f\"[ {entity_map.get(code, relation_map.get(code, code))} ]\"\n",
    "\n",
    "    return re.sub(r\"Q\\d+|P\\d+\", replace_match, s_expression)\n",
    "\n",
    "def preprocess_question(question):\n",
    "    \"\"\" Loại bỏ dấu `{}` trong câu hỏi \"\"\"\n",
    "    return re.sub(r\"[{}]\", \"\", question)\n",
    "\n"
   ]
  },
  {
   "cell_type": "code",
   "execution_count": null,
   "metadata": {},
   "outputs": [
    {
     "name": "stdout",
     "output_type": "stream",
     "text": [
      "🔄 Bắt đầu xử lý 5590 điểm dữ liệu với 10 luồng...\n",
      "\n"
     ]
    },
    {
     "name": "stderr",
     "output_type": "stream",
     "text": [
      "⏳ Đang xử lý:  29%|██▉       | 1617/5590 [26:16<59:09,  1.12câu/s]  "
     ]
    },
    {
     "name": "stdout",
     "output_type": "stream",
     "text": [
      "❌ Lỗi khi xử lý câu hỏi 1274: expected string or bytes-like object\n"
     ]
    },
    {
     "name": "stderr",
     "output_type": "stream",
     "text": [
      "⏳ Đang xử lý:  38%|███▊      | 2112/5590 [32:49<1:00:45,  1.05s/câu]"
     ]
    },
    {
     "name": "stdout",
     "output_type": "stream",
     "text": [
      "❌ Lỗi khi xử lý câu hỏi 1656: expected string or bytes-like object\n"
     ]
    },
    {
     "name": "stderr",
     "output_type": "stream",
     "text": [
      "⏳ Đang xử lý:  49%|████▉     | 2754/5590 [41:22<39:32,  1.20câu/s]  "
     ]
    },
    {
     "name": "stdout",
     "output_type": "stream",
     "text": [
      "❌ Lỗi khi xử lý câu hỏi 2175: expected string or bytes-like object\n"
     ]
    },
    {
     "name": "stderr",
     "output_type": "stream",
     "text": [
      "⏳ Đang xử lý:  57%|█████▋    | 3165/5590 [46:42<28:01,  1.44câu/s]"
     ]
    },
    {
     "name": "stdout",
     "output_type": "stream",
     "text": [
      "❌ Lỗi khi xử lý câu hỏi 2501: expected string or bytes-like object\n"
     ]
    },
    {
     "name": "stderr",
     "output_type": "stream",
     "text": [
      "⏳ Đang xử lý:  57%|█████▋    | 3205/5590 [47:09<43:57,  1.11s/câu]"
     ]
    },
    {
     "name": "stdout",
     "output_type": "stream",
     "text": [
      "❌ Lỗi khi xử lý câu hỏi 2529: expected string or bytes-like object\n"
     ]
    },
    {
     "name": "stderr",
     "output_type": "stream",
     "text": [
      "⏳ Đang xử lý:  57%|█████▋    | 3211/5590 [47:14<38:42,  1.02câu/s]"
     ]
    },
    {
     "name": "stdout",
     "output_type": "stream",
     "text": [
      "❌ Lỗi khi xử lý câu hỏi 2534: expected string or bytes-like object\n"
     ]
    },
    {
     "name": "stderr",
     "output_type": "stream",
     "text": [
      "⏳ Đang xử lý:  65%|██████▌   | 3635/5590 [52:42<26:13,  1.24câu/s]"
     ]
    },
    {
     "name": "stdout",
     "output_type": "stream",
     "text": [
      "❌ Lỗi khi xử lý câu hỏi 2868: expected string or bytes-like object\n"
     ]
    },
    {
     "name": "stderr",
     "output_type": "stream",
     "text": [
      "⏳ Đang xử lý:  72%|███████▏  | 4018/5590 [58:13<26:55,  1.03s/câu]  "
     ]
    },
    {
     "name": "stdout",
     "output_type": "stream",
     "text": [
      "❌ Lỗi khi xử lý câu hỏi 3188: expected string or bytes-like object\n"
     ]
    },
    {
     "name": "stderr",
     "output_type": "stream",
     "text": [
      "⏳ Đang xử lý:  78%|███████▊  | 4367/5590 [1:02:59<20:02,  1.02câu/s]"
     ]
    },
    {
     "name": "stdout",
     "output_type": "stream",
     "text": [
      "❌ Lỗi khi xử lý câu hỏi 3470: expected string or bytes-like object\n"
     ]
    },
    {
     "name": "stderr",
     "output_type": "stream",
     "text": [
      "⏳ Đang xử lý:  81%|████████  | 4506/5590 [1:04:48<16:40,  1.08câu/s]"
     ]
    },
    {
     "name": "stdout",
     "output_type": "stream",
     "text": [
      "❌ Lỗi khi xử lý câu hỏi 3581: expected string or bytes-like object\n"
     ]
    },
    {
     "name": "stderr",
     "output_type": "stream",
     "text": [
      "⏳ Đang xử lý:  83%|████████▎ | 4613/5590 [1:06:09<12:13,  1.33câu/s]"
     ]
    },
    {
     "name": "stdout",
     "output_type": "stream",
     "text": [
      "❌ Lỗi khi xử lý câu hỏi 3660: expected string or bytes-like object\n"
     ]
    },
    {
     "name": "stderr",
     "output_type": "stream",
     "text": [
      "⏳ Đang xử lý:  83%|████████▎ | 4655/5590 [1:06:43<14:34,  1.07câu/s]"
     ]
    },
    {
     "name": "stdout",
     "output_type": "stream",
     "text": [
      "❌ Lỗi khi xử lý câu hỏi 3693: expected string or bytes-like object\n"
     ]
    },
    {
     "name": "stderr",
     "output_type": "stream",
     "text": [
      "⏳ Đang xử lý:  84%|████████▍ | 4705/5590 [1:07:23<10:23,  1.42câu/s]"
     ]
    },
    {
     "name": "stdout",
     "output_type": "stream",
     "text": [
      "❌ Lỗi khi xử lý câu hỏi 3731: expected string or bytes-like object\n"
     ]
    },
    {
     "name": "stderr",
     "output_type": "stream",
     "text": [
      "⏳ Đang xử lý:  90%|████████▉ | 5012/5590 [1:11:23<08:34,  1.12câu/s]"
     ]
    },
    {
     "name": "stdout",
     "output_type": "stream",
     "text": [
      "❌ Lỗi khi xử lý câu hỏi 3983: expected string or bytes-like object\n"
     ]
    },
    {
     "name": "stderr",
     "output_type": "stream",
     "text": [
      "⏳ Đang xử lý: 100%|██████████| 5590/5590 [1:19:04<00:00,  1.18câu/s]\n"
     ]
    },
    {
     "name": "stdout",
     "output_type": "stream",
     "text": [
      "\n",
      "✅ Xử lý hoàn tất! Kết quả được lưu vào test_filtered.json\n",
      "⏳ Tổng thời gian xử lý: 4744.77 giây (79.08 phút)\n",
      "\n"
     ]
    }
   ],
   "source": [
    "def process_test_file(input_file, output_file):\n",
    "    with open(input_file, 'r', encoding='utf-8') as f:\n",
    "        data = json.load(f)\n",
    "\n",
    "    processed_data = []\n",
    "    question_id = 1  # Biến đếm tự động\n",
    "\n",
    "    print(f\"🔄 Bắt đầu xử lý {len(data)} điểm dữ liệu với {MAX_THREADS} luồng...\\n\")\n",
    "    start_time = time.time()  # Bắt đầu đo thời gian\n",
    "\n",
    "    with ThreadPoolExecutor(max_workers=MAX_THREADS) as executor:\n",
    "        future_to_entry = {executor.submit(query_wikidata, entry.get(\"sparql_wikidata\", \"\")): entry for entry in data}\n",
    "        \n",
    "        for future in tqdm(as_completed(future_to_entry), total=len(data), desc=\"⏳ Đang xử lý\", unit=\"câu\"):\n",
    "            entry = future_to_entry[future]\n",
    "            try:\n",
    "                answers = future.result()\n",
    "                if not answers:\n",
    "                    continue  # Bỏ qua điểm dữ liệu không có câu trả lời\n",
    "\n",
    "                # Xử lý tiếp nếu có câu trả lời\n",
    "                sparql_query = entry.get(\"sparql_wikidata\", \"\")\n",
    "                question = preprocess_question(entry.get(\"question\", \"\"))\n",
    "                s_expression = entry.get(\"s_expression\", \"\")\n",
    "                entities, relations = extract_entities_relations(sparql_query)\n",
    "\n",
    "                # Truy vấn song song để lấy nhãn thực thể và quan hệ\n",
    "                entity_map = {}\n",
    "                relation_map = {}\n",
    "\n",
    "                entity_futures = {executor.submit(get_wikidata_label, qid): qid for qid in entities}\n",
    "                relation_futures = {executor.submit(get_wikidata_label, pid): pid for pid in relations}\n",
    "\n",
    "                for future in as_completed(entity_futures):\n",
    "                    entity_map[entity_futures[future]] = future.result()\n",
    "\n",
    "                for future in as_completed(relation_futures):\n",
    "                    relation_map[relation_futures[future]] = future.result()\n",
    "\n",
    "                # Chuyển s_expression thành nor_s_expr\n",
    "                nor_s_expr = convert_s_expression_to_nor_s_expr(s_expression, entity_map, relation_map) if s_expression else \"\"\n",
    "\n",
    "                processed_data.append({\n",
    "                    \"question_id\": question_id,\n",
    "                    \"question\": question,\n",
    "                    \"sparql\": sparql_query,\n",
    "                    \"answer\": answers,\n",
    "                    \"s_expr\": s_expression,\n",
    "                    \"nor_s_expr\": nor_s_expr,\n",
    "                    \"gold_entity_map\": entity_map,\n",
    "                    \"gold_relation_map\": relation_map\n",
    "                })\n",
    "                question_id += 1  # Tăng số thứ tự\n",
    "\n",
    "            except Exception as e:\n",
    "                print(f\"❌ Lỗi khi xử lý câu hỏi {question_id}: {e}\")\n",
    "\n",
    "    end_time = time.time()  # Kết thúc đo thời gian\n",
    "    total_time = end_time - start_time\n",
    "\n",
    "    with open(output_file, 'w', encoding='utf-8') as f:\n",
    "        json.dump(processed_data, f, indent=4, ensure_ascii=False)\n",
    "\n",
    "    print(f\"\\n✅ Xử lý hoàn tất! Kết quả được lưu vào {output_file}\")\n",
    "    print(f\"⏳ Tổng thời gian xử lý: {total_time:.2f} giây ({total_time/60:.2f} phút)\\n\")\n",
    "\n",
    "# Chạy chương trình\n",
    "input_file = \"s_expression/test_with_s_expression.json\"\n",
    "output_file = \"filter/test_filtered.json\"\n",
    "process_test_file(input_file, output_file)\n"
   ]
  },
  {
   "cell_type": "code",
   "execution_count": null,
   "metadata": {},
   "outputs": [
    {
     "name": "stdout",
     "output_type": "stream",
     "text": [
      "🔄 Bắt đầu xử lý 22462 điểm dữ liệu với 10 luồng...\n",
      "\n"
     ]
    },
    {
     "name": "stderr",
     "output_type": "stream",
     "text": [
      "⏳ Đang xử lý:   2%|▏         | 501/22462 [21:54<5:33:06,  1.10câu/s]  "
     ]
    },
    {
     "name": "stdout",
     "output_type": "stream",
     "text": [
      "❌ Lỗi khi xử lý câu hỏi 385: expected string or bytes-like object\n"
     ]
    },
    {
     "name": "stderr",
     "output_type": "stream",
     "text": [
      "⏳ Đang xử lý:   3%|▎         | 576/22462 [22:51<4:10:25,  1.46câu/s]"
     ]
    },
    {
     "name": "stdout",
     "output_type": "stream",
     "text": [
      "❌ Lỗi khi xử lý câu hỏi 442: expected string or bytes-like object\n"
     ]
    },
    {
     "name": "stderr",
     "output_type": "stream",
     "text": [
      "⏳ Đang xử lý:   3%|▎         | 717/22462 [24:46<5:31:42,  1.09câu/s]"
     ]
    },
    {
     "name": "stdout",
     "output_type": "stream",
     "text": [
      "❌ Lỗi khi xử lý câu hỏi 559: expected string or bytes-like object\n"
     ]
    },
    {
     "name": "stderr",
     "output_type": "stream",
     "text": [
      "⏳ Đang xử lý:   5%|▍         | 1013/22462 [28:36<6:00:32,  1.01s/câu]"
     ]
    },
    {
     "name": "stdout",
     "output_type": "stream",
     "text": [
      "❌ Lỗi khi xử lý câu hỏi 787: expected string or bytes-like object\n"
     ]
    },
    {
     "name": "stderr",
     "output_type": "stream",
     "text": [
      "⏳ Đang xử lý:   5%|▌         | 1211/22462 [31:10<4:24:48,  1.34câu/s]"
     ]
    },
    {
     "name": "stdout",
     "output_type": "stream",
     "text": [
      "❌ Lỗi khi xử lý câu hỏi 942: expected string or bytes-like object\n"
     ]
    },
    {
     "name": "stderr",
     "output_type": "stream",
     "text": [
      "⏳ Đang xử lý:  11%|█         | 2484/22462 [47:13<5:11:03,  1.07câu/s]"
     ]
    },
    {
     "name": "stdout",
     "output_type": "stream",
     "text": [
      "❌ Lỗi khi xử lý câu hỏi 1929: expected string or bytes-like object\n"
     ]
    },
    {
     "name": "stderr",
     "output_type": "stream",
     "text": [
      "⏳ Đang xử lý:  17%|█▋        | 3860/22462 [1:05:38<3:38:23,  1.42câu/s]"
     ]
    },
    {
     "name": "stdout",
     "output_type": "stream",
     "text": [
      "❌ Lỗi khi xử lý câu hỏi 3019: expected string or bytes-like object\n"
     ]
    },
    {
     "name": "stderr",
     "output_type": "stream",
     "text": [
      "⏳ Đang xử lý:  17%|█▋        | 3891/22462 [1:05:58<3:40:16,  1.41câu/s]"
     ]
    },
    {
     "name": "stdout",
     "output_type": "stream",
     "text": [
      "❌ Lỗi khi xử lý câu hỏi 3040: expected string or bytes-like object\n"
     ]
    },
    {
     "name": "stderr",
     "output_type": "stream",
     "text": [
      "⏳ Đang xử lý:  21%|██▏       | 4817/22462 [1:18:29<3:24:39,  1.44câu/s]"
     ]
    },
    {
     "name": "stdout",
     "output_type": "stream",
     "text": [
      "❌ Lỗi khi xử lý câu hỏi 3789: expected string or bytes-like object\n"
     ]
    },
    {
     "name": "stderr",
     "output_type": "stream",
     "text": [
      "⏳ Đang xử lý:  22%|██▏       | 4931/22462 [1:19:56<3:39:28,  1.33câu/s]"
     ]
    },
    {
     "name": "stdout",
     "output_type": "stream",
     "text": [
      "❌ Lỗi khi xử lý câu hỏi 3879: expected string or bytes-like object\n"
     ]
    },
    {
     "name": "stderr",
     "output_type": "stream",
     "text": [
      "⏳ Đang xử lý:  22%|██▏       | 4976/22462 [1:20:31<4:19:47,  1.12câu/s]"
     ]
    },
    {
     "name": "stdout",
     "output_type": "stream",
     "text": [
      "❌ Lỗi khi xử lý câu hỏi 3916: expected string or bytes-like object\n"
     ]
    },
    {
     "name": "stderr",
     "output_type": "stream",
     "text": [
      "⏳ Đang xử lý:  23%|██▎       | 5256/22462 [1:24:19<3:52:43,  1.23câu/s]"
     ]
    },
    {
     "name": "stdout",
     "output_type": "stream",
     "text": [
      "❌ Lỗi khi xử lý câu hỏi 4132: expected string or bytes-like object\n"
     ]
    },
    {
     "name": "stderr",
     "output_type": "stream",
     "text": [
      "⏳ Đang xử lý:  25%|██▍       | 5527/22462 [1:28:01<3:43:40,  1.26câu/s]"
     ]
    },
    {
     "name": "stdout",
     "output_type": "stream",
     "text": [
      "❌ Lỗi khi xử lý câu hỏi 4348: expected string or bytes-like object\n"
     ]
    },
    {
     "name": "stderr",
     "output_type": "stream",
     "text": [
      "⏳ Đang xử lý:  27%|██▋       | 5978/22462 [1:34:01<4:33:07,  1.01câu/s]"
     ]
    },
    {
     "name": "stdout",
     "output_type": "stream",
     "text": [
      "❌ Lỗi khi xử lý câu hỏi 4712: expected string or bytes-like object\n"
     ]
    },
    {
     "name": "stderr",
     "output_type": "stream",
     "text": [
      "⏳ Đang xử lý:  29%|██▉       | 6463/22462 [1:40:18<4:22:54,  1.01câu/s]"
     ]
    },
    {
     "name": "stdout",
     "output_type": "stream",
     "text": [
      "❌ Lỗi khi xử lý câu hỏi 5082: expected string or bytes-like object\n"
     ]
    },
    {
     "name": "stderr",
     "output_type": "stream",
     "text": [
      "⏳ Đang xử lý:  32%|███▏      | 7258/22462 [1:50:43<4:03:38,  1.04câu/s]"
     ]
    },
    {
     "name": "stdout",
     "output_type": "stream",
     "text": [
      "❌ Lỗi khi xử lý câu hỏi 5716: expected string or bytes-like object\n"
     ]
    },
    {
     "name": "stderr",
     "output_type": "stream",
     "text": [
      "⏳ Đang xử lý:  35%|███▌      | 7888/22462 [1:59:26<2:12:00,  1.84câu/s]"
     ]
    },
    {
     "name": "stdout",
     "output_type": "stream",
     "text": [
      "❌ Lỗi khi xử lý câu hỏi 6210: Response ended prematurely\n"
     ]
    },
    {
     "name": "stderr",
     "output_type": "stream",
     "text": [
      "⏳ Đang xử lý:  43%|████▎     | 9624/22462 [2:22:49<3:05:01,  1.16câu/s]"
     ]
    },
    {
     "name": "stdout",
     "output_type": "stream",
     "text": [
      "❌ Lỗi khi xử lý câu hỏi 7595: expected string or bytes-like object\n"
     ]
    },
    {
     "name": "stderr",
     "output_type": "stream",
     "text": [
      "⏳ Đang xử lý:  49%|████▉     | 11052/22462 [2:42:12<1:40:12,  1.90câu/s]"
     ]
    },
    {
     "name": "stdout",
     "output_type": "stream",
     "text": [
      "❌ Lỗi khi xử lý câu hỏi 8731: expected string or bytes-like object\n"
     ]
    },
    {
     "name": "stderr",
     "output_type": "stream",
     "text": [
      "⏳ Đang xử lý:  50%|█████     | 11292/22462 [2:45:20<2:20:06,  1.33câu/s]"
     ]
    },
    {
     "name": "stdout",
     "output_type": "stream",
     "text": [
      "❌ Lỗi khi xử lý câu hỏi 8909: expected string or bytes-like object\n"
     ]
    },
    {
     "name": "stderr",
     "output_type": "stream",
     "text": [
      "⏳ Đang xử lý:  51%|█████     | 11475/22462 [2:47:46<2:38:29,  1.16câu/s]"
     ]
    },
    {
     "name": "stdout",
     "output_type": "stream",
     "text": [
      "❌ Lỗi khi xử lý câu hỏi 9052: expected string or bytes-like object\n"
     ]
    },
    {
     "name": "stderr",
     "output_type": "stream",
     "text": [
      "⏳ Đang xử lý:  52%|█████▏    | 11674/22462 [2:50:28<2:50:13,  1.06câu/s]"
     ]
    },
    {
     "name": "stdout",
     "output_type": "stream",
     "text": [
      "❌ Lỗi khi xử lý câu hỏi 9201: expected string or bytes-like object\n"
     ]
    },
    {
     "name": "stderr",
     "output_type": "stream",
     "text": [
      "⏳ Đang xử lý:  57%|█████▋    | 12819/22462 [3:06:43<1:59:38,  1.34câu/s]"
     ]
    },
    {
     "name": "stdout",
     "output_type": "stream",
     "text": [
      "❌ Lỗi khi xử lý câu hỏi 10101: expected string or bytes-like object\n"
     ]
    },
    {
     "name": "stderr",
     "output_type": "stream",
     "text": [
      "⏳ Đang xử lý:  66%|██████▌   | 14774/22462 [3:34:11<1:56:05,  1.10câu/s]"
     ]
    },
    {
     "name": "stdout",
     "output_type": "stream",
     "text": [
      "❌ Lỗi khi xử lý câu hỏi 11658: expected string or bytes-like object\n"
     ]
    },
    {
     "name": "stderr",
     "output_type": "stream",
     "text": [
      "⏳ Đang xử lý:  67%|██████▋   | 15053/22462 [3:37:39<2:05:24,  1.02s/câu]"
     ]
    },
    {
     "name": "stdout",
     "output_type": "stream",
     "text": [
      "❌ Lỗi khi xử lý câu hỏi 11858: Response ended prematurely\n"
     ]
    },
    {
     "name": "stderr",
     "output_type": "stream",
     "text": [
      "⏳ Đang xử lý:  71%|███████   | 16002/22462 [3:50:27<1:06:04,  1.63câu/s]"
     ]
    },
    {
     "name": "stdout",
     "output_type": "stream",
     "text": [
      "❌ Lỗi khi xử lý câu hỏi 12618: expected string or bytes-like object\n"
     ]
    },
    {
     "name": "stderr",
     "output_type": "stream",
     "text": [
      "⏳ Đang xử lý:  81%|████████▏ | 18278/22462 [4:21:21<46:37,  1.50câu/s]  "
     ]
    },
    {
     "name": "stdout",
     "output_type": "stream",
     "text": [
      "❌ Lỗi khi xử lý câu hỏi 14438: expected string or bytes-like object\n"
     ]
    },
    {
     "name": "stderr",
     "output_type": "stream",
     "text": [
      "⏳ Đang xử lý:  83%|████████▎ | 18598/22462 [4:25:20<49:59,  1.29câu/s]  "
     ]
    },
    {
     "name": "stdout",
     "output_type": "stream",
     "text": [
      "❌ Lỗi khi xử lý câu hỏi 14682: expected string or bytes-like object\n"
     ]
    },
    {
     "name": "stderr",
     "output_type": "stream",
     "text": [
      "⏳ Đang xử lý:  85%|████████▍ | 18991/22462 [4:30:16<49:05,  1.18câu/s]  "
     ]
    },
    {
     "name": "stdout",
     "output_type": "stream",
     "text": [
      "❌ Lỗi khi xử lý câu hỏi 14987: expected string or bytes-like object\n"
     ]
    },
    {
     "name": "stderr",
     "output_type": "stream",
     "text": [
      "⏳ Đang xử lý:  88%|████████▊ | 19835/22462 [4:40:39<37:43,  1.16câu/s]  "
     ]
    },
    {
     "name": "stdout",
     "output_type": "stream",
     "text": [
      "❌ Lỗi khi xử lý câu hỏi 15617: expected string or bytes-like object\n"
     ]
    },
    {
     "name": "stderr",
     "output_type": "stream",
     "text": [
      "⏳ Đang xử lý:  90%|████████▉ | 20158/22462 [4:44:39<43:00,  1.12s/câu]"
     ]
    },
    {
     "name": "stdout",
     "output_type": "stream",
     "text": [
      "❌ Lỗi khi xử lý câu hỏi 15854: expected string or bytes-like object\n"
     ]
    },
    {
     "name": "stderr",
     "output_type": "stream",
     "text": [
      "⏳ Đang xử lý:  93%|█████████▎| 20825/22462 [4:53:09<23:31,  1.16câu/s]"
     ]
    },
    {
     "name": "stdout",
     "output_type": "stream",
     "text": [
      "❌ Lỗi khi xử lý câu hỏi 16367: expected string or bytes-like object\n"
     ]
    },
    {
     "name": "stderr",
     "output_type": "stream",
     "text": [
      "⏳ Đang xử lý:  93%|█████████▎| 20972/22462 [4:54:47<12:20,  2.01câu/s]"
     ]
    },
    {
     "name": "stdout",
     "output_type": "stream",
     "text": [
      "❌ Lỗi khi xử lý câu hỏi 16473: expected string or bytes-like object\n"
     ]
    },
    {
     "name": "stderr",
     "output_type": "stream",
     "text": [
      "⏳ Đang xử lý:  95%|█████████▍| 21288/22462 [4:59:09<16:59,  1.15câu/s]"
     ]
    },
    {
     "name": "stdout",
     "output_type": "stream",
     "text": [
      "❌ Lỗi khi xử lý câu hỏi 16718: expected string or bytes-like object\n"
     ]
    },
    {
     "name": "stderr",
     "output_type": "stream",
     "text": [
      "⏳ Đang xử lý:  96%|█████████▌| 21545/22462 [5:02:32<13:35,  1.12câu/s]"
     ]
    },
    {
     "name": "stdout",
     "output_type": "stream",
     "text": [
      "❌ Lỗi khi xử lý câu hỏi 16923: expected string or bytes-like object\n"
     ]
    },
    {
     "name": "stderr",
     "output_type": "stream",
     "text": [
      "⏳ Đang xử lý:  98%|█████████▊| 22030/22462 [5:08:51<05:10,  1.39câu/s]"
     ]
    },
    {
     "name": "stdout",
     "output_type": "stream",
     "text": [
      "❌ Lỗi khi xử lý câu hỏi 17302: expected string or bytes-like object\n"
     ]
    },
    {
     "name": "stderr",
     "output_type": "stream",
     "text": [
      "⏳ Đang xử lý: 100%|██████████| 22462/22462 [5:14:06<00:00,  1.19câu/s]\n"
     ]
    },
    {
     "name": "stdout",
     "output_type": "stream",
     "text": [
      "❌ Lỗi khi xử lý câu hỏi 17614: Expecting ':' delimiter: line 15270484 column 17 (char 360513536)\n",
      "\n",
      "✅ Xử lý hoàn tất! Kết quả được lưu vào train_filtered.json\n",
      "⏳ Tổng thời gian xử lý: 18846.94 giây (314.12 phút)\n",
      "\n"
     ]
    }
   ],
   "source": [
    "input_file2 = \"s_expression/train_with_s_expression.json\"\n",
    "output_file2 = \"filter/train_filtered.json\"\n",
    "process_test_file(input_file2, output_file2)"
   ]
  }
 ],
 "metadata": {
  "kernelspec": {
   "display_name": "py38",
   "language": "python",
   "name": "python3"
  },
  "language_info": {
   "codemirror_mode": {
    "name": "ipython",
    "version": 3
   },
   "file_extension": ".py",
   "mimetype": "text/x-python",
   "name": "python",
   "nbconvert_exporter": "python",
   "pygments_lexer": "ipython3",
   "version": "3.8.20"
  }
 },
 "nbformat": 4,
 "nbformat_minor": 2
}
