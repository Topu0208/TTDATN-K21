{
 "cells": [
  {
   "cell_type": "code",
   "execution_count": 3,
   "metadata": {},
   "outputs": [
    {
     "name": "stdout",
     "output_type": "stream",
     "text": [
      "Tỉ lệ template trong tập train:\n",
      "template_3: 14.78%\n",
      "template_4: 11.95%\n",
      "template_16: 13.71%\n",
      "template_12: 4.32%\n",
      "template_19: 7.54%\n",
      "template_21: 7.15%\n",
      "template_2: 1.35%\n",
      "template_13: 3.08%\n",
      "template_18: 1.24%\n",
      "template_15: 2.92%\n",
      "template_9: 9.71%\n",
      "template_8: 3.94%\n",
      "template_24: 0.41%\n",
      "template_7: 2.82%\n",
      "template_17: 0.85%\n",
      "template_10: 6.73%\n",
      "template_22: 0.94%\n",
      "template_6: 1.14%\n",
      "template_14: 3.56%\n",
      "template_5: 1.07%\n",
      "template_1: 0.80%\n"
     ]
    }
   ],
   "source": [
    "import json\n",
    "import random\n",
    "from collections import defaultdict, Counter\n",
    "from nor_to_sexpr import conversion_functions\n",
    "\n",
    "# Hàm xác định template\n",
    "def identify_template(expression):\n",
    "    for i, func in enumerate(conversion_functions, start=1):\n",
    "        if func(expression):\n",
    "            return f\"template_{i}\"\n",
    "    return \"UNKNOWN\"\n",
    "\n",
    "# Đọc dữ liệu từ file JSON\n",
    "with open(\"final_process/train_template.json\", \"r\", encoding=\"utf-8\") as f:\n",
    "    data = json.load(f)\n",
    "\n",
    "# Thêm thuộc tính template cho từng mẫu dữ liệu\n",
    "for sample in data:\n",
    "    sample[\"template\"] = identify_template(sample[\"s_expr\"])\n",
    "\n",
    "# Nhóm dữ liệu theo template\n",
    "template_map = defaultdict(list)\n",
    "for sample in data:\n",
    "    template = sample[\"template\"]\n",
    "    template_map[template].append(sample)\n",
    "\n",
    "# Chia tập train và validation theo tỷ lệ 85% - 15%\n",
    "train_set, validation_set = [], []\n",
    "for template, samples in template_map.items():\n",
    "    random.shuffle(samples)\n",
    "    split_idx = int(0.85 * len(samples))\n",
    "    train_set.extend(samples[:split_idx])\n",
    "    validation_set.extend(samples[split_idx:])\n",
    "\n",
    "# Thống kê tỉ lệ template trong từng tập\n",
    "def calculate_template_distribution(dataset):\n",
    "    total = len(dataset)\n",
    "    counter = Counter(sample[\"template\"] for sample in dataset)\n",
    "    return {template: f\"{(count / total) * 100:.2f}%\" for template, count in counter.items()}\n",
    "\n",
    "template_distribution_train = calculate_template_distribution(train_set)\n",
    "template_distribution_validation = calculate_template_distribution(validation_set)\n",
    "\n",
    "# Xuất kết quả ra file\n",
    "with open(\"final_process/LC-QuAD2.0_train.json\", \"w\", encoding=\"utf-8\") as f:\n",
    "    json.dump(train_set, f, indent=4, ensure_ascii=False)\n",
    "\n",
    "with open(\"final_process/LC-QuAD2.0_dev.json\", \"w\", encoding=\"utf-8\") as f:\n",
    "    json.dump(validation_set, f, indent=4, ensure_ascii=False)\n",
    "\n",
    "# Hiển thị thống kê tỉ lệ template trong từng tập\n",
    "print(\"Tỉ lệ template trong tập train:\")\n",
    "for template, percentage in template_distribution_train.items():\n",
    "    print(f\"{template}: {percentage}\")\n",
    "\n"
   ]
  },
  {
   "cell_type": "code",
   "execution_count": 4,
   "metadata": {},
   "outputs": [
    {
     "name": "stdout",
     "output_type": "stream",
     "text": [
      "\n",
      "Tỉ lệ template trong validation:\n",
      "template_3: 14.74%\n",
      "template_4: 11.91%\n",
      "template_16: 13.68%\n",
      "template_12: 4.33%\n",
      "template_19: 7.54%\n",
      "template_21: 7.12%\n",
      "template_2: 1.36%\n",
      "template_13: 3.09%\n",
      "template_18: 1.24%\n",
      "template_15: 2.94%\n",
      "template_9: 9.69%\n",
      "template_8: 3.96%\n",
      "template_24: 0.41%\n",
      "template_7: 2.83%\n",
      "template_17: 0.87%\n",
      "template_10: 6.71%\n",
      "template_22: 0.94%\n",
      "template_6: 1.17%\n",
      "template_14: 3.58%\n",
      "template_5: 1.09%\n",
      "template_1: 0.79%\n"
     ]
    }
   ],
   "source": [
    "print(\"\\nTỉ lệ template trong validation:\")\n",
    "for template, percentage in template_distribution_validation.items():\n",
    "    print(f\"{template}: {percentage}\")\n"
   ]
  }
 ],
 "metadata": {
  "kernelspec": {
   "display_name": "chatkbqa",
   "language": "python",
   "name": "python3"
  },
  "language_info": {
   "codemirror_mode": {
    "name": "ipython",
    "version": 3
   },
   "file_extension": ".py",
   "mimetype": "text/x-python",
   "name": "python",
   "nbconvert_exporter": "python",
   "pygments_lexer": "ipython3",
   "version": "3.8.20"
  }
 },
 "nbformat": 4,
 "nbformat_minor": 2
}
