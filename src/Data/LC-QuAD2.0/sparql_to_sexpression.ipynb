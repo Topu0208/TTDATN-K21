{
 "cells": [
  {
   "cell_type": "code",
   "execution_count": 15,
   "metadata": {},
   "outputs": [],
   "source": [
    "import json\n",
    "import re\n",
    "\n",
    "# Define 20 functions for 20 templates\n",
    "def convert_template_1(sparql_query):\n",
    "    pattern = r'ASK WHERE \\{ wd:(Q\\d+) wdt:(P\\d+) wd:(Q\\d+) \\. wd:\\1 wdt:\\2 wd:(Q\\d+)(?:.) \\}'\n",
    "    match = re.match(pattern, sparql_query)\n",
    "    if match:\n",
    "        entity, predicate, obj1, obj2 = match.groups()\n",
    "        return f\"( ASK ( AND ( {entity} {predicate} {obj1} ) ( {entity} {predicate} {obj2} ) ) )\"\n",
    "    return None\n",
    "\n",
    "def convert_template_2(sparql_query):\n",
    "    pattern = r'select \\?ent where \\{ \\?ent wdt:(P\\d+) wd:(Q\\d+) . \\?ent wdt:(P\\d+) \\?obj \\} ORDER BY DESC\\(\\?obj\\)LIMIT 5'\n",
    "    match = re.match(pattern, sparql_query)\n",
    "    if match:\n",
    "        rel1, type_entity, rel2 = match.groups()\n",
    "        return f\"( MAX ( JOIN ( R {rel2} ) ( JOIN {rel1} {type_entity} ) ) )\"\n",
    "    return None\n",
    "\n",
    "def convert_template_3(sparql_query):\n",
    "    pattern = r'SELECT \\?answer WHERE \\{ wd:(Q\\d+) wdt:(P\\d+) \\?X . \\?X wdt:(P\\d+) \\?answer\\}'\n",
    "    match = re.match(pattern, sparql_query)\n",
    "    if match:\n",
    "        entity, rel1, rel2 = match.groups()\n",
    "        return f\"( JOIN ( R {rel2} ) ( JOIN ( R {rel1} ) {entity} ) )\"\n",
    "    return None\n",
    "\n",
    "def convert_template_4(sparql_query):\n",
    "    pattern = r' select distinct \\?obj where \\{ wd:(Q\\d+) wdt:(P\\d+) \\?obj . \\?obj wdt:(P\\d+) wd:(Q\\d+) \\}'\n",
    "    match = re.match(pattern, sparql_query)\n",
    "    if match:\n",
    "        en1, rel1, rel2, en2 = match.groups()\n",
    "        return f\"( AND ( JOIN ( R {rel1} ) {en1} ) ( JOIN {rel2} {en2} ) )\"\n",
    "    return None\n",
    "\n",
    "def convert_template_5(sparql_query):\n",
    "    pattern = r'select \\?ent where \\{ \\?ent wdt:(P\\d+) wd:(Q\\d+) . \\?ent wdt:(P\\d+) \\?obj . \\?ent wdt:(P\\d+) wd:(Q\\d+)\\.?\\ ?\\} ORDER BY ASC\\(\\?obj\\)LIMIT 5'\n",
    "    match = re.match(pattern, sparql_query)\n",
    "    if match:\n",
    "        rel1, obj1, rel, rel2, obj2 = match.groups()\n",
    "        return f\"( MIN ( JOIN ( R {rel} ) ( AND ( JOIN {rel1} {obj1} ) ( JOIN {rel2} {obj2} ) ) ) )\"\n",
    "    return None\n",
    "\n",
    "def convert_template_6(sparql_query):\n",
    "    pattern = r'select \\?ent where \\{ \\?ent wdt:(P\\d+) wd:(Q\\d+) . \\?ent wdt:(P\\d+) \\?obj . \\?ent wdt:(P\\d+) wd:(Q\\d+)\\ ?\\} ORDER BY DESC\\(\\?obj\\)LIMIT 5'\n",
    "    match = re.match(pattern, sparql_query)\n",
    "    if match:\n",
    "        rel1, obj1, rel, rel2, obj2 = match.groups()\n",
    "        return f\"( MAX ( JOIN ( R {rel} ) ( AND ( JOIN {rel1} {obj1} ) ( JOIN {rel2} {obj2} ) ) ) )\"\n",
    "    return None\n",
    "\n",
    "def convert_template_7(sparql_query):\n",
    "    pattern = r'select distinct \\?answer where \\{ \\?answer wdt:(P\\d+) wd:(Q\\d+)\\}'\n",
    "    match = re.match(pattern, sparql_query)\n",
    "    if match:\n",
    "        predicate, obj = match.groups()\n",
    "        return f\"( JOIN {predicate} {obj} )\"\n",
    "    return None\n",
    "\n",
    "def convert_template_8(sparql_query):\n",
    "    pattern = r'SELECT \\?obj WHERE \\{ wd:(Q\\d+) p:(P\\d+) \\?s . \\?s ps:\\2 \\?obj . \\?s pq:(P\\d+) wd:(Q\\d+) \\}'\n",
    "    match = re.match(pattern, sparql_query)\n",
    "    if match:\n",
    "        entity, pred, qualifier, qual_obj = match.groups()\n",
    "        return f\"( JOIN ( R {pred} ) ( AND ( JOIN ( R {pred} ) {entity} ) ( JOIN {qualifier} {qual_obj} ) ) )\"\n",
    "    return None\n",
    "\n",
    "def convert_template_9(sparql_query):\n",
    "    pattern = r'SELECT \\?value WHERE \\{ wd:(Q\\d+) p:(P\\d+) \\?s . \\?s ps:\\2 wd:(Q\\d+) . \\?s pq:(P\\d+) \\?value\\}'\n",
    "    match = re.match(pattern, sparql_query)\n",
    "    if match:\n",
    "        entity, pred, obj, qualifier = match.groups()\n",
    "        return f\"( JOIN ( R {qualifier} ) ( AND ( JOIN ( R {pred} ) {entity} ) ( JOIN {pred} {obj} ) ) )\"\n",
    "    return None\n",
    "\n",
    "def convert_template_10(sparql_query):\n",
    "    pattern = r' select distinct \\?sbj where \\{ \\?sbj wdt:(P\\d+) wd:(Q\\d+) . \\?sbj wdt:(P\\d+) wd:(Q\\d+) \\}'\n",
    "    match = re.match(pattern, sparql_query)\n",
    "    if match:\n",
    "        pred, obj,p2, type_obj = match.groups()\n",
    "        return f\"( AND ( JOIN {pred} {obj} ) ( JOIN {p2} {type_obj} ) )\"\n",
    "    return None\n",
    "\n"
   ]
  },
  {
   "cell_type": "code",
   "execution_count": null,
   "metadata": {},
   "outputs": [],
   "source": []
  },
  {
   "cell_type": "code",
   "execution_count": 16,
   "metadata": {},
   "outputs": [],
   "source": [
    "# Define functions for specific templates\n",
    "def convert_template_11(sparql_query):\n",
    "    pattern = r'SELECT \\?answer WHERE \\{ wd:(Q\\d+) wdt:(P\\d+) \\?answer . \\?answer wdt:(P\\d+) wd:(Q\\d+)\\}'\n",
    "    match = re.match(pattern, sparql_query)\n",
    "    if match:\n",
    "        entity, rel1, rel2, obj = match.groups()\n",
    "        return f\"( AND ( JOIN ( R {rel1} ) {entity} ) ( JOIN {rel2} {obj} ) )\"\n",
    "    return None\n",
    "\n",
    "def convert_template_12(sparql_query):\n",
    "    pattern = r'ASK WHERE \\{ wd:(Q\\d+) wdt:(P\\d+) \\?obj filter\\(\\?obj\\s*(=|>=|<=|>|<)\\s*(\\d+(\\.\\d+)?)\\) \\}'\n",
    "    match = re.match(pattern, sparql_query)\n",
    "    if match:\n",
    "        entity, predicate, operator, value, _ = match.groups()\n",
    "        return f\"( ASK ( {operator} ( JOIN ( R {predicate} ) {entity} ) {value} ) )\"\n",
    "    return None\n",
    "\n",
    "def convert_template_13(sparql_query):\n",
    "    pattern = r'SELECT \\?ans_1 \\?ans_2 WHERE \\{ wd:(Q\\d+) wdt:(P\\d+) \\?ans_1 . wd:\\1 wdt:(P\\d+) \\?ans_2 \\}'\n",
    "    match = re.match(pattern, sparql_query)\n",
    "    if match:\n",
    "        entity, pred1, pred2 = match.groups()\n",
    "        return f\"( JOIN ( R {pred1} ) {entity} ) ( JOIN ( R {pred2} ) {entity} )\"\n",
    "    return None\n",
    "\n",
    "def convert_template_14(sparql_query):\n",
    "    pattern = r'SELECT \\(COUNT\\(\\?sub\\) AS \\?value \\) \\{ \\?sub wdt:(P\\d+) wd:(Q\\d+) \\}'\n",
    "    match = re.match(pattern, sparql_query)\n",
    "    if match:\n",
    "        predicate, obj = match.groups()\n",
    "        return f\"( COUNT ( JOIN {predicate} {obj} ) )\"\n",
    "    return None\n",
    "\n",
    "def convert_template_15(sparql_query):\n",
    "    pattern = r'SELECT \\(COUNT\\(\\?obj\\) AS \\?value \\) \\{ wd:(Q\\d+) wdt:(P\\d+) \\?obj \\}'\n",
    "    match = re.match(pattern, sparql_query)\n",
    "    if match:\n",
    "        entity, predicate = match.groups()\n",
    "        return f\"( COUNT ( JOIN ( R {predicate} ) {entity} ) )\"\n",
    "    return None\n"
   ]
  },
  {
   "cell_type": "code",
   "execution_count": 17,
   "metadata": {},
   "outputs": [
    {
     "data": {
      "text/plain": [
       "'( AND ( JOIN ( R P26 ) Q113904 ) ( JOIN P40 Q2841495 ) )'"
      ]
     },
     "execution_count": 17,
     "metadata": {},
     "output_type": "execute_result"
    }
   ],
   "source": [
    "convert_template_11(\"SELECT ?answer WHERE { wd:Q113904 wdt:P26 ?answer . ?answer wdt:P40 wd:Q2841495}\")"
   ]
  },
  {
   "cell_type": "code",
   "execution_count": 18,
   "metadata": {},
   "outputs": [
    {
     "data": {
      "text/plain": [
       "'( ASK ( AND ( Q174843 P106 Q1804811 ) ( Q174843 P106 Q3323 ) ) )'"
      ]
     },
     "execution_count": 18,
     "metadata": {},
     "output_type": "execute_result"
    }
   ],
   "source": [
    "convert_template_1(\"ASK WHERE { wd:Q174843 wdt:P106 wd:Q1804811 . wd:Q174843 wdt:P106 wd:Q33231 }\")"
   ]
  },
  {
   "cell_type": "code",
   "execution_count": 19,
   "metadata": {},
   "outputs": [],
   "source": [
    "def convert_template_16(sparql_query):\n",
    "    pattern = r'select distinct \\?answer where \\{ wd:(Q\\d+) wdt:(P\\d+) \\?answer\\}'\n",
    "    match = re.match(pattern, sparql_query)\n",
    "    if match:\n",
    "        entity, predicate = match.groups()\n",
    "        return f\"( JOIN ( R {predicate} ) {entity} )\"\n",
    "    return None\n",
    "\n",
    "def convert_template_17(sparql_query):\n",
    "    pattern = r\"SELECT DISTINCT \\?sbj \\?sbj_label WHERE \\{ \\?sbj wdt:(P\\d+) wd:(Q\\d+) . \\?sbj wdt:(P\\d+) wd:(Q\\d+) . .*? FILTER\\(STRSTARTS\\(lcase\\(\\?sbj_label\\), '(.*?)'\\)\\)\"\n",
    "    match = re.match(pattern, sparql_query)\n",
    "    if match:\n",
    "        pred1, obj1, pred2, obj2, char = match.groups()\n",
    "        return f\"( CHAR ( AND ( JOIN {pred1} {obj1} ) ( JOIN {pred2} {obj2} ) ) '{char}' )\"\n",
    "    return None\n",
    "\n",
    "def convert_template_18(sparql_query):\n",
    "    pattern = r'ASK WHERE \\{ wd:(Q\\d+) wdt:(P\\d+) wd:(Q\\d+) \\}'\n",
    "    match = re.match(pattern, sparql_query)\n",
    "    if match:\n",
    "        entity, predicate, obj = match.groups()\n",
    "        return f\"( ASK ( {entity} {predicate} {obj} ) )\"\n",
    "    return None\n",
    "\n",
    "def convert_template_19(sparql_query):\n",
    "    pattern = r\"SELECT DISTINCT \\?sbj \\?sbj_label WHERE \\{ \\?sbj wdt:(P\\d+) wd:(Q\\d+) . .*? FILTER\\(CONTAINS\\(lcase\\(\\?sbj_label\\), '(.*?)'\\)\\)\"\n",
    "    match = re.match(pattern, sparql_query)\n",
    "    if match:\n",
    "        predicate, obj, word = match.groups()\n",
    "        return f\"( WORD ( JOIN {predicate} {obj} ) '{word}' )\"\n",
    "    return None\n",
    "def convert_template_20(sparql_query):\n",
    "    pattern = r'SELECT \\?answer WHERE \\{ wd:(Q\\d+) wdt:(P\\d+) \\?X . \\?X wdt:(P\\d+) \\?answer\\}'\n",
    "    match = re.match(pattern, sparql_query)\n",
    "    if match:\n",
    "        entity, rel1, rel2 = match.groups()\n",
    "        return f\"( JOIN ( R {rel2} ) ( JOIN ( R {rel1} ) {entity} ) )\"\n",
    "    return None\n"
   ]
  },
  {
   "cell_type": "code",
   "execution_count": 20,
   "metadata": {},
   "outputs": [],
   "source": [
    "def convert_template_21(sparql_query):\n",
    "    pattern = r'SELECT \\?obj WHERE \\{ wd:(Q\\d+) p:(P\\d+) \\?s . \\?s ps:(P\\d+) \\?obj . \\?s pq:(P\\d+) \\?x filter\\(contains\\(\\?x,\\'(.*?)\\'\\)\\)\\ ?\\}'\n",
    "    match = re.match(pattern, sparql_query)\n",
    "    if match:\n",
    "        entity, pred1, pred2, pred3, value = match.groups()\n",
    "        return f\"( JOIN ( R {pred2} ) ( FILTER ( JOIN ( R {pred3} ) ( JOIN ( R {pred1} ) {entity} ) ) ( '{value}' ) ) )\"\n",
    "    return None\n",
    "\n",
    "def convert_template_22(sparql_query):\n",
    "    pattern = r\"SELECT \\?answer WHERE \\{ wd:(Q\\d+) wdt:(P\\d+) \\?answer . \\?answer wdt:(P\\d+) \\?x FILTER\\(contains\\(\\?x,\\'(.*?)'\\)\\)\\}\"\n",
    "    match = re.match(pattern, sparql_query)\n",
    "    if match:\n",
    "        entity, rel1, rel2, value = match.groups()\n",
    "        return f\"( JOIN ( R {rel1} ) ( FILTER ( JOIN ( R {rel2} ) {entity} ) ( '{value}' ) ) )\"\n",
    "    return None\n",
    "\n",
    "def convert_template_23(sparql_query):\n",
    "    pattern = r'SELECT \\?obj WHERE \\{ wd:(Q\\d+) p:(P\\d+) \\?s \\. \\?s ps:\\2 \\?obj \\. \\?s pq:(P\\d+) \\?x filter\\(contains\\(YEAR\\(\\?x\\),[\\'\\\"](.*?)[\\'\\\"]\\)\\) \\}'\n",
    "    match = re.match(pattern, sparql_query)\n",
    "    if match:\n",
    "        entity, pred1, pred2, value = match.groups()\n",
    "        return f\"( JOIN ( R {pred1} ) ( FILTER ( JOIN ( R {pred2} ) ( JOIN ( R {pred1} ) {entity} ) ) ( '{value}' ) ) )\"\n",
    "    return None\n",
    "def convert_template_24(sparql_query):\n",
    "    pattern = r\"SELECT \\?answer WHERE \\{ wd:(Q\\d+) wdt:(P\\d+) \\?answer . \\?answer wdt:(P\\d+) \\?x FILTER\\(contains\\(YEAR\\(\\?x\\),\\'(.*?)'\\)\\)\\}\"\n",
    "    match = re.match(pattern, sparql_query)\n",
    "    if match:\n",
    "        entity, rel1, rel2, value = match.groups()\n",
    "        return f\"( FILTER ( JOIN ( R {rel2} ) ( JOIN ( R {rel1} ) {entity} ) ) ( YEAR '{value}' ) )\"\n",
    "    return None\n",
    "\n",
    "def convert_template_25(sparql_query):\n",
    "    pattern = r\"SELECT DISTINCT \\?sbj \\?sbj_label WHERE \\{ \\?sbj wdt:(P\\d+) wd:(Q\\d+) . .*? FILTER\\(STRSTARTS\\(lcase\\(\\?sbj_label\\), ['\\\"](.*?)['\\\"]\\)\\) .*? FILTER \\(lang\\(\\?sbj_label\\) = ['\\\"]en['\\\"]\\) .*?\\}\"\n",
    "    match = re.match(pattern, sparql_query)\n",
    "    if match:\n",
    "        predicate, obj, word = match.groups()\n",
    "        return f\"( WORD ( JOIN {predicate} {obj} ) '{word}' )\"\n",
    "    return None"
   ]
  },
  {
   "cell_type": "code",
   "execution_count": 21,
   "metadata": {},
   "outputs": [
    {
     "name": "stdout",
     "output_type": "stream",
     "text": [
      "Conversion completed. Output saved to s_expression/test_with_s_expression.json\n"
     ]
    }
   ],
   "source": [
    "def convert_sparql_to_s_expression(sparql_query):\n",
    "    functions = [\n",
    "        convert_template_1, convert_template_2, convert_template_3, convert_template_4, convert_template_5,\n",
    "        convert_template_6, convert_template_7, convert_template_8, convert_template_9, convert_template_10,\n",
    "        convert_template_11, convert_template_12, convert_template_13, convert_template_14, convert_template_15,\n",
    "        convert_template_16, convert_template_17, convert_template_18, convert_template_19, convert_template_20,\n",
    "        convert_template_21, convert_template_22, convert_template_23, convert_template_24, convert_template_25\n",
    "    ]\n",
    "    for func in functions:\n",
    "        s_expression = func(sparql_query)\n",
    "        if s_expression:\n",
    "            return s_expression  # Trả về giá trị hợp lệ đầu tiên tìm thấy\n",
    "    return \"UNKNOWN\"\n",
    "\n",
    "def process_test_file(input_file, output_file):\n",
    "    with open(input_file, 'r', encoding='utf-8') as f:\n",
    "        data = json.load(f)\n",
    "    \n",
    "    filtered_data = []\n",
    "    \n",
    "    for entry in data:\n",
    "        sparql_query = entry.get(\"sparql_wikidata\", \"\")\n",
    "        s_expression = convert_sparql_to_s_expression(sparql_query)\n",
    "        \n",
    "        if s_expression != \"UNKNOWN\":\n",
    "            entry[\"s_expression\"] = s_expression\n",
    "            filtered_data.append(entry)  # Giữ lại điểm dữ liệu hợp lệ\n",
    "\n",
    "    # Ghi kết quả đã lọc vào tệp đầu ra\n",
    "    with open(output_file, 'w', encoding='utf-8') as f:\n",
    "        json.dump(filtered_data, f, indent=4, ensure_ascii=False)\n",
    "\n",
    "# Run conversion\n",
    "input_file = \"origin/test.json\"\n",
    "output_file = \"s_expression/test_with_s_expression.json\"\n",
    "process_test_file(input_file, output_file)\n",
    "print(f\"Conversion completed. Output saved to {output_file}\")"
   ]
  },
  {
   "cell_type": "code",
   "execution_count": 22,
   "metadata": {},
   "outputs": [
    {
     "name": "stdout",
     "output_type": "stream",
     "text": [
      "Conversion completed. Output saved to s_expression/train_with_s_expression.json\n"
     ]
    }
   ],
   "source": [
    "# Run conversion\n",
    "input_file = \"origin/train.json\"\n",
    "output_file = \"s_expression/train_with_s_expression.json\"\n",
    "process_test_file(input_file, output_file)\n",
    "print(f\"Conversion completed. Output saved to {output_file}\")"
   ]
  }
 ],
 "metadata": {
  "kernelspec": {
   "display_name": "chatkbqa",
   "language": "python",
   "name": "python3"
  },
  "language_info": {
   "codemirror_mode": {
    "name": "ipython",
    "version": 3
   },
   "file_extension": ".py",
   "mimetype": "text/x-python",
   "name": "python",
   "nbconvert_exporter": "python",
   "pygments_lexer": "ipython3",
   "version": "3.8.20"
  }
 },
 "nbformat": 4,
 "nbformat_minor": 2
}
